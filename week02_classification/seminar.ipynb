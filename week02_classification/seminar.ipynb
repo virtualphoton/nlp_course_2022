{
 "cells": [
  {
   "cell_type": "markdown",
   "metadata": {},
   "source": [
    "# Large scale text analysis with deep learning (3 points)\n",
    "\n",
    "Today we're gonna apply the newly learned tools for the task of predicting job salary.\n",
    "\n",
    "<img src=\"https://storage.googleapis.com/kaggle-competitions/kaggle/3342/media/salary%20prediction%20engine%20v2.png\" width=400px>\n",
    "\n",
    "_Special thanks to [Oleg Vasilev](https://github.com/Omrigan/) for the core assignment idea._"
   ]
  },
  {
   "cell_type": "code",
   "execution_count": 1,
   "metadata": {},
   "outputs": [],
   "source": [
    "import numpy as np\n",
    "import pandas as pd\n",
    "import matplotlib.pyplot as plt\n",
    "%matplotlib inline"
   ]
  },
  {
   "cell_type": "markdown",
   "metadata": {},
   "source": [
    "### About the challenge\n",
    "For starters, let's download and unpack the data from [here]. \n",
    "\n",
    "You can also get it from [yadisk url](https://yadi.sk/d/vVEOWPFY3NruT7) the competition [page](https://www.kaggle.com/c/job-salary-prediction/data) (pick `Train_rev1.*`)."
   ]
  },
  {
   "cell_type": "code",
   "execution_count": 2,
   "metadata": {},
   "outputs": [
    {
     "data": {
      "text/plain": [
       "(244768, 12)"
      ]
     },
     "execution_count": 2,
     "metadata": {},
     "output_type": "execute_result"
    }
   ],
   "source": [
    "# !wget https://ysda-seminars.s3.eu-central-1.amazonaws.com/Train_rev1.zip\n",
    "data = pd.read_csv(\"./Train_rev1.zip\", compression='zip', index_col=None)\n",
    "data.shape"
   ]
  },
  {
   "cell_type": "code",
   "execution_count": 3,
   "metadata": {},
   "outputs": [
    {
     "data": {
      "text/html": [
       "<div>\n",
       "<style scoped>\n",
       "    .dataframe tbody tr th:only-of-type {\n",
       "        vertical-align: middle;\n",
       "    }\n",
       "\n",
       "    .dataframe tbody tr th {\n",
       "        vertical-align: top;\n",
       "    }\n",
       "\n",
       "    .dataframe thead th {\n",
       "        text-align: right;\n",
       "    }\n",
       "</style>\n",
       "<table border=\"1\" class=\"dataframe\">\n",
       "  <thead>\n",
       "    <tr style=\"text-align: right;\">\n",
       "      <th></th>\n",
       "      <th>Id</th>\n",
       "      <th>Title</th>\n",
       "      <th>FullDescription</th>\n",
       "      <th>LocationRaw</th>\n",
       "      <th>LocationNormalized</th>\n",
       "      <th>ContractType</th>\n",
       "      <th>ContractTime</th>\n",
       "      <th>Company</th>\n",
       "      <th>Category</th>\n",
       "      <th>SalaryRaw</th>\n",
       "      <th>SalaryNormalized</th>\n",
       "      <th>SourceName</th>\n",
       "    </tr>\n",
       "  </thead>\n",
       "  <tbody>\n",
       "    <tr>\n",
       "      <th>0</th>\n",
       "      <td>12612628</td>\n",
       "      <td>Engineering Systems Analyst</td>\n",
       "      <td>Engineering Systems Analyst Dorking Surrey Sal...</td>\n",
       "      <td>Dorking, Surrey, Surrey</td>\n",
       "      <td>Dorking</td>\n",
       "      <td>NaN</td>\n",
       "      <td>permanent</td>\n",
       "      <td>Gregory Martin International</td>\n",
       "      <td>Engineering Jobs</td>\n",
       "      <td>20000 - 30000/annum 20-30K</td>\n",
       "      <td>25000</td>\n",
       "      <td>cv-library.co.uk</td>\n",
       "    </tr>\n",
       "    <tr>\n",
       "      <th>1</th>\n",
       "      <td>12612830</td>\n",
       "      <td>Stress Engineer Glasgow</td>\n",
       "      <td>Stress Engineer Glasgow Salary **** to **** We...</td>\n",
       "      <td>Glasgow, Scotland, Scotland</td>\n",
       "      <td>Glasgow</td>\n",
       "      <td>NaN</td>\n",
       "      <td>permanent</td>\n",
       "      <td>Gregory Martin International</td>\n",
       "      <td>Engineering Jobs</td>\n",
       "      <td>25000 - 35000/annum 25-35K</td>\n",
       "      <td>30000</td>\n",
       "      <td>cv-library.co.uk</td>\n",
       "    </tr>\n",
       "    <tr>\n",
       "      <th>2</th>\n",
       "      <td>12612844</td>\n",
       "      <td>Modelling and simulation analyst</td>\n",
       "      <td>Mathematical Modeller / Simulation Analyst / O...</td>\n",
       "      <td>Hampshire, South East, South East</td>\n",
       "      <td>Hampshire</td>\n",
       "      <td>NaN</td>\n",
       "      <td>permanent</td>\n",
       "      <td>Gregory Martin International</td>\n",
       "      <td>Engineering Jobs</td>\n",
       "      <td>20000 - 40000/annum 20-40K</td>\n",
       "      <td>30000</td>\n",
       "      <td>cv-library.co.uk</td>\n",
       "    </tr>\n",
       "    <tr>\n",
       "      <th>3</th>\n",
       "      <td>12613049</td>\n",
       "      <td>Engineering Systems Analyst / Mathematical Mod...</td>\n",
       "      <td>Engineering Systems Analyst / Mathematical Mod...</td>\n",
       "      <td>Surrey, South East, South East</td>\n",
       "      <td>Surrey</td>\n",
       "      <td>NaN</td>\n",
       "      <td>permanent</td>\n",
       "      <td>Gregory Martin International</td>\n",
       "      <td>Engineering Jobs</td>\n",
       "      <td>25000 - 30000/annum 25K-30K negotiable</td>\n",
       "      <td>27500</td>\n",
       "      <td>cv-library.co.uk</td>\n",
       "    </tr>\n",
       "    <tr>\n",
       "      <th>4</th>\n",
       "      <td>12613647</td>\n",
       "      <td>Pioneer, Miser Engineering Systems Analyst</td>\n",
       "      <td>Pioneer, Miser  Engineering Systems Analyst Do...</td>\n",
       "      <td>Surrey, South East, South East</td>\n",
       "      <td>Surrey</td>\n",
       "      <td>NaN</td>\n",
       "      <td>permanent</td>\n",
       "      <td>Gregory Martin International</td>\n",
       "      <td>Engineering Jobs</td>\n",
       "      <td>20000 - 30000/annum 20-30K</td>\n",
       "      <td>25000</td>\n",
       "      <td>cv-library.co.uk</td>\n",
       "    </tr>\n",
       "  </tbody>\n",
       "</table>\n",
       "</div>"
      ],
      "text/plain": [
       "         Id                                              Title  \\\n",
       "0  12612628                        Engineering Systems Analyst   \n",
       "1  12612830                            Stress Engineer Glasgow   \n",
       "2  12612844                   Modelling and simulation analyst   \n",
       "3  12613049  Engineering Systems Analyst / Mathematical Mod...   \n",
       "4  12613647         Pioneer, Miser Engineering Systems Analyst   \n",
       "\n",
       "                                     FullDescription  \\\n",
       "0  Engineering Systems Analyst Dorking Surrey Sal...   \n",
       "1  Stress Engineer Glasgow Salary **** to **** We...   \n",
       "2  Mathematical Modeller / Simulation Analyst / O...   \n",
       "3  Engineering Systems Analyst / Mathematical Mod...   \n",
       "4  Pioneer, Miser  Engineering Systems Analyst Do...   \n",
       "\n",
       "                         LocationRaw LocationNormalized ContractType  \\\n",
       "0            Dorking, Surrey, Surrey            Dorking          NaN   \n",
       "1        Glasgow, Scotland, Scotland            Glasgow          NaN   \n",
       "2  Hampshire, South East, South East          Hampshire          NaN   \n",
       "3     Surrey, South East, South East             Surrey          NaN   \n",
       "4     Surrey, South East, South East             Surrey          NaN   \n",
       "\n",
       "  ContractTime                       Company          Category  \\\n",
       "0    permanent  Gregory Martin International  Engineering Jobs   \n",
       "1    permanent  Gregory Martin International  Engineering Jobs   \n",
       "2    permanent  Gregory Martin International  Engineering Jobs   \n",
       "3    permanent  Gregory Martin International  Engineering Jobs   \n",
       "4    permanent  Gregory Martin International  Engineering Jobs   \n",
       "\n",
       "                                SalaryRaw  SalaryNormalized        SourceName  \n",
       "0              20000 - 30000/annum 20-30K             25000  cv-library.co.uk  \n",
       "1              25000 - 35000/annum 25-35K             30000  cv-library.co.uk  \n",
       "2              20000 - 40000/annum 20-40K             30000  cv-library.co.uk  \n",
       "3  25000 - 30000/annum 25K-30K negotiable             27500  cv-library.co.uk  \n",
       "4              20000 - 30000/annum 20-30K             25000  cv-library.co.uk  "
      ]
     },
     "execution_count": 3,
     "metadata": {},
     "output_type": "execute_result"
    }
   ],
   "source": [
    "data.head()"
   ]
  },
  {
   "cell_type": "markdown",
   "metadata": {},
   "source": [
    "One problem with salary prediction is that it's oddly distributed: there are many people who are paid standard salaries and a few that get tons o money. The distribution is fat-tailed on the right side, which is inconvenient for MSE minimization.\n",
    "\n",
    "There are several techniques to combat this: using a different loss function, predicting log-target instead of raw target or even replacing targets with their percentiles among all salaries in the training set. We gonna use logarithm for now.\n",
    "\n",
    "_You can read more [in the official description](https://www.kaggle.com/c/job-salary-prediction#description)._"
   ]
  },
  {
   "cell_type": "code",
   "execution_count": 4,
   "metadata": {},
   "outputs": [
    {
     "data": {
      "image/png": "[encoded data removed]",
      "text/plain": [
       "<Figure size 800x400 with 2 Axes>"
      ]
     },
     "metadata": {},
     "output_type": "display_data"
    }
   ],
   "source": [
    "data['Log1pSalary'] = np.log1p(data['SalaryNormalized']).astype('float32')\n",
    "\n",
    "plt.figure(figsize=[8, 4])\n",
    "plt.subplot(1, 2, 1)\n",
    "plt.hist(data[\"SalaryNormalized\"], bins=20);\n",
    "\n",
    "plt.subplot(1, 2, 2)\n",
    "plt.hist(data['Log1pSalary'], bins=20);"
   ]
  },
  {
   "cell_type": "markdown",
   "metadata": {},
   "source": [
    "Our task is to predict one number, __Log1pSalary__.\n",
    "\n",
    "To do so, our model can access a number of features:\n",
    "* Free text: __`Title`__ and  __`FullDescription`__\n",
    "* Categorical: __`Category`__, __`Company`__, __`LocationNormalized`__, __`ContractType`__, and __`ContractTime`__."
   ]
  },
  {
   "cell_type": "code",
   "execution_count": 5,
   "metadata": {},
   "outputs": [
    {
     "data": {
      "text/html": [
       "<div>\n",
       "<style scoped>\n",
       "    .dataframe tbody tr th:only-of-type {\n",
       "        vertical-align: middle;\n",
       "    }\n",
       "\n",
       "    .dataframe tbody tr th {\n",
       "        vertical-align: top;\n",
       "    }\n",
       "\n",
       "    .dataframe thead th {\n",
       "        text-align: right;\n",
       "    }\n",
       "</style>\n",
       "<table border=\"1\" class=\"dataframe\">\n",
       "  <thead>\n",
       "    <tr style=\"text-align: right;\">\n",
       "      <th></th>\n",
       "      <th>Id</th>\n",
       "      <th>Title</th>\n",
       "      <th>FullDescription</th>\n",
       "      <th>LocationRaw</th>\n",
       "      <th>LocationNormalized</th>\n",
       "      <th>ContractType</th>\n",
       "      <th>ContractTime</th>\n",
       "      <th>Company</th>\n",
       "      <th>Category</th>\n",
       "      <th>SalaryRaw</th>\n",
       "      <th>SalaryNormalized</th>\n",
       "      <th>SourceName</th>\n",
       "      <th>Log1pSalary</th>\n",
       "    </tr>\n",
       "  </thead>\n",
       "  <tbody>\n",
       "    <tr>\n",
       "      <th>205348</th>\n",
       "      <td>72117299</td>\n",
       "      <td>Talent Development Manager</td>\n",
       "      <td>Job Title: Talent Development Manager Location...</td>\n",
       "      <td>West Central London, London</td>\n",
       "      <td>Covent Garden</td>\n",
       "      <td>NaN</td>\n",
       "      <td>permanent</td>\n",
       "      <td>Simplified Recruitment</td>\n",
       "      <td>Teaching Jobs</td>\n",
       "      <td>20000 - 23000/annum</td>\n",
       "      <td>21500</td>\n",
       "      <td>cv-library.co.uk</td>\n",
       "      <td>9.975855</td>\n",
       "    </tr>\n",
       "    <tr>\n",
       "      <th>48529</th>\n",
       "      <td>68608127</td>\n",
       "      <td>Nursery Manager</td>\n",
       "      <td>Nursery: Treetops Nursery, Epsom, Surrey Job t...</td>\n",
       "      <td>Surrey</td>\n",
       "      <td>Surrey</td>\n",
       "      <td>full_time</td>\n",
       "      <td>permanent</td>\n",
       "      <td>CAPITA EDUCATION RESOURCING</td>\n",
       "      <td>Teaching Jobs</td>\n",
       "      <td>26000 - 28000 per annum</td>\n",
       "      <td>27000</td>\n",
       "      <td>jobs.guardian.co.uk</td>\n",
       "      <td>10.203629</td>\n",
       "    </tr>\n",
       "    <tr>\n",
       "      <th>214542</th>\n",
       "      <td>72239966</td>\n",
       "      <td>Operating Department Practitioner</td>\n",
       "      <td>Our client is one of the UK's leading private ...</td>\n",
       "      <td>Kettering Northamptonshire East Midlands</td>\n",
       "      <td>Kettering</td>\n",
       "      <td>NaN</td>\n",
       "      <td>permanent</td>\n",
       "      <td>Matchtech</td>\n",
       "      <td>Healthcare &amp; Nursing Jobs</td>\n",
       "      <td>24000 - 28000 per annum</td>\n",
       "      <td>26000</td>\n",
       "      <td>totaljobs.com</td>\n",
       "      <td>10.165891</td>\n",
       "    </tr>\n",
       "  </tbody>\n",
       "</table>\n",
       "</div>"
      ],
      "text/plain": [
       "              Id                              Title  \\\n",
       "205348  72117299         Talent Development Manager   \n",
       "48529   68608127                    Nursery Manager   \n",
       "214542  72239966  Operating Department Practitioner   \n",
       "\n",
       "                                          FullDescription  \\\n",
       "205348  Job Title: Talent Development Manager Location...   \n",
       "48529   Nursery: Treetops Nursery, Epsom, Surrey Job t...   \n",
       "214542  Our client is one of the UK's leading private ...   \n",
       "\n",
       "                                     LocationRaw LocationNormalized  \\\n",
       "205348               West Central London, London      Covent Garden   \n",
       "48529                                     Surrey             Surrey   \n",
       "214542  Kettering Northamptonshire East Midlands          Kettering   \n",
       "\n",
       "       ContractType ContractTime                      Company  \\\n",
       "205348          NaN    permanent       Simplified Recruitment   \n",
       "48529     full_time    permanent  CAPITA EDUCATION RESOURCING   \n",
       "214542          NaN    permanent                    Matchtech   \n",
       "\n",
       "                         Category                SalaryRaw  SalaryNormalized  \\\n",
       "205348              Teaching Jobs      20000 - 23000/annum             21500   \n",
       "48529               Teaching Jobs  26000 - 28000 per annum             27000   \n",
       "214542  Healthcare & Nursing Jobs  24000 - 28000 per annum             26000   \n",
       "\n",
       "                 SourceName  Log1pSalary  \n",
       "205348     cv-library.co.uk     9.975855  \n",
       "48529   jobs.guardian.co.uk    10.203629  \n",
       "214542        totaljobs.com    10.165891  "
      ]
     },
     "execution_count": 5,
     "metadata": {},
     "output_type": "execute_result"
    }
   ],
   "source": [
    "text_columns = [\"Title\", \"FullDescription\"]\n",
    "categorical_columns = [\"Category\", \"Company\", \"LocationNormalized\", \"ContractType\", \"ContractTime\"]\n",
    "TARGET_COLUMN = \"Log1pSalary\"\n",
    "\n",
    "data[categorical_columns] = data[categorical_columns].fillna('NaN') # cast missing values to string \"NaN\"\n",
    "\n",
    "data.sample(3)"
   ]
  },
  {
   "cell_type": "markdown",
   "metadata": {},
   "source": [
    "### Preprocessing text data\n",
    "\n",
    "Just like last week, applying NLP to a problem begins from tokenization: splitting raw text into sequences of tokens (words, punctuation, etc).\n",
    "\n",
    "__Your task__ is to lowercase and tokenize all texts under `Title` and `FullDescription` columns. Store the tokenized data as a __space-separated__ string of tokens for performance reasons.\n",
    "\n",
    "It's okay to use nltk tokenizers. Assertions were designed for WordPunctTokenizer, slight deviations are okay."
   ]
  },
  {
   "cell_type": "code",
   "execution_count": 6,
   "metadata": {
    "scrolled": true
   },
   "outputs": [
    {
     "name": "stdout",
     "output_type": "stream",
     "text": [
      "Raw text:\n",
      "2         Mathematical Modeller / Simulation Analyst / O...\n",
      "100002    A successful and high achieving specialist sch...\n",
      "200002    Web Designer  HTML, CSS, JavaScript, Photoshop...\n",
      "Name: FullDescription, dtype: object\n"
     ]
    }
   ],
   "source": [
    "print(\"Raw text:\")\n",
    "print(data[\"FullDescription\"][2::100000])"
   ]
  },
  {
   "cell_type": "code",
   "execution_count": 7,
   "metadata": {},
   "outputs": [],
   "source": [
    "import nltk\n",
    "\n",
    "tokenizer = nltk.tokenize.WordPunctTokenizer()\n",
    "\n",
    "for col in text_columns:\n",
    "    data[col] = data[col]\\\n",
    "        .astype(str)\\\n",
    "        .str.lower()\\\n",
    "        .apply(tokenizer.tokenize)\\\n",
    "        .apply(' '.join)"
   ]
  },
  {
   "cell_type": "markdown",
   "metadata": {},
   "source": [
    "Now we can assume that our text is a space-separated list of tokens:"
   ]
  },
  {
   "cell_type": "code",
   "execution_count": 8,
   "metadata": {},
   "outputs": [
    {
     "name": "stdout",
     "output_type": "stream",
     "text": [
      "Tokenized:\n",
      "2         mathematical modeller / simulation analyst / o...\n",
      "100002    a successful and high achieving specialist sch...\n",
      "200002    web designer html , css , javascript , photosh...\n",
      "Name: FullDescription, dtype: object\n"
     ]
    }
   ],
   "source": [
    "print(\"Tokenized:\")\n",
    "print(data[\"FullDescription\"][2::100000])\n",
    "assert data[\"FullDescription\"][2][:50] == 'mathematical modeller / simulation analyst / opera'\n",
    "assert data[\"Title\"][54321] == 'international digital account manager ( german )'"
   ]
  },
  {
   "cell_type": "markdown",
   "metadata": {},
   "source": [
    "Not all words are equally useful. Some of them are typos or rare words that are only present a few times. \n",
    "\n",
    "Let's count how many times is each word present in the data so that we can build a \"white list\" of known words."
   ]
  },
  {
   "cell_type": "code",
   "execution_count": 9,
   "metadata": {},
   "outputs": [
    {
     "ename": "KeyboardInterrupt",
     "evalue": "",
     "output_type": "error",
     "traceback": [
      "\u001b[0;31m---------------------------------------------------------------------------\u001b[0m",
      "\u001b[0;31mKeyboardInterrupt\u001b[0m                         Traceback (most recent call last)",
      "\u001b[1;32m/mnt/10A6-8381/books/SDA/3/00_future/01_NLP/nlp_course/week02_classification/seminar.ipynb Cell 16\u001b[0m line \u001b[0;36m5\n\u001b[1;32m      <a href='vscode-notebook-cell:/mnt/10A6-8381/books/SDA/3/00_future/01_NLP/nlp_course/week02_classification/seminar.ipynb#X21sZmlsZQ%3D%3D?line=0'>1</a>\u001b[0m \u001b[39mfrom\u001b[39;00m \u001b[39mcollections\u001b[39;00m \u001b[39mimport\u001b[39;00m Counter\n\u001b[1;32m      <a href='vscode-notebook-cell:/mnt/10A6-8381/books/SDA/3/00_future/01_NLP/nlp_course/week02_classification/seminar.ipynb#X21sZmlsZQ%3D%3D?line=2'>3</a>\u001b[0m \u001b[39m# Count how many times does each token occur in both \"Title\" and \"FullDescription\" in total\u001b[39;00m\n\u001b[0;32m----> <a href='vscode-notebook-cell:/mnt/10A6-8381/books/SDA/3/00_future/01_NLP/nlp_course/week02_classification/seminar.ipynb#X21sZmlsZQ%3D%3D?line=4'>5</a>\u001b[0m token_counts \u001b[39m=\u001b[39m Counter([\n\u001b[1;32m      <a href='vscode-notebook-cell:/mnt/10A6-8381/books/SDA/3/00_future/01_NLP/nlp_course/week02_classification/seminar.ipynb#X21sZmlsZQ%3D%3D?line=5'>6</a>\u001b[0m     word\n\u001b[1;32m      <a href='vscode-notebook-cell:/mnt/10A6-8381/books/SDA/3/00_future/01_NLP/nlp_course/week02_classification/seminar.ipynb#X21sZmlsZQ%3D%3D?line=6'>7</a>\u001b[0m     \u001b[39mfor\u001b[39;49;00m line \u001b[39min\u001b[39;49;00m data[text_columns]\u001b[39m.\u001b[39;49mvalues\u001b[39m.\u001b[39;49mflatten()\n\u001b[1;32m      <a href='vscode-notebook-cell:/mnt/10A6-8381/books/SDA/3/00_future/01_NLP/nlp_course/week02_classification/seminar.ipynb#X21sZmlsZQ%3D%3D?line=7'>8</a>\u001b[0m     \u001b[39mfor\u001b[39;49;00m word \u001b[39min\u001b[39;49;00m line\u001b[39m.\u001b[39;49msplit()\n\u001b[1;32m      <a href='vscode-notebook-cell:/mnt/10A6-8381/books/SDA/3/00_future/01_NLP/nlp_course/week02_classification/seminar.ipynb#X21sZmlsZQ%3D%3D?line=8'>9</a>\u001b[0m ])\n",
      "\u001b[1;32m/mnt/10A6-8381/books/SDA/3/00_future/01_NLP/nlp_course/week02_classification/seminar.ipynb Cell 16\u001b[0m line \u001b[0;36m5\n\u001b[1;32m      <a href='vscode-notebook-cell:/mnt/10A6-8381/books/SDA/3/00_future/01_NLP/nlp_course/week02_classification/seminar.ipynb#X21sZmlsZQ%3D%3D?line=0'>1</a>\u001b[0m \u001b[39mfrom\u001b[39;00m \u001b[39mcollections\u001b[39;00m \u001b[39mimport\u001b[39;00m Counter\n\u001b[1;32m      <a href='vscode-notebook-cell:/mnt/10A6-8381/books/SDA/3/00_future/01_NLP/nlp_course/week02_classification/seminar.ipynb#X21sZmlsZQ%3D%3D?line=2'>3</a>\u001b[0m \u001b[39m# Count how many times does each token occur in both \"Title\" and \"FullDescription\" in total\u001b[39;00m\n\u001b[0;32m----> <a href='vscode-notebook-cell:/mnt/10A6-8381/books/SDA/3/00_future/01_NLP/nlp_course/week02_classification/seminar.ipynb#X21sZmlsZQ%3D%3D?line=4'>5</a>\u001b[0m token_counts \u001b[39m=\u001b[39m Counter([\n\u001b[1;32m      <a href='vscode-notebook-cell:/mnt/10A6-8381/books/SDA/3/00_future/01_NLP/nlp_course/week02_classification/seminar.ipynb#X21sZmlsZQ%3D%3D?line=5'>6</a>\u001b[0m     word\n\u001b[1;32m      <a href='vscode-notebook-cell:/mnt/10A6-8381/books/SDA/3/00_future/01_NLP/nlp_course/week02_classification/seminar.ipynb#X21sZmlsZQ%3D%3D?line=6'>7</a>\u001b[0m     \u001b[39mfor\u001b[39;00m line \u001b[39min\u001b[39;00m data[text_columns]\u001b[39m.\u001b[39mvalues\u001b[39m.\u001b[39mflatten()\n\u001b[1;32m      <a href='vscode-notebook-cell:/mnt/10A6-8381/books/SDA/3/00_future/01_NLP/nlp_course/week02_classification/seminar.ipynb#X21sZmlsZQ%3D%3D?line=7'>8</a>\u001b[0m     \u001b[39mfor\u001b[39;00m word \u001b[39min\u001b[39;00m line\u001b[39m.\u001b[39msplit()\n\u001b[1;32m      <a href='vscode-notebook-cell:/mnt/10A6-8381/books/SDA/3/00_future/01_NLP/nlp_course/week02_classification/seminar.ipynb#X21sZmlsZQ%3D%3D?line=8'>9</a>\u001b[0m ])\n",
      "\u001b[0;31mKeyboardInterrupt\u001b[0m: "
     ]
    }
   ],
   "source": [
    "from collections import Counter\n",
    "\n",
    "# Count how many times does each token occur in both \"Title\" and \"FullDescription\" in total\n",
    "\n",
    "token_counts = Counter([\n",
    "    word\n",
    "    for line in data[text_columns].values.flatten()\n",
    "    for word in line.split()\n",
    "])"
   ]
  },
  {
   "cell_type": "code",
   "execution_count": null,
   "metadata": {},
   "outputs": [
    {
     "name": "stdout",
     "output_type": "stream",
     "text": [
      "Total unique tokens : 202704\n",
      "('and', 2657388)\n",
      "('.', 2523216)\n",
      "(',', 2318606)\n",
      "('the', 2080994)\n",
      "('to', 2019884)\n",
      "...\n",
      "('stephanietraveltraderecruitmnt', 1)\n",
      "('ruabon', 1)\n",
      "('lowehays', 1)\n",
      "Correct!\n"
     ]
    }
   ],
   "source": [
    "print(\"Total unique tokens :\", len(token_counts))\n",
    "print('\\n'.join(map(str, token_counts.most_common(n=5))))\n",
    "print('...')\n",
    "print('\\n'.join(map(str, token_counts.most_common()[-3:])))\n",
    "\n",
    "assert token_counts.most_common(1)[0][1] in  range(2600000, 2700000)\n",
    "assert len(token_counts) in range(200000, 210000)\n",
    "print('Correct!')"
   ]
  },
  {
   "cell_type": "code",
   "execution_count": null,
   "metadata": {},
   "outputs": [
    {
     "data": {
      "image/png": "[encoded data removed]",
      "text/plain": [
       "<Figure size 640x480 with 1 Axes>"
      ]
     },
     "metadata": {},
     "output_type": "display_data"
    }
   ],
   "source": [
    "# Let's see how many words are there for each count\n",
    "plt.hist(list(token_counts.values()), range=[0, 10**4], bins=50, log=True)\n",
    "plt.xlabel(\"Word counts\");"
   ]
  },
  {
   "cell_type": "markdown",
   "metadata": {},
   "source": [
    "__Task 1.1__ Get a list of all tokens that occur at least 10 times."
   ]
  },
  {
   "cell_type": "code",
   "execution_count": null,
   "metadata": {},
   "outputs": [],
   "source": [
    "min_count = 10\n",
    "\n",
    "# tokens from token_counts keys that had at least min_count occurrences throughout the dataset\n",
    "tokens = sorted(t for t, c in token_counts.items() if c >= min_count)\n",
    "\n",
    "# Add a special tokens for unknown and empty words\n",
    "UNK, PAD = \"UNK\", \"PAD\"\n",
    "tokens = [UNK, PAD] + tokens"
   ]
  },
  {
   "cell_type": "code",
   "execution_count": null,
   "metadata": {},
   "outputs": [
    {
     "name": "stdout",
     "output_type": "stream",
     "text": [
      "Vocabulary size: 34158\n",
      "Correct!\n"
     ]
    }
   ],
   "source": [
    "print(\"Vocabulary size:\", len(tokens))\n",
    "assert type(tokens) == list\n",
    "assert len(tokens) in range(32000, 35000)\n",
    "assert 'me' in tokens\n",
    "assert UNK in tokens\n",
    "print(\"Correct!\")"
   ]
  },
  {
   "cell_type": "markdown",
   "metadata": {},
   "source": [
    "__Task 1.2__ Build an inverse token index: a dictionary from token(string) to it's index in `tokens` (int)"
   ]
  },
  {
   "cell_type": "code",
   "execution_count": null,
   "metadata": {},
   "outputs": [],
   "source": [
    "token_to_id = dict(zip(tokens, range(len(tokens))))"
   ]
  },
  {
   "cell_type": "code",
   "execution_count": null,
   "metadata": {},
   "outputs": [
    {
     "name": "stdout",
     "output_type": "stream",
     "text": [
      "Correct!\n"
     ]
    }
   ],
   "source": [
    "assert isinstance(token_to_id, dict)\n",
    "assert len(token_to_id) == len(tokens)\n",
    "for tok in tokens:\n",
    "    assert tokens[token_to_id[tok]] == tok\n",
    "\n",
    "print(\"Correct!\")"
   ]
  },
  {
   "cell_type": "markdown",
   "metadata": {},
   "source": [
    "And finally, let's use the vocabulary you've built to map text lines into neural network-digestible matrices."
   ]
  },
  {
   "cell_type": "code",
   "execution_count": null,
   "metadata": {},
   "outputs": [],
   "source": [
    "UNK_IX, PAD_IX = map(token_to_id.get, [UNK, PAD])\n",
    "\n",
    "def as_matrix(sequences, max_len=None, min_len=5):\n",
    "    \"\"\" Convert a list of tokens into a matrix with padding \"\"\"\n",
    "    if isinstance(sequences[0], str):\n",
    "        sequences = list(map(str.split, sequences))\n",
    "        \n",
    "    max_len = min(max(map(len, sequences)), max_len or float('inf'))\n",
    "    max_len = max(max_len, min_len)\n",
    "    \n",
    "    matrix = np.full((len(sequences), max_len), np.int32(PAD_IX))\n",
    "    for i,seq in enumerate(sequences):\n",
    "        row_ix = [token_to_id.get(word, UNK_IX) for word in seq[:max_len]]\n",
    "        matrix[i, :len(row_ix)] = row_ix\n",
    "    \n",
    "    return matrix"
   ]
  },
  {
   "cell_type": "code",
   "execution_count": null,
   "metadata": {},
   "outputs": [
    {
     "name": "stdout",
     "output_type": "stream",
     "text": [
      "Lines:\n",
      "engineering systems analyst\n",
      "hr assistant\n",
      "senior ec & i engineer\n",
      "\n",
      "Matrix:\n",
      "[[10807 30161  2166     1     1]\n",
      " [15020  2844     1     1     1]\n",
      " [27645 10201    16 15215 10804]]\n"
     ]
    }
   ],
   "source": [
    "print(\"Lines:\")\n",
    "print('\\n'.join(data[\"Title\"][::100000].values), end='\\n\\n')\n",
    "print(\"Matrix:\")\n",
    "print(as_matrix(data[\"Title\"][::100000]))"
   ]
  },
  {
   "cell_type": "markdown",
   "metadata": {},
   "source": [
    "Now let's  encode the categirical data we have.\n",
    "\n",
    "As usual, we shall use one-hot encoding for simplicity. Kudos if you implement more advanced encodings: tf-idf, pseudo-time-series, etc."
   ]
  },
  {
   "cell_type": "code",
   "execution_count": null,
   "metadata": {},
   "outputs": [
    {
     "data": {
      "text/html": [
       "<style>#sk-container-id-1 {color: black;}#sk-container-id-1 pre{padding: 0;}#sk-container-id-1 div.sk-toggleable {background-color: white;}#sk-container-id-1 label.sk-toggleable__label {cursor: pointer;display: block;width: 100%;margin-bottom: 0;padding: 0.3em;box-sizing: border-box;text-align: center;}#sk-container-id-1 label.sk-toggleable__label-arrow:before {content: \"▸\";float: left;margin-right: 0.25em;color: #696969;}#sk-container-id-1 label.sk-toggleable__label-arrow:hover:before {color: black;}#sk-container-id-1 div.sk-estimator:hover label.sk-toggleable__label-arrow:before {color: black;}#sk-container-id-1 div.sk-toggleable__content {max-height: 0;max-width: 0;overflow: hidden;text-align: left;background-color: #f0f8ff;}#sk-container-id-1 div.sk-toggleable__content pre {margin: 0.2em;color: black;border-radius: 0.25em;background-color: #f0f8ff;}#sk-container-id-1 input.sk-toggleable__control:checked~div.sk-toggleable__content {max-height: 200px;max-width: 100%;overflow: auto;}#sk-container-id-1 input.sk-toggleable__control:checked~label.sk-toggleable__label-arrow:before {content: \"▾\";}#sk-container-id-1 div.sk-estimator input.sk-toggleable__control:checked~label.sk-toggleable__label {background-color: #d4ebff;}#sk-container-id-1 div.sk-label input.sk-toggleable__control:checked~label.sk-toggleable__label {background-color: #d4ebff;}#sk-container-id-1 input.sk-hidden--visually {border: 0;clip: rect(1px 1px 1px 1px);clip: rect(1px, 1px, 1px, 1px);height: 1px;margin: -1px;overflow: hidden;padding: 0;position: absolute;width: 1px;}#sk-container-id-1 div.sk-estimator {font-family: monospace;background-color: #f0f8ff;border: 1px dotted black;border-radius: 0.25em;box-sizing: border-box;margin-bottom: 0.5em;}#sk-container-id-1 div.sk-estimator:hover {background-color: #d4ebff;}#sk-container-id-1 div.sk-parallel-item::after {content: \"\";width: 100%;border-bottom: 1px solid gray;flex-grow: 1;}#sk-container-id-1 div.sk-label:hover label.sk-toggleable__label {background-color: #d4ebff;}#sk-container-id-1 div.sk-serial::before {content: \"\";position: absolute;border-left: 1px solid gray;box-sizing: border-box;top: 0;bottom: 0;left: 50%;z-index: 0;}#sk-container-id-1 div.sk-serial {display: flex;flex-direction: column;align-items: center;background-color: white;padding-right: 0.2em;padding-left: 0.2em;position: relative;}#sk-container-id-1 div.sk-item {position: relative;z-index: 1;}#sk-container-id-1 div.sk-parallel {display: flex;align-items: stretch;justify-content: center;background-color: white;position: relative;}#sk-container-id-1 div.sk-item::before, #sk-container-id-1 div.sk-parallel-item::before {content: \"\";position: absolute;border-left: 1px solid gray;box-sizing: border-box;top: 0;bottom: 0;left: 50%;z-index: -1;}#sk-container-id-1 div.sk-parallel-item {display: flex;flex-direction: column;z-index: 1;position: relative;background-color: white;}#sk-container-id-1 div.sk-parallel-item:first-child::after {align-self: flex-end;width: 50%;}#sk-container-id-1 div.sk-parallel-item:last-child::after {align-self: flex-start;width: 50%;}#sk-container-id-1 div.sk-parallel-item:only-child::after {width: 0;}#sk-container-id-1 div.sk-dashed-wrapped {border: 1px dashed gray;margin: 0 0.4em 0.5em 0.4em;box-sizing: border-box;padding-bottom: 0.4em;background-color: white;}#sk-container-id-1 div.sk-label label {font-family: monospace;font-weight: bold;display: inline-block;line-height: 1.2em;}#sk-container-id-1 div.sk-label-container {text-align: center;}#sk-container-id-1 div.sk-container {/* jupyter's `normalize.less` sets `[hidden] { display: none; }` but bootstrap.min.css set `[hidden] { display: none !important; }` so we also need the `!important` here to be able to override the default hidden behavior on the sphinx rendered scikit-learn.org. See: https://github.com/scikit-learn/scikit-learn/issues/21755 */display: inline-block !important;position: relative;}#sk-container-id-1 div.sk-text-repr-fallback {display: none;}</style><div id=\"sk-container-id-1\" class=\"sk-top-container\"><div class=\"sk-text-repr-fallback\"><pre>DictVectorizer(dtype=&lt;class &#x27;numpy.float32&#x27;&gt;, sparse=False)</pre><b>In a Jupyter environment, please rerun this cell to show the HTML representation or trust the notebook. <br />On GitHub, the HTML representation is unable to render, please try loading this page with nbviewer.org.</b></div><div class=\"sk-container\" hidden><div class=\"sk-item\"><div class=\"sk-estimator sk-toggleable\"><input class=\"sk-toggleable__control sk-hidden--visually\" id=\"sk-estimator-id-1\" type=\"checkbox\" checked><label for=\"sk-estimator-id-1\" class=\"sk-toggleable__label sk-toggleable__label-arrow\">DictVectorizer</label><div class=\"sk-toggleable__content\"><pre>DictVectorizer(dtype=&lt;class &#x27;numpy.float32&#x27;&gt;, sparse=False)</pre></div></div></div></div></div>"
      ],
      "text/plain": [
       "DictVectorizer(dtype=<class 'numpy.float32'>, sparse=False)"
      ]
     },
     "execution_count": 18,
     "metadata": {},
     "output_type": "execute_result"
    }
   ],
   "source": [
    "from sklearn.feature_extraction import DictVectorizer\n",
    "\n",
    "# we only consider top-1k most frequent companies to minimize memory usage\n",
    "top_companies, top_counts = zip(*Counter(data['Company']).most_common(1000))\n",
    "recognized_companies = set(top_companies)\n",
    "\n",
    "data[\"Company\"] = data[\"Company\"].apply(lambda comp: comp if comp in recognized_companies else \"Other\")\n",
    "\n",
    "categorical_vectorizer = DictVectorizer(dtype=np.float32, sparse=False)\n",
    "categorical_vectorizer.fit(data[categorical_columns].apply(dict, axis=1))"
   ]
  },
  {
   "cell_type": "markdown",
   "metadata": {},
   "source": [
    "### The deep learning part\n",
    "\n",
    "Once we've learned to tokenize the data, let's design a machine learning experiment.\n",
    "\n",
    "As before, we won't focus too much on validation, opting for a simple train-test split.\n",
    "\n",
    "__To be completely rigorous,__ we've comitted a small crime here: we used the whole data for tokenization and vocabulary building. A more strict way would be to do that part on training set only. You may want to do that and measure the magnitude of changes."
   ]
  },
  {
   "cell_type": "code",
   "execution_count": null,
   "metadata": {},
   "outputs": [
    {
     "name": "stdout",
     "output_type": "stream",
     "text": [
      "Train size =  195814\n",
      "Validation size =  48954\n"
     ]
    }
   ],
   "source": [
    "from sklearn.model_selection import train_test_split\n",
    "\n",
    "data_train: pd.DataFrame\n",
    "data_val: pd.DataFrame\n",
    "data_train, data_val  = train_test_split(data, test_size=0.2, random_state=42)\n",
    "data_train.index = range(len(data_train))\n",
    "data_val.index = range(len(data_val))\n",
    "\n",
    "print(\"Train size = \", len(data_train))\n",
    "print(\"Validation size = \", len(data_val))"
   ]
  },
  {
   "cell_type": "code",
   "execution_count": null,
   "metadata": {},
   "outputs": [
    {
     "data": {
      "text/plain": [
       "<Axes: >"
      ]
     },
     "execution_count": 37,
     "metadata": {},
     "output_type": "execute_result"
    },
    {
     "data": {
      "image/png": "[encoded data removed]",
      "text/plain": [
       "<Figure size 640x480 with 1 Axes>"
      ]
     },
     "metadata": {},
     "output_type": "display_data"
    }
   ],
   "source": [
    "t = data_train.Title.str.len()\n",
    "t = t[t < t.quantile(.99)]\n",
    "t.hist(bins=20)"
   ]
  },
  {
   "cell_type": "code",
   "execution_count": null,
   "metadata": {},
   "outputs": [
    {
     "data": {
      "text/html": [
       "<div>\n",
       "<style scoped>\n",
       "    .dataframe tbody tr th:only-of-type {\n",
       "        vertical-align: middle;\n",
       "    }\n",
       "\n",
       "    .dataframe tbody tr th {\n",
       "        vertical-align: top;\n",
       "    }\n",
       "\n",
       "    .dataframe thead th {\n",
       "        text-align: right;\n",
       "    }\n",
       "</style>\n",
       "<table border=\"1\" class=\"dataframe\">\n",
       "  <thead>\n",
       "    <tr style=\"text-align: right;\">\n",
       "      <th></th>\n",
       "      <th>Id</th>\n",
       "      <th>Title</th>\n",
       "      <th>FullDescription</th>\n",
       "      <th>LocationRaw</th>\n",
       "      <th>LocationNormalized</th>\n",
       "      <th>ContractType</th>\n",
       "      <th>ContractTime</th>\n",
       "      <th>Company</th>\n",
       "      <th>Category</th>\n",
       "      <th>SalaryRaw</th>\n",
       "      <th>SalaryNormalized</th>\n",
       "      <th>SourceName</th>\n",
       "      <th>Log1pSalary</th>\n",
       "    </tr>\n",
       "  </thead>\n",
       "  <tbody>\n",
       "    <tr>\n",
       "      <th>0</th>\n",
       "      <td>69173058</td>\n",
       "      <td>senior support worker</td>\n",
       "      <td>senior support worker wanted a senior support ...</td>\n",
       "      <td>Taunton, Somerset Somerset South West</td>\n",
       "      <td>Taunton</td>\n",
       "      <td>NaN</td>\n",
       "      <td>permanent</td>\n",
       "      <td>Other</td>\n",
       "      <td>Healthcare &amp; Nursing Jobs</td>\n",
       "      <td>15931 - 17082 per annum</td>\n",
       "      <td>16506</td>\n",
       "      <td>totaljobs.com</td>\n",
       "      <td>9.711540</td>\n",
       "    </tr>\n",
       "    <tr>\n",
       "      <th>1</th>\n",
       "      <td>72450873</td>\n",
       "      <td>statistical / mathematical modeller in pharmac...</td>\n",
       "      <td>statistical / mathematical modeller in pharmac...</td>\n",
       "      <td>North West</td>\n",
       "      <td>North West London</td>\n",
       "      <td>NaN</td>\n",
       "      <td>permanent</td>\n",
       "      <td>Other</td>\n",
       "      <td>Scientific &amp; QA Jobs</td>\n",
       "      <td>From 30,000 to 40,000 per annum 30-40K</td>\n",
       "      <td>35000</td>\n",
       "      <td>totaljobs.com</td>\n",
       "      <td>10.463132</td>\n",
       "    </tr>\n",
       "    <tr>\n",
       "      <th>2</th>\n",
       "      <td>68364211</td>\n",
       "      <td>emc team leader ( def stan )</td>\n",
       "      <td>the opportunity my client is currently seeking...</td>\n",
       "      <td>Surrey</td>\n",
       "      <td>Surrey</td>\n",
       "      <td>NaN</td>\n",
       "      <td>permanent</td>\n",
       "      <td>Other</td>\n",
       "      <td>Engineering Jobs</td>\n",
       "      <td>45k + Bonus + Pension</td>\n",
       "      <td>45000</td>\n",
       "      <td>justengineers.net</td>\n",
       "      <td>10.714440</td>\n",
       "    </tr>\n",
       "    <tr>\n",
       "      <th>3</th>\n",
       "      <td>69556873</td>\n",
       "      <td>core java engineer london , big data</td>\n",
       "      <td>core java engineer london , big data , mysql ,...</td>\n",
       "      <td>UK London</td>\n",
       "      <td>London</td>\n",
       "      <td>NaN</td>\n",
       "      <td>permanent</td>\n",
       "      <td>Engage PSG</td>\n",
       "      <td>IT Jobs</td>\n",
       "      <td>55000 - 70000 per annum + Bens, Bonus (up to 2...</td>\n",
       "      <td>62500</td>\n",
       "      <td>careers4a.com</td>\n",
       "      <td>11.042938</td>\n",
       "    </tr>\n",
       "    <tr>\n",
       "      <th>4</th>\n",
       "      <td>71304393</td>\n",
       "      <td>driver</td>\n",
       "      <td>**** driver reqd for busy parcel round , exper...</td>\n",
       "      <td>Brentwood</td>\n",
       "      <td>Brentwood</td>\n",
       "      <td>full_time</td>\n",
       "      <td>NaN</td>\n",
       "      <td>Other</td>\n",
       "      <td>Logistics &amp; Warehouse Jobs</td>\n",
       "      <td>350.00 - 400.00 per week</td>\n",
       "      <td>18000</td>\n",
       "      <td>Jobcentre Plus</td>\n",
       "      <td>9.798182</td>\n",
       "    </tr>\n",
       "    <tr>\n",
       "      <th>5</th>\n",
       "      <td>69931550</td>\n",
       "      <td>vn **** ait rf technicians x ****</td>\n",
       "      <td>vn **** ait rf technicians , based portsmouth ...</td>\n",
       "      <td>Hampshire</td>\n",
       "      <td>Hampshire</td>\n",
       "      <td>NaN</td>\n",
       "      <td>contract</td>\n",
       "      <td>Capital Strategy Associates</td>\n",
       "      <td>Other/General Jobs</td>\n",
       "      <td>19/hour</td>\n",
       "      <td>36480</td>\n",
       "      <td>cv-library.co.uk</td>\n",
       "      <td>10.504547</td>\n",
       "    </tr>\n",
       "    <tr>\n",
       "      <th>6</th>\n",
       "      <td>68233935</td>\n",
       "      <td>general manager mediterranean restaurant marke...</td>\n",
       "      <td>general manager mediterranean restaurant marke...</td>\n",
       "      <td>East Midlands</td>\n",
       "      <td>East Midlands</td>\n",
       "      <td>NaN</td>\n",
       "      <td>NaN</td>\n",
       "      <td>COREcruitment International</td>\n",
       "      <td>Hospitality &amp; Catering Jobs</td>\n",
       "      <td>25000-27000 Per Annum</td>\n",
       "      <td>26000</td>\n",
       "      <td>caterer.com</td>\n",
       "      <td>10.165891</td>\n",
       "    </tr>\n",
       "    <tr>\n",
       "      <th>7</th>\n",
       "      <td>67443745</td>\n",
       "      <td>stock control opperative / van driver</td>\n",
       "      <td>stock control operative / van driver working w...</td>\n",
       "      <td>Manchester</td>\n",
       "      <td>Manchester</td>\n",
       "      <td>full_time</td>\n",
       "      <td>NaN</td>\n",
       "      <td>NaN</td>\n",
       "      <td>Logistics &amp; Warehouse Jobs</td>\n",
       "      <td>6.46 - 12.39 per hour</td>\n",
       "      <td>18096</td>\n",
       "      <td>Jobcentre Plus</td>\n",
       "      <td>9.803501</td>\n",
       "    </tr>\n",
       "    <tr>\n",
       "      <th>8</th>\n",
       "      <td>71336165</td>\n",
       "      <td>system tester linux , javascript , html , css ...</td>\n",
       "      <td>system tester with experience of linux and ( i...</td>\n",
       "      <td>Sussex Chichester PO188</td>\n",
       "      <td>Cutmill</td>\n",
       "      <td>NaN</td>\n",
       "      <td>permanent</td>\n",
       "      <td>Other</td>\n",
       "      <td>IT Jobs</td>\n",
       "      <td>18000.00 - 20000.00 GBP Annual</td>\n",
       "      <td>19000</td>\n",
       "      <td>jobserve.com</td>\n",
       "      <td>9.852247</td>\n",
       "    </tr>\n",
       "    <tr>\n",
       "      <th>9</th>\n",
       "      <td>71676169</td>\n",
       "      <td>customer service adviser – part time</td>\n",
       "      <td>customer service advisers – part time **** ***...</td>\n",
       "      <td>Edinburgh Midlothian Scotland</td>\n",
       "      <td>Edinburgh Technopole</td>\n",
       "      <td>NaN</td>\n",
       "      <td>permanent</td>\n",
       "      <td>Other</td>\n",
       "      <td>Customer Services Jobs</td>\n",
       "      <td>From 15,194 to 17,478 per annum pro rata</td>\n",
       "      <td>16336</td>\n",
       "      <td>totaljobs.com</td>\n",
       "      <td>9.701188</td>\n",
       "    </tr>\n",
       "  </tbody>\n",
       "</table>\n",
       "</div>"
      ],
      "text/plain": [
       "         Id                                              Title  \\\n",
       "0  69173058                              senior support worker   \n",
       "1  72450873  statistical / mathematical modeller in pharmac...   \n",
       "2  68364211                       emc team leader ( def stan )   \n",
       "3  69556873               core java engineer london , big data   \n",
       "4  71304393                                             driver   \n",
       "5  69931550                  vn **** ait rf technicians x ****   \n",
       "6  68233935  general manager mediterranean restaurant marke...   \n",
       "7  67443745              stock control opperative / van driver   \n",
       "8  71336165  system tester linux , javascript , html , css ...   \n",
       "9  71676169               customer service adviser – part time   \n",
       "\n",
       "                                     FullDescription  \\\n",
       "0  senior support worker wanted a senior support ...   \n",
       "1  statistical / mathematical modeller in pharmac...   \n",
       "2  the opportunity my client is currently seeking...   \n",
       "3  core java engineer london , big data , mysql ,...   \n",
       "4  **** driver reqd for busy parcel round , exper...   \n",
       "5  vn **** ait rf technicians , based portsmouth ...   \n",
       "6  general manager mediterranean restaurant marke...   \n",
       "7  stock control operative / van driver working w...   \n",
       "8  system tester with experience of linux and ( i...   \n",
       "9  customer service advisers – part time **** ***...   \n",
       "\n",
       "                             LocationRaw    LocationNormalized ContractType  \\\n",
       "0  Taunton, Somerset Somerset South West               Taunton          NaN   \n",
       "1                             North West     North West London          NaN   \n",
       "2                                 Surrey                Surrey          NaN   \n",
       "3                              UK London                London          NaN   \n",
       "4                              Brentwood             Brentwood    full_time   \n",
       "5                              Hampshire             Hampshire          NaN   \n",
       "6                          East Midlands         East Midlands          NaN   \n",
       "7                             Manchester            Manchester    full_time   \n",
       "8                Sussex Chichester PO188               Cutmill          NaN   \n",
       "9          Edinburgh Midlothian Scotland  Edinburgh Technopole          NaN   \n",
       "\n",
       "  ContractTime                      Company                     Category  \\\n",
       "0    permanent                        Other    Healthcare & Nursing Jobs   \n",
       "1    permanent                        Other         Scientific & QA Jobs   \n",
       "2    permanent                        Other             Engineering Jobs   \n",
       "3    permanent                   Engage PSG                      IT Jobs   \n",
       "4          NaN                        Other   Logistics & Warehouse Jobs   \n",
       "5     contract  Capital Strategy Associates           Other/General Jobs   \n",
       "6          NaN  COREcruitment International  Hospitality & Catering Jobs   \n",
       "7          NaN                          NaN   Logistics & Warehouse Jobs   \n",
       "8    permanent                        Other                      IT Jobs   \n",
       "9    permanent                        Other       Customer Services Jobs   \n",
       "\n",
       "                                           SalaryRaw  SalaryNormalized  \\\n",
       "0                            15931 - 17082 per annum             16506   \n",
       "1             From 30,000 to 40,000 per annum 30-40K             35000   \n",
       "2                              45k + Bonus + Pension             45000   \n",
       "3  55000 - 70000 per annum + Bens, Bonus (up to 2...             62500   \n",
       "4                           350.00 - 400.00 per week             18000   \n",
       "5                                            19/hour             36480   \n",
       "6                              25000-27000 Per Annum             26000   \n",
       "7                              6.46 - 12.39 per hour             18096   \n",
       "8                     18000.00 - 20000.00 GBP Annual             19000   \n",
       "9           From 15,194 to 17,478 per annum pro rata             16336   \n",
       "\n",
       "          SourceName  Log1pSalary  \n",
       "0      totaljobs.com     9.711540  \n",
       "1      totaljobs.com    10.463132  \n",
       "2  justengineers.net    10.714440  \n",
       "3      careers4a.com    11.042938  \n",
       "4     Jobcentre Plus     9.798182  \n",
       "5   cv-library.co.uk    10.504547  \n",
       "6        caterer.com    10.165891  \n",
       "7     Jobcentre Plus     9.803501  \n",
       "8       jobserve.com     9.852247  \n",
       "9      totaljobs.com     9.701188  "
      ]
     },
     "execution_count": 52,
     "metadata": {},
     "output_type": "execute_result"
    }
   ],
   "source": [
    "data_train[:10]"
   ]
  },
  {
   "cell_type": "code",
   "execution_count": null,
   "metadata": {},
   "outputs": [
    {
     "data": {
      "text/plain": [
       "<Axes: xlabel='descr_len', ylabel='title_len'>"
      ]
     },
     "execution_count": 53,
     "metadata": {},
     "output_type": "execute_result"
    },
    {
     "data": {
      "image/png": "[encoded data removed]",
      "text/plain": [
       "<Figure size 640x480 with 1 Axes>"
      ]
     },
     "metadata": {},
     "output_type": "display_data"
    }
   ],
   "source": [
    "import seaborn as sns\n",
    "t = pd.DataFrame(dict(\n",
    "    title_len=data_train.Title.str.split().apply(len),\n",
    "    descr_len=data_train.FullDescription.str.split().apply(len)\n",
    "))\\\n",
    "    .query(\"title_len < title_len.quantile(.99) and descr_len < descr_len.quantile(.99)\")\n",
    "\n",
    "sns.histplot(data=t, x=\"descr_len\", y=\"title_len\", discrete=(False, True))"
   ]
  },
  {
   "cell_type": "code",
   "execution_count": null,
   "metadata": {},
   "outputs": [
    {
     "data": {
      "text/plain": [
       "<Axes: >"
      ]
     },
     "execution_count": 38,
     "metadata": {},
     "output_type": "execute_result"
    },
    {
     "data": {
      "image/png": "[encoded data removed]",
      "text/plain": [
       "<Figure size 640x480 with 1 Axes>"
      ]
     },
     "metadata": {},
     "output_type": "display_data"
    }
   ],
   "source": [
    "t = data_train.FullDescription.str.len()\n",
    "t = t[t < t.quantile(.99)]\n",
    "t.hist(bins=20)"
   ]
  },
  {
   "cell_type": "code",
   "execution_count": null,
   "metadata": {},
   "outputs": [],
   "source": [
    "import torch\n",
    "import torch.nn as nn\n",
    "import torch.functional as F\n",
    "\n",
    "\n",
    "device = 'cuda' if torch.cuda.is_available() else 'cpu'\n",
    "\n",
    "def to_tensors(batch: dict, device):\n",
    "    batch_tensors = dict()\n",
    "    for key, arr in batch.items():\n",
    "        if key in [\"FullDescription\", \"Title\"]:\n",
    "            batch_tensors[key] = torch.tensor(arr, device=device, dtype=torch.int64)\n",
    "        else:\n",
    "            batch_tensors[key] = torch.tensor(arr, device=device)\n",
    "    return batch_tensors\n",
    "\n",
    "\n",
    "def make_batch(data: pd.DataFrame, max_len=None, word_dropout=0, device=device):\n",
    "    \"\"\"\n",
    "    Creates a keras-friendly dict from the batch data.\n",
    "    :param word_dropout: replaces token index with UNK_IX with this probability\n",
    "    :returns: a dict with {'title' : int64[batch, title_max_len]\n",
    "    \"\"\"\n",
    "    batch = {}\n",
    "    batch[\"Title\"] = as_matrix(data[\"Title\"].values, max_len)\n",
    "    batch[\"FullDescription\"] = as_matrix(data[\"FullDescription\"].values, max_len)\n",
    "    batch['Categorical'] = categorical_vectorizer.transform(data[categorical_columns].apply(dict, axis=1))\n",
    "    \n",
    "    if word_dropout != 0:\n",
    "        batch[\"FullDescription\"] = apply_word_dropout(batch[\"FullDescription\"], 1. - word_dropout)\n",
    "    \n",
    "    if TARGET_COLUMN in data.columns:\n",
    "        batch[TARGET_COLUMN] = data[TARGET_COLUMN].values\n",
    "    \n",
    "    return to_tensors(batch, device)\n",
    "\n",
    "def apply_word_dropout(matrix, keep_prop, replace_with=UNK_IX, pad_ix=PAD_IX,):\n",
    "    dropout_mask = np.random.choice(2, np.shape(matrix), p=[keep_prop, 1 - keep_prop])\n",
    "    dropout_mask &= matrix != pad_ix\n",
    "    return np.choose(dropout_mask, [matrix, np.full_like(matrix, replace_with)])"
   ]
  },
  {
   "cell_type": "code",
   "execution_count": null,
   "metadata": {
    "scrolled": true
   },
   "outputs": [
    {
     "data": {
      "text/plain": [
       "{'Title': tensor([[27645, 29893, 33674,     1,     1,     1,     1],\n",
       "         [29239,   197, 19175, 20042, 15554, 23162,  4051],\n",
       "         [10609, 30412, 17746,    33,  8705, 29157,    65]], device='cuda:0'),\n",
       " 'FullDescription': tensor([[27645, 29893, 33674, 32939,   982, 27645, 29893, 33674, 16451, 32939],\n",
       "         [29239,   197, 19175, 20042, 15554, 23162,  4051, 25511,   907,    82],\n",
       "         [30746, 21956, 20601,  6409, 16451,  8165, 27493,   982, 30412, 17746]],\n",
       "        device='cuda:0'),\n",
       " 'Categorical': tensor([[0., 0., 0.,  ..., 0., 0., 0.],\n",
       "         [0., 0., 0.,  ..., 0., 0., 0.],\n",
       "         [0., 0., 0.,  ..., 0., 0., 0.]], device='cuda:0'),\n",
       " 'Log1pSalary': tensor([ 9.7115, 10.4631, 10.7144], device='cuda:0')}"
      ]
     },
     "execution_count": 23,
     "metadata": {},
     "output_type": "execute_result"
    }
   ],
   "source": [
    "_batch = make_batch(data_train[:3], max_len=10)\n",
    "_batch"
   ]
  },
  {
   "cell_type": "markdown",
   "metadata": {},
   "source": [
    "#### Architecture\n",
    "\n",
    "Our basic model consists of three branches:\n",
    "* Title encoder\n",
    "* Description encoder\n",
    "* Categorical features encoder\n",
    "\n",
    "We will then feed all 3 branches into one common network that predicts salary.\n",
    "\n",
    "![scheme](https://github.com/yandexdataschool/nlp_course/raw/master/resources/w2_conv_arch.png)"
   ]
  },
  {
   "cell_type": "markdown",
   "metadata": {},
   "source": [
    "This clearly doesn't fit into keras' __Sequential__ interface. To build such a network, one will have to use PyTorch."
   ]
  },
  {
   "cell_type": "code",
   "execution_count": null,
   "metadata": {},
   "outputs": [
    {
     "data": {
      "text/plain": [
       "torch.Size([3, 3768])"
      ]
     },
     "execution_count": 24,
     "metadata": {},
     "output_type": "execute_result"
    }
   ],
   "source": [
    "_batch[\"Categorical\"].shape"
   ]
  },
  {
   "cell_type": "code",
   "execution_count": null,
   "metadata": {},
   "outputs": [],
   "source": [
    "class Apply(nn.Module):\n",
    "    def __init__(self, func, *func_args, **func_kwargs):\n",
    "        super().__init__()\n",
    "        self.func = func\n",
    "        self.func_args = func_args\n",
    "        self.func_kwargs = func_kwargs\n",
    "    \n",
    "    def forward(self, X):\n",
    "        return self.func(X, *self.func_args, **self.func_kwargs)\n",
    "\n",
    "class SalaryPredictor(nn.Module):\n",
    "    def __init__(self, n_tokens=len(tokens), n_cat_features=len(categorical_vectorizer.vocabulary_), hid_size=64):\n",
    "        super().__init__()\n",
    "        \n",
    "        self.encoded_len = 64\n",
    "        self.title_encoder = nn.Sequential(\n",
    "            nn.Embedding(n_tokens, self.encoded_len),\n",
    "            Apply(torch.permute, (0, 2, 1)),\n",
    "            nn.Conv1d(self.encoded_len, 64, 3),\n",
    "            nn.AdaptiveMaxPool1d(1),\n",
    "            Apply(torch.squeeze, dim=-1)\n",
    "        )\n",
    "        self.description_encoder = nn.Sequential(\n",
    "            nn.Embedding(n_tokens, self.encoded_len),\n",
    "            Apply(torch.permute, (0, 2, 1)),\n",
    "            nn.Conv1d(self.encoded_len, 64, 5, ),\n",
    "            nn.AdaptiveMaxPool1d(1),\n",
    "            Apply(torch.squeeze, dim=-1)\n",
    "        )\n",
    "        self.cat_encoder = nn.Sequential(\n",
    "            nn.Linear(n_cat_features, 64),\n",
    "            nn.ReLU(),\n",
    "            nn.Dropout(.2),\n",
    "            nn.BatchNorm1d(64),\n",
    "            nn.Linear(64, 64)\n",
    "        )\n",
    "        outp_features = 64*3\n",
    "        self.output = nn.Sequential(\n",
    "            nn.BatchNorm1d(outp_features),\n",
    "            nn.Linear(outp_features, hid_size),\n",
    "            nn.ReLU(),\n",
    "            nn.Dropout(.2),\n",
    "            nn.BatchNorm1d(64),\n",
    "            nn.Linear(64, 1),\n",
    "            Apply(torch.squeeze)\n",
    "        )\n",
    "        \n",
    "    def forward(self, batch: dict[str, torch.TensorType]):\n",
    "        concat = torch.cat((\n",
    "            self.title_encoder(batch[\"Title\"]),\n",
    "            self.description_encoder(batch[\"FullDescription\"]),\n",
    "            self.cat_encoder(batch[\"Categorical\"])\n",
    "        ), axis=1)\n",
    "        return self.output(concat)\n",
    "    \n",
    "    def predict(self, batch):\n",
    "        return torch.exp(self.forward(batch)) + 1"
   ]
  },
  {
   "cell_type": "code",
   "execution_count": null,
   "metadata": {},
   "outputs": [
    {
     "name": "stderr",
     "output_type": "stream",
     "text": [
      "/home/photon/anaconda3/envs/NLP/lib/python3.11/site-packages/torch/nn/modules/conv.py:309: UserWarning: Applied workaround for CuDNN issue, install nvrtc.so (Triggered internally at ../aten/src/ATen/native/cudnn/Conv_v8.cpp:80.)\n",
      "  return F.conv1d(input, weight, bias, self.stride,\n"
     ]
    }
   ],
   "source": [
    "model = SalaryPredictor().to(device)\n",
    "batch = make_batch(data_train[:100])\n",
    "criterion = nn.MSELoss()\n",
    "\n",
    "dummy_pred = model(batch)\n",
    "dummy_loss = criterion(dummy_pred, batch[TARGET_COLUMN])\n",
    "assert dummy_pred.shape == torch.Size([100])\n",
    "assert len(torch.unique(dummy_pred)) > 20, \"model returns suspiciously few unique outputs. Check your initialization\"\n",
    "assert dummy_loss.ndim == 0 and 0. <= dummy_loss <= 250., \"make sure you minimize MSE\""
   ]
  },
  {
   "cell_type": "markdown",
   "metadata": {},
   "source": [
    "#### Training and evaluation\n",
    "\n",
    "As usual, we gonna feed our monster with random minibatches of data. \n",
    "\n",
    "As we train, we want to monitor not only loss function, which is computed in log-space, but also the actual error measured in dollars."
   ]
  },
  {
   "cell_type": "code",
   "execution_count": null,
   "metadata": {},
   "outputs": [],
   "source": [
    "def iterate_minibatches(data, batch_size=256, shuffle=True, cycle=False, device=device, **kwargs):\n",
    "    \"\"\" iterates minibatches of data in random order \"\"\"\n",
    "    while True:\n",
    "        indices = np.arange(len(data))\n",
    "        if shuffle:\n",
    "            indices = np.random.permutation(indices)\n",
    "\n",
    "        for start in range(0, len(indices), batch_size):\n",
    "            batch = make_batch(data.iloc[indices[start : start + batch_size]], device=device, **kwargs)\n",
    "            yield batch\n",
    "        \n",
    "        if not cycle: break"
   ]
  },
  {
   "cell_type": "markdown",
   "metadata": {},
   "source": [
    "### Model training\n",
    "\n",
    "We can now fit our model the usual minibatch way. The interesting part is that we train on an infinite stream of minibatches, produced by `iterate_minibatches` function."
   ]
  },
  {
   "cell_type": "code",
   "execution_count": null,
   "metadata": {},
   "outputs": [],
   "source": [
    "from tqdm.auto import tqdm\n",
    "\n",
    "BATCH_SIZE = 256\n",
    "EPOCHS = 5"
   ]
  },
  {
   "cell_type": "code",
   "execution_count": null,
   "metadata": {},
   "outputs": [],
   "source": [
    "def print_metrics(model, data, batch_size=BATCH_SIZE, name=\"\", device=torch.device('cpu'), **kw):\n",
    "    squared_error = abs_error = num_samples = 0.0\n",
    "    model.eval()\n",
    "    with torch.no_grad():\n",
    "        for batch in iterate_minibatches(data, batch_size=batch_size, shuffle=False, device=device, **kw):\n",
    "            batch_pred = model(batch)\n",
    "            squared_error += torch.sum(torch.square(batch_pred - batch[TARGET_COLUMN]))\n",
    "            abs_error += torch.sum(torch.abs(batch_pred - batch[TARGET_COLUMN]))\n",
    "            num_samples += len(batch_pred)\n",
    "    mse = squared_error.detach().cpu().numpy() / num_samples\n",
    "    mae = abs_error.detach().cpu().numpy() / num_samples\n",
    "    print(\"%s results:\" % (name or \"\"))\n",
    "    print(\"Mean square error: %.5f\" % mse)\n",
    "    print(\"Mean absolute error: %.5f\" % mae)\n",
    "    return mse, mae\n"
   ]
  },
  {
   "cell_type": "code",
   "execution_count": null,
   "metadata": {},
   "outputs": [
    {
     "name": "stdout",
     "output_type": "stream",
     "text": [
      "epoch: 0\n"
     ]
    },
    {
     "data": {
      "application/vnd.jupyter.widget-view+json": {
       "model_id": "4ec5f42e61b74632b2aafd605bc8c087",
       "version_major": 2,
       "version_minor": 0
      },
      "text/plain": [
       "  0%|          | 0/764 [00:00<?, ?it/s]"
      ]
     },
     "metadata": {},
     "output_type": "display_data"
    },
    {
     "name": "stdout",
     "output_type": "stream",
     "text": [
      " results:\n",
      "Mean square error: 0.12587\n",
      "Mean absolute error: 0.27491\n",
      "epoch: 1\n"
     ]
    },
    {
     "data": {
      "application/vnd.jupyter.widget-view+json": {
       "model_id": "260a45e5f76b4936b82e9a5863b64d37",
       "version_major": 2,
       "version_minor": 0
      },
      "text/plain": [
       "  0%|          | 0/764 [00:00<?, ?it/s]"
      ]
     },
     "metadata": {},
     "output_type": "display_data"
    },
    {
     "name": "stdout",
     "output_type": "stream",
     "text": [
      " results:\n",
      "Mean square error: 0.10850\n",
      "Mean absolute error: 0.25117\n",
      "epoch: 2\n"
     ]
    },
    {
     "data": {
      "application/vnd.jupyter.widget-view+json": {
       "model_id": "f4f746298ee643d79fbea6dab4f67ada",
       "version_major": 2,
       "version_minor": 0
      },
      "text/plain": [
       "  0%|          | 0/764 [00:00<?, ?it/s]"
      ]
     },
     "metadata": {},
     "output_type": "display_data"
    },
    {
     "name": "stdout",
     "output_type": "stream",
     "text": [
      " results:\n",
      "Mean square error: 0.09976\n",
      "Mean absolute error: 0.23884\n",
      "epoch: 3\n"
     ]
    },
    {
     "data": {
      "application/vnd.jupyter.widget-view+json": {
       "model_id": "b0244e05690d40d5a15c9b715890651d",
       "version_major": 2,
       "version_minor": 0
      },
      "text/plain": [
       "  0%|          | 0/764 [00:00<?, ?it/s]"
      ]
     },
     "metadata": {},
     "output_type": "display_data"
    },
    {
     "name": "stdout",
     "output_type": "stream",
     "text": [
      " results:\n",
      "Mean square error: 0.10033\n",
      "Mean absolute error: 0.23885\n",
      "epoch: 4\n"
     ]
    },
    {
     "data": {
      "application/vnd.jupyter.widget-view+json": {
       "model_id": "9533fc1baf6f44a7b081b5fe4a4e3d73",
       "version_major": 2,
       "version_minor": 0
      },
      "text/plain": [
       "  0%|          | 0/764 [00:00<?, ?it/s]"
      ]
     },
     "metadata": {},
     "output_type": "display_data"
    },
    {
     "name": "stdout",
     "output_type": "stream",
     "text": [
      " results:\n",
      "Mean square error: 0.09094\n",
      "Mean absolute error: 0.22761\n"
     ]
    }
   ],
   "source": [
    "model = SalaryPredictor().to(device)\n",
    "criterion = nn.MSELoss(reduction='sum')\n",
    "optimizer = torch.optim.SGD(model.parameters(), lr=1e-4)\n",
    "\n",
    "for epoch in range(EPOCHS):\n",
    "    print(f\"epoch: {epoch}\")\n",
    "    model.train()\n",
    "    for i, batch in tqdm(enumerate(\n",
    "            iterate_minibatches(data_train, batch_size=BATCH_SIZE, device=device)),\n",
    "            total=len(data_train) // BATCH_SIZE\n",
    "        ):\n",
    "        pred = model(batch)\n",
    "        loss = criterion(pred, batch[TARGET_COLUMN])\n",
    "        optimizer.zero_grad()\n",
    "        loss.backward()\n",
    "        optimizer.step()\n",
    "        \n",
    "    print_metrics(model, data_val, device=device)\n",
    "\n",
    "      "
   ]
  },
  {
   "cell_type": "code",
   "execution_count": 75,
   "metadata": {},
   "outputs": [],
   "source": [
    "torch.save(model.state_dict(), \"./sem_model.pt\")"
   ]
  },
  {
   "cell_type": "markdown",
   "metadata": {},
   "source": [
    "### Bonus part: explaining model predictions\n",
    "\n",
    "It's usually a good idea to understand how your model works before you let it make actual decisions. It's simple for linear models: just see which words learned positive or negative weights. However, its much harder for neural networks that learn complex nonlinear dependencies.\n",
    "\n",
    "There are, however, some ways to look inside the black box:\n",
    "* Seeing how model responds to input perturbations\n",
    "* Finding inputs that maximize/minimize activation of some chosen neurons (_read more [on distill.pub](https://distill.pub/2018/building-blocks/)_)\n",
    "* Building local linear approximations to your neural network: [article](https://arxiv.org/abs/1602.04938), [eli5 library](https://github.com/TeamHG-Memex/eli5/tree/master/eli5/formatters)\n",
    "\n",
    "Today we gonna try the first method just because it's the simplest one."
   ]
  },
  {
   "cell_type": "code",
   "execution_count": 35,
   "metadata": {},
   "outputs": [],
   "source": [
    "model = SalaryPredictor()\n",
    "model.load_state_dict(torch.load(\"./sem_model.pt\"))\n",
    "model = model.to(device)"
   ]
  },
  {
   "cell_type": "code",
   "execution_count": 36,
   "metadata": {},
   "outputs": [],
   "source": [
    "def explain(model, sample, col_name='Title'):\n",
    "    \"\"\" Computes the effect each word had on model predictions \"\"\"\n",
    "    sample = dict(sample)\n",
    "    sample_col_tokens = [tokens[token_to_id.get(tok, 0)] for tok in sample[col_name].split()]\n",
    "    data_drop_one_token = pd.DataFrame([sample] * (len(sample_col_tokens) + 1))\n",
    "\n",
    "    for drop_i in range(len(sample_col_tokens)):\n",
    "        data_drop_one_token.loc[drop_i, col_name] = ' '.join(UNK if i == drop_i else tok\n",
    "                                                   for i, tok in enumerate(sample_col_tokens)) \n",
    "    \n",
    "    model.eval()\n",
    "    with torch.no_grad():\n",
    "        *predictions_drop_one_token, baseline_pred = model.predict(make_batch(data_drop_one_token, device=device)).detach().cpu()\n",
    "        \n",
    "    diffs = baseline_pred - torch.Tensor(predictions_drop_one_token)\n",
    "    return list(zip(sample_col_tokens, diffs))"
   ]
  },
  {
   "cell_type": "code",
   "execution_count": 37,
   "metadata": {},
   "outputs": [],
   "source": [
    "from IPython.display import HTML, display_html\n",
    "\n",
    "def draw_html(tokens_and_weights, cmap=plt.get_cmap(\"bwr\"), display=True,\n",
    "              token_template=\"\"\"<span style=\"background-color: {color_hex}\">{token}</span>\"\"\",\n",
    "              font_style=\"font-size:14px;\"\n",
    "             ):\n",
    "    \n",
    "    def get_color_hex(weight):\n",
    "        rgba = cmap(1. / (1 + np.exp(float(weight))), bytes=True)\n",
    "        return '#%02X%02X%02X' % rgba[:3]\n",
    "    \n",
    "    tokens_html = [\n",
    "        token_template.format(token=token, color_hex=get_color_hex(weight))\n",
    "        for token, weight in tokens_and_weights\n",
    "    ]\n",
    "    \n",
    "    \n",
    "    raw_html = \"\"\"<p style=\"{}\">{}</p>\"\"\".format(font_style, ' '.join(tokens_html))\n",
    "    if display:\n",
    "        display_html(HTML(raw_html))\n",
    "        \n",
    "    return raw_html\n",
    "    "
   ]
  },
  {
   "cell_type": "code",
   "execution_count": 46,
   "metadata": {},
   "outputs": [
    {
     "name": "stderr",
     "output_type": "stream",
     "text": [
      "/tmp/ipykernel_26892/214951471.py:9: RuntimeWarning: overflow encountered in exp\n",
      "  rgba = cmap(1. / (1 + np.exp(float(weight))), bytes=True)\n"
     ]
    },
    {
     "data": {
      "text/html": [
       "<p style=\"font-size:20px;\"><span style=\"background-color: #0000FF\">sales</span> <span style=\"background-color: #0000FF\">specialist</span> <span style=\"background-color: #FF0000\">iv</span> <span style=\"background-color: #FF0000\">access</span> <span style=\"background-color: #FF0000\">and</span> <span style=\"background-color: #0000FF\">infusion</span></p>"
      ]
     },
     "metadata": {},
     "output_type": "display_data"
    },
    {
     "name": "stderr",
     "output_type": "stream",
     "text": [
      "/tmp/ipykernel_26892/214951471.py:9: RuntimeWarning: overflow encountered in exp\n",
      "  rgba = cmap(1. / (1 + np.exp(float(weight))), bytes=True)\n"
     ]
    },
    {
     "data": {
      "text/html": [
       "<p style=\"font-size:14px;\"><span style=\"background-color: #0000FF\">sales</span> <span style=\"background-color: #FFFEFE\">representative</span> <span style=\"background-color: #0000FF\">medical</span> <span style=\"background-color: #FF0000\">sales</span> <span style=\"background-color: #0000FF\">iv</span> <span style=\"background-color: #FF0000\">access</span> <span style=\"background-color: #0000FF\">and</span> <span style=\"background-color: #FF0000\">infusion</span> <span style=\"background-color: #FFFEFE\">an</span> <span style=\"background-color: #FFFEFE\">opportunity</span> <span style=\"background-color: #FF0000\">to</span> <span style=\"background-color: #FF0000\">work</span> <span style=\"background-color: #FF0000\">for</span> <span style=\"background-color: #0000FF\">the</span> <span style=\"background-color: #FF0000\">industry</span> <span style=\"background-color: #0000FF\">leading</span> <span style=\"background-color: #FF0000\">manufacturer</span> <span style=\"background-color: #0000FF\">of</span> <span style=\"background-color: #0000FF\">iv</span> <span style=\"background-color: #FF0000\">access</span> <span style=\"background-color: #0000FF\">and</span> <span style=\"background-color: #0000FF\">infusion</span> <span style=\"background-color: #0000FF\">solutions</span> <span style=\"background-color: #0000FF\">.</span> <span style=\"background-color: #FF0000\">formally</span> <span style=\"background-color: #FF0000\">recognised</span> <span style=\"background-color: #0000FF\">as</span> <span style=\"background-color: #0000FF\">the</span> <span style=\"background-color: #0000FF\">number</span> <span style=\"background-color: #FF0000\">****</span> <span style=\"background-color: #0000FF\">company</span> <span style=\"background-color: #0000FF\">in</span> <span style=\"background-color: #FFFEFE\">this</span> <span style=\"background-color: #FF0000\">market</span> <span style=\"background-color: #FF0000\">space</span> <span style=\"background-color: #0000FF\">,</span> <span style=\"background-color: #0000FF\">our</span> <span style=\"background-color: #0000FF\">client</span> <span style=\"background-color: #0000FF\">are</span> <span style=\"background-color: #0000FF\">an</span> <span style=\"background-color: #FF0000\">ethical</span> <span style=\"background-color: #FF0000\">and</span> <span style=\"background-color: #FFFEFE\">dynamic</span> <span style=\"background-color: #0000FF\">organisation</span> <span style=\"background-color: #FF0000\">absolutely</span> <span style=\"background-color: #FFFEFE\">committed</span> <span style=\"background-color: #FF0000\">to</span> <span style=\"background-color: #FFFEFE\">the</span> <span style=\"background-color: #0000FF\">advancement</span> <span style=\"background-color: #0000FF\">of</span> <span style=\"background-color: #FF0000\">innovative</span> <span style=\"background-color: #FF0000\">technologies</span> <span style=\"background-color: #0000FF\">.</span> <span style=\"background-color: #0000FF\">job</span> <span style=\"background-color: #0000FF\">title</span> <span style=\"background-color: #0000FF\">:</span> <span style=\"background-color: #FF0000\">sales</span> <span style=\"background-color: #FFFEFE\">specialist</span> <span style=\"background-color: #FFFEFE\">iv</span> <span style=\"background-color: #0000FF\">access</span> <span style=\"background-color: #FFFEFE\">and</span> <span style=\"background-color: #FF0000\">infusion</span> <span style=\"background-color: #0000FF\">selling</span> <span style=\"background-color: #0000FF\">:</span> <span style=\"background-color: #FF0000\">medication</span> <span style=\"background-color: #FFFEFE\">delivery</span> <span style=\"background-color: #FFFEFE\">solutions</span> <span style=\"background-color: #FFFEFE\">selling</span> <span style=\"background-color: #FF0000\">to</span> <span style=\"background-color: #FFFEFE\">:</span> <span style=\"background-color: #FF0000\">iv</span> <span style=\"background-color: #FF0000\">teams</span> <span style=\"background-color: #0000FF\">,</span> <span style=\"background-color: #FF0000\">infection</span> <span style=\"background-color: #FF0000\">control</span> <span style=\"background-color: #0000FF\">,</span> <span style=\"background-color: #0000FF\">lead</span> <span style=\"background-color: #FF0000\">intensive</span> <span style=\"background-color: #FFFEFE\">care</span> <span style=\"background-color: #FFFEFE\">nurse</span> <span style=\"background-color: #0000FF\">specialists</span> <span style=\"background-color: #0000FF\">,</span> <span style=\"background-color: #FFFEFE\">ward</span> <span style=\"background-color: #0000FF\">managers</span> <span style=\"background-color: #0000FF\">territory</span> <span style=\"background-color: #FF0000\">:</span> <span style=\"background-color: #FF0000\">east</span> <span style=\"background-color: #0000FF\">midlands</span> <span style=\"background-color: #0000FF\">location</span> <span style=\"background-color: #0000FF\">:</span> <span style=\"background-color: #FF0000\">east</span> <span style=\"background-color: #0000FF\">midlands</span> <span style=\"background-color: #0000FF\">package</span> <span style=\"background-color: #FF0000\">:</span> <span style=\"background-color: #FF0000\">basic</span> <span style=\"background-color: #FF0000\">:</span> <span style=\"background-color: #FFFEFE\">****</span> <span style=\"background-color: #FF0000\">k</span> <span style=\"background-color: #0000FF\">****</span> <span style=\"background-color: #FF0000\">k</span> <span style=\"background-color: #0000FF\">,</span> <span style=\"background-color: #0000FF\">uncapped</span> <span style=\"background-color: #FF0000\">bonus</span> <span style=\"background-color: #0000FF\">in</span> <span style=\"background-color: #FF0000\">addition</span> <span style=\"background-color: #FF0000\">,</span> <span style=\"background-color: #0000FF\">full</span> <span style=\"background-color: #FF0000\">corporate</span> <span style=\"background-color: #0000FF\">benefits</span> <span style=\"background-color: #0000FF\">company</span> <span style=\"background-color: #FFFEFE\">information</span> <span style=\"background-color: #FFFEFE\">hugely</span> <span style=\"background-color: #FF0000\">ethical</span> <span style=\"background-color: #0000FF\">and</span> <span style=\"background-color: #FFFEFE\">professional</span> <span style=\"background-color: #FFFEFE\">global</span> <span style=\"background-color: #FFFEFE\">organisation</span> <span style=\"background-color: #FF0000\">extremely</span> <span style=\"background-color: #0000FF\">well</span> <span style=\"background-color: #0000FF\">established</span> <span style=\"background-color: #0000FF\">in</span> <span style=\"background-color: #FF0000\">the</span> <span style=\"background-color: #FF0000\">uk</span> <span style=\"background-color: #FF0000\">the</span> <span style=\"background-color: #0000FF\">market</span> <span style=\"background-color: #FF0000\">leader</span> <span style=\"background-color: #0000FF\">across</span> <span style=\"background-color: #FF0000\">all</span> <span style=\"background-color: #FF0000\">of</span> <span style=\"background-color: #0000FF\">their</span> <span style=\"background-color: #0000FF\">core</span> <span style=\"background-color: #FFFEFE\">business</span> <span style=\"background-color: #FF0000\">areas</span> <span style=\"background-color: #FF0000\">focus</span> <span style=\"background-color: #0000FF\">on</span> <span style=\"background-color: #FF0000\">providing</span> <span style=\"background-color: #FF0000\">cutting</span> <span style=\"background-color: #FF0000\">edge</span> <span style=\"background-color: #0000FF\">solutions</span> <span style=\"background-color: #0000FF\">along</span> <span style=\"background-color: #FF0000\">with</span> <span style=\"background-color: #FF0000\">outstanding</span> <span style=\"background-color: #FF0000\">service</span> <span style=\"background-color: #FF0000\">and</span> <span style=\"background-color: #CECEFF\">support</span> <span style=\"background-color: #0000FF\">a</span> <span style=\"background-color: #0000FF\">business</span> <span style=\"background-color: #FF0000\">that</span> <span style=\"background-color: #0000FF\">retain</span> <span style=\"background-color: #0000FF\">talented</span> <span style=\"background-color: #0000FF\">personnel</span> <span style=\"background-color: #0000FF\">by</span> <span style=\"background-color: #FF0000\">offering</span> <span style=\"background-color: #0000FF\">a</span> <span style=\"background-color: #0000FF\">strong</span> <span style=\"background-color: #FF0000\">platform</span> <span style=\"background-color: #0000FF\">for</span> <span style=\"background-color: #0000FF\">career</span> <span style=\"background-color: #0000FF\">development</span> <span style=\"background-color: #0000FF\">sales</span> <span style=\"background-color: #FFFEFE\">specialist</span> <span style=\"background-color: #FFFEFE\">iv</span> <span style=\"background-color: #0000FF\">access</span> <span style=\"background-color: #FFFEFE\">and</span> <span style=\"background-color: #FF0000\">infusion</span> <span style=\"background-color: #FF0000\">you</span> <span style=\"background-color: #FF0000\">must</span> <span style=\"background-color: #FF0000\">have</span> <span style=\"background-color: #FF0000\">/</span> <span style=\"background-color: #0000FF\">be</span> <span style=\"background-color: #0000FF\">the</span> <span style=\"background-color: #0000FF\">following</span> <span style=\"background-color: #FF0000\">at</span> <span style=\"background-color: #0000FF\">least</span> <span style=\"background-color: #0000FF\">2</span> <span style=\"background-color: #0000FF\">years</span> <span style=\"background-color: #0000FF\">medical</span> <span style=\"background-color: #0000FF\">device</span> <span style=\"background-color: #0000FF\">sales</span> <span style=\"background-color: #FF0000\">experience</span> <span style=\"background-color: #FF0000\">.</span> <span style=\"background-color: #FF0000\">candidates</span> <span style=\"background-color: #FF0000\">who</span> <span style=\"background-color: #0000FF\">have</span> <span style=\"background-color: #0000FF\">sold</span> <span style=\"background-color: #0000FF\">disposables</span> <span style=\"background-color: #0000FF\">/</span> <span style=\"background-color: #FF0000\">consumables</span> <span style=\"background-color: #FF0000\">or</span> <span style=\"background-color: #FF0000\">similar</span> <span style=\"background-color: #FFFEFE\">into</span> <span style=\"background-color: #FF0000\">hospitals</span> <span style=\"background-color: #FFFEFE\">would</span> <span style=\"background-color: #FF0000\">be</span> <span style=\"background-color: #FF0000\">of</span> <span style=\"background-color: #0000FF\">particular</span> <span style=\"background-color: #0000FF\">interest</span> <span style=\"background-color: #FF0000\">.</span> <span style=\"background-color: #FF0000\">candidates</span> <span style=\"background-color: #FFFEFE\">must</span> <span style=\"background-color: #0000FF\">have</span> <span style=\"background-color: #0000FF\">sold</span> <span style=\"background-color: #0000FF\">into</span> <span style=\"background-color: #0000FF\">hospitals</span> <span style=\"background-color: #0000FF\">demonstrable</span> <span style=\"background-color: #FF0000\">performance</span> <span style=\"background-color: #0000FF\">and</span> <span style=\"background-color: #0000FF\">achievements</span> <span style=\"background-color: #FF0000\">so</span> <span style=\"background-color: #FF0000\">far</span> <span style=\"background-color: #0000FF\">personable</span> <span style=\"background-color: #FF0000\">,</span> <span style=\"background-color: #0000FF\">adaptable</span> <span style=\"background-color: #0000FF\">and</span> <span style=\"background-color: #0000FF\">willing</span> <span style=\"background-color: #FF0000\">to</span> <span style=\"background-color: #0000FF\">learn</span> <span style=\"background-color: #0000FF\">keen</span> <span style=\"background-color: #0000FF\">and</span> <span style=\"background-color: #FF0000\">eager</span> <span style=\"background-color: #0000FF\">to</span> <span style=\"background-color: #FF0000\">be</span> <span style=\"background-color: #FF0000\">a</span> <span style=\"background-color: #0000FF\">success</span> <span style=\"background-color: #FFFEFE\">candidates</span> <span style=\"background-color: #0000FF\">must</span> <span style=\"background-color: #FFFEFE\">have</span> <span style=\"background-color: #0000FF\">a</span> <span style=\"background-color: #0000FF\">degree</span> <span style=\"background-color: #0000FF\">or</span> <span style=\"background-color: #FF0000\">at</span> <span style=\"background-color: #FF0000\">least</span> <span style=\"background-color: #FF0000\">be</span> <span style=\"background-color: #FF0000\">able</span> <span style=\"background-color: #FF0000\">to</span> <span style=\"background-color: #FF0000\">show</span> <span style=\"background-color: #FF0000\">a</span> <span style=\"background-color: #FFFEFE\">strong</span> <span style=\"background-color: #FF0000\">ability</span> <span style=\"background-color: #0000FF\">to</span> <span style=\"background-color: #FFFEFE\">learn</span> <span style=\"background-color: #FF0000\">role</span> <span style=\"background-color: #0000FF\">information</span> <span style=\"background-color: #0000FF\">managing</span> <span style=\"background-color: #FF0000\">the</span> <span style=\"background-color: #FF0000\">east</span> <span style=\"background-color: #FF0000\">midlands</span> <span style=\"background-color: #FF0000\">region</span> <span style=\"background-color: #0000FF\">selling</span> <span style=\"background-color: #FF0000\">across</span> <span style=\"background-color: #FF0000\">the</span> <span style=\"background-color: #FFFEFE\">company</span> <span style=\"background-color: #FF0000\">'</span> <span style=\"background-color: #0000FF\">s</span> <span style=\"background-color: #FFFEFE\">range</span> <span style=\"background-color: #FF0000\">of</span> <span style=\"background-color: #0000FF\">iv</span> <span style=\"background-color: #FFFEFE\">and</span> <span style=\"background-color: #FF0000\">infusion</span> <span style=\"background-color: #FF0000\">solutions</span> <span style=\"background-color: #FF0000\">portfolio</span> <span style=\"background-color: #FF0000\">selling</span> <span style=\"background-color: #0000FF\">into</span> <span style=\"background-color: #FF0000\">lead</span> <span style=\"background-color: #FF0000\">intensive</span> <span style=\"background-color: #FF0000\">care</span> <span style=\"background-color: #FFFEFE\">nurse</span> <span style=\"background-color: #0000FF\">specialists</span> <span style=\"background-color: #0000FF\">,</span> <span style=\"background-color: #FF0000\">ward</span> <span style=\"background-color: #FF0000\">managers</span> <span style=\"background-color: #0000FF\">,</span> <span style=\"background-color: #FF0000\">iv</span> <span style=\"background-color: #FF0000\">teams</span> <span style=\"background-color: #0000FF\">,</span> <span style=\"background-color: #FFFEFE\">infection</span> <span style=\"background-color: #FF0000\">control</span> <span style=\"background-color: #FF0000\">teams</span> <span style=\"background-color: #FF0000\">,</span> <span style=\"background-color: #FF0000\">procurement</span> <span style=\"background-color: #FF0000\">sales</span> <span style=\"background-color: #0000FF\">specialist</span> <span style=\"background-color: #FFFEFE\">iv</span> <span style=\"background-color: #FF0000\">access</span> <span style=\"background-color: #FF0000\">and</span> <span style=\"background-color: #0000FF\">infusion</span> <span style=\"background-color: #FF0000\">candidates</span> <span style=\"background-color: #FF0000\">must</span> <span style=\"background-color: #FF0000\">be</span> <span style=\"background-color: #0000FF\">eligible</span> <span style=\"background-color: #FF0000\">to</span> <span style=\"background-color: #0000FF\">work</span> <span style=\"background-color: #0000FF\">and</span> <span style=\"background-color: #0000FF\">live</span> <span style=\"background-color: #0000FF\">in</span> <span style=\"background-color: #FF0000\">the</span> <span style=\"background-color: #0000FF\">uk</span> <span style=\"background-color: #0000FF\">.</span> <span style=\"background-color: #FF0000\">please</span> <span style=\"background-color: #0000FF\">contact</span> <span style=\"background-color: #FF0000\">allan</span> <span style=\"background-color: #FF0000\">waller</span> <span style=\"background-color: #FF0000\">on</span> <span style=\"background-color: #0000FF\">****</span> <span style=\"background-color: #FF0000\">****</span> <span style=\"background-color: #FF0000\">****</span> <span style=\"background-color: #0000FF\">or</span> <span style=\"background-color: #FF0000\">please</span> <span style=\"background-color: #0000FF\">hit</span> <span style=\"background-color: #FF0000\">the</span> <span style=\"background-color: #FF0000\">apply</span> <span style=\"background-color: #0000FF\">button</span> <span style=\"background-color: #FF0000\">.</span> <span style=\"background-color: #0000FF\">this</span> <span style=\"background-color: #FF0000\">job</span> <span style=\"background-color: #FF0000\">was</span> <span style=\"background-color: #FF0000\">originally</span> <span style=\"background-color: #0000FF\">posted</span> <span style=\"background-color: #FFFEFE\">as</span> <span style=\"background-color: #FFFEFE\">www</span> <span style=\"background-color: #0000FF\">.</span> <span style=\"background-color: #0000FF\">salestarget</span> <span style=\"background-color: #FF0000\">.</span> <span style=\"background-color: #0000FF\">co</span> <span style=\"background-color: #0000FF\">.</span> <span style=\"background-color: #0000FF\">uk</span> <span style=\"background-color: #0000FF\">/</span> <span style=\"background-color: #FF0000\">jobseeking</span> <span style=\"background-color: #0000FF\">/</span> <span style=\"background-color: #FFFEFE\">UNK</span> <span style=\"background-color: #0000FF\">****</span></p>"
      ]
     },
     "metadata": {},
     "output_type": "display_data"
    }
   ],
   "source": [
    "i = 36605\n",
    "tokens_and_weights = explain(model, data.loc[i], \"Title\")\n",
    "draw_html([(tok, weight * 5) for tok, weight in tokens_and_weights], font_style='font-size:20px;');\n",
    "\n",
    "tokens_and_weights = explain(model, data.loc[i], \"FullDescription\")\n",
    "draw_html([(tok, weight * 10) for tok, weight in tokens_and_weights]);"
   ]
  },
  {
   "cell_type": "code",
   "execution_count": 47,
   "metadata": {},
   "outputs": [
    {
     "data": {
      "text/html": [
       "<p style=\"font-size:20px;\"><span style=\"background-color: #FF0000\">cleaning</span> <span style=\"background-color: #FF0000\">operative</span></p>"
      ]
     },
     "metadata": {},
     "output_type": "display_data"
    },
    {
     "name": "stderr",
     "output_type": "stream",
     "text": [
      "/tmp/ipykernel_26892/214951471.py:9: RuntimeWarning: overflow encountered in exp\n",
      "  rgba = cmap(1. / (1 + np.exp(float(weight))), bytes=True)\n"
     ]
    },
    {
     "data": {
      "text/html": [
       "<p style=\"font-size:14px;\"><span style=\"background-color: #0000FF\">12</span> <span style=\"background-color: #FF0000\">.</span> <span style=\"background-color: #FF0000\">5</span> <span style=\"background-color: #FF0000\">hours</span> <span style=\"background-color: #FF0000\">per</span> <span style=\"background-color: #0000FF\">week</span> <span style=\"background-color: #FF0000\">monday</span> <span style=\"background-color: #FF0000\">friday</span> <span style=\"background-color: #0000FF\">9am</span> <span style=\"background-color: #FF0000\">11</span> <span style=\"background-color: #0000FF\">.</span> <span style=\"background-color: #0000FF\">30am</span> <span style=\"background-color: #FF0000\">duties</span> <span style=\"background-color: #0000FF\">to</span> <span style=\"background-color: #FF0000\">include</span> <span style=\"background-color: #FF0000\">sweeping</span> <span style=\"background-color: #FF0000\">,</span> <span style=\"background-color: #0000FF\">mopping</span> <span style=\"background-color: #FF0000\">,</span> <span style=\"background-color: #FF0000\">vacuuming</span> <span style=\"background-color: #FF0000\">,</span> <span style=\"background-color: #FF0000\">buffing</span> <span style=\"background-color: #FF0000\">,</span> <span style=\"background-color: #FF0000\">cleaning</span> <span style=\"background-color: #FF0000\">staff</span> <span style=\"background-color: #FF0000\">toilets</span> <span style=\"background-color: #0000FF\">and</span> <span style=\"background-color: #0000FF\">rest</span> <span style=\"background-color: #FF0000\">room</span> <span style=\"background-color: #FF0000\">.</span> <span style=\"background-color: #FF0000\">must</span> <span style=\"background-color: #FF0000\">be</span> <span style=\"background-color: #FF0000\">able</span> <span style=\"background-color: #FF0000\">to</span> <span style=\"background-color: #FF0000\">read</span> <span style=\"background-color: #0000FF\">as</span> <span style=\"background-color: #FF0000\">they</span> <span style=\"background-color: #FF0000\">will</span> <span style=\"background-color: #FF0000\">be</span> <span style=\"background-color: #FF0000\">using</span> <span style=\"background-color: #FFFEFE\">UNK</span> <span style=\"background-color: #0000FF\">which</span> <span style=\"background-color: #FF0000\">need</span> <span style=\"background-color: #FFFEFE\">UNK</span> <span style=\"background-color: #FF0000\">as</span> <span style=\"background-color: #FF0000\">per</span> <span style=\"background-color: #FF0000\">instructions</span> <span style=\"background-color: #FF0000\">on</span> <span style=\"background-color: #0000FF\">the</span> <span style=\"background-color: #0000FF\">containers</span> <span style=\"background-color: #FF0000\">.</span> <span style=\"background-color: #0000FF\">sucessfull</span> <span style=\"background-color: #FF0000\">applicants</span> <span style=\"background-color: #FF0000\">will</span> <span style=\"background-color: #FF0000\">be</span> <span style=\"background-color: #FF0000\">trained</span> <span style=\"background-color: #FF0000\">on</span> <span style=\"background-color: #0000FF\">all</span> <span style=\"background-color: #FF0000\">electrical</span> <span style=\"background-color: #FF0000\">appliances</span> <span style=\"background-color: #0000FF\">and</span> <span style=\"background-color: #FFFEFE\">UNK</span> <span style=\"background-color: #0000FF\">of</span> <span style=\"background-color: #FF0000\">cleaning</span> <span style=\"background-color: #FF0000\">materials</span> <span style=\"background-color: #FFFEFE\">.</span></p>"
      ]
     },
     "metadata": {},
     "output_type": "display_data"
    }
   ],
   "source": [
    "i = 12077\n",
    "tokens_and_weights = explain(model, data.loc[i], \"Title\")\n",
    "draw_html([(tok, weight * 5) for tok, weight in tokens_and_weights], font_style='font-size:20px;');\n",
    "\n",
    "tokens_and_weights = explain(model, data.loc[i], \"FullDescription\")\n",
    "draw_html([(tok, weight * 10) for tok, weight in tokens_and_weights]);"
   ]
  },
  {
   "cell_type": "code",
   "execution_count": 48,
   "metadata": {},
   "outputs": [
    {
     "name": "stdout",
     "output_type": "stream",
     "text": [
      "Index: 56549\n",
      "Salary (gbp): tensor(inf)\n"
     ]
    },
    {
     "name": "stderr",
     "output_type": "stream",
     "text": [
      "/tmp/ipykernel_26892/2199123771.py:3: RuntimeWarning: overflow encountered in expm1\n",
      "  print(\"Salary (gbp):\", np.expm1(model.predict(make_batch(data.iloc[i: i+1], device=device)).detach().cpu()))\n",
      "/tmp/ipykernel_26892/214951471.py:9: RuntimeWarning: overflow encountered in exp\n",
      "  rgba = cmap(1. / (1 + np.exp(float(weight))), bytes=True)\n"
     ]
    },
    {
     "data": {
      "text/html": [
       "<p style=\"font-size:20px;\"><span style=\"background-color: #FF0000\">english</span> <span style=\"background-color: #0000FF\">teacher</span></p>"
      ]
     },
     "metadata": {},
     "output_type": "display_data"
    },
    {
     "name": "stderr",
     "output_type": "stream",
     "text": [
      "/tmp/ipykernel_26892/214951471.py:9: RuntimeWarning: overflow encountered in exp\n",
      "  rgba = cmap(1. / (1 + np.exp(float(weight))), bytes=True)\n"
     ]
    },
    {
     "data": {
      "text/html": [
       "<p style=\"font-size:14px;\"><span style=\"background-color: #FFFEFE\">purpose</span> <span style=\"background-color: #FF0000\">of</span> <span style=\"background-color: #FF0000\">the</span> <span style=\"background-color: #0000FF\">job</span> <span style=\"background-color: #FF0000\">within</span> <span style=\"background-color: #0000FF\">the</span> <span style=\"background-color: #0000FF\">framework</span> <span style=\"background-color: #0000FF\">of</span> <span style=\"background-color: #0000FF\">your</span> <span style=\"background-color: #FFFEFE\">expert</span> <span style=\"background-color: #FF0000\">area</span> <span style=\"background-color: #FF0000\">(</span> <span style=\"background-color: #FF0000\">english</span> <span style=\"background-color: #0000FF\">),</span> <span style=\"background-color: #0000FF\">to</span> <span style=\"background-color: #FF0000\">deliver</span> <span style=\"background-color: #0000FF\">engaging</span> <span style=\"background-color: #FF0000\">and</span> <span style=\"background-color: #FFFEFE\">inspirational</span> <span style=\"background-color: #0000FF\">programmes</span> <span style=\"background-color: #0000FF\">leading</span> <span style=\"background-color: #FF0000\">to</span> <span style=\"background-color: #0000FF\">defined</span> <span style=\"background-color: #0000FF\">outcomes</span> <span style=\"background-color: #FFFEFE\">for</span> <span style=\"background-color: #FF0000\">young</span> <span style=\"background-color: #0000FF\">learners</span> <span style=\"background-color: #0000FF\">in</span> <span style=\"background-color: #0000FF\">accordance</span> <span style=\"background-color: #FF0000\">with</span> <span style=\"background-color: #0000FF\">pet</span> <span style=\"background-color: #0000FF\">’</span> <span style=\"background-color: #0000FF\">s</span> <span style=\"background-color: #FF0000\">company</span> <span style=\"background-color: #0000FF\">values</span> <span style=\"background-color: #0000FF\">and</span> <span style=\"background-color: #0000FF\">which</span> <span style=\"background-color: #FFFEFE\">meet</span> <span style=\"background-color: #FF0000\">prescribed</span> <span style=\"background-color: #FFFEFE\">internal</span> <span style=\"background-color: #FFFEFE\">and</span> <span style=\"background-color: #FFFEFE\">external</span> <span style=\"background-color: #FFFEFE\">standards</span> <span style=\"background-color: #0000FF\">,</span> <span style=\"background-color: #FF0000\">in</span> <span style=\"background-color: #0000FF\">accordance</span> <span style=\"background-color: #0000FF\">with</span> <span style=\"background-color: #FF0000\">the</span> <span style=\"background-color: #0000FF\">detailed</span> <span style=\"background-color: #FF0000\">specification</span> <span style=\"background-color: #FF0000\">agreed</span> <span style=\"background-color: #0000FF\">with</span> <span style=\"background-color: #FF0000\">the</span> <span style=\"background-color: #0000FF\">particular</span> <span style=\"background-color: #FF0000\">client</span> <span style=\"background-color: #FF0000\">.</span> <span style=\"background-color: #0000FF\">skills</span> <span style=\"background-color: #FFFEFE\">and</span> <span style=\"background-color: #FFFEFE\">experience</span> <span style=\"background-color: #FF0000\">a</span> <span style=\"background-color: #0000FF\">relevant</span> <span style=\"background-color: #FFFEFE\">degree</span> <span style=\"background-color: #0000FF\">and</span> <span style=\"background-color: #FFFEFE\">pgce</span> <span style=\"background-color: #FFFEFE\">in</span> <span style=\"background-color: #FFFEFE\">english</span> <span style=\"background-color: #FFFEFE\">excellent</span> <span style=\"background-color: #0000FF\">teaching</span> <span style=\"background-color: #0000FF\">ability</span> <span style=\"background-color: #0000FF\">and</span> <span style=\"background-color: #FF0000\">the</span> <span style=\"background-color: #0000FF\">commitment</span> <span style=\"background-color: #FF0000\">to</span> <span style=\"background-color: #0000FF\">gain</span> <span style=\"background-color: #0000FF\">results</span> <span style=\"background-color: #0000FF\">with</span> <span style=\"background-color: #FF0000\">d</span> <span style=\"background-color: #0000FF\">/</span> <span style=\"background-color: #FF0404\">c</span> <span style=\"background-color: #FF0000\">borderline</span> <span style=\"background-color: #0000FF\">pupils</span> <span style=\"background-color: #0000FF\">ability</span> <span style=\"background-color: #0000FF\">to</span> <span style=\"background-color: #FF0000\">engage</span> <span style=\"background-color: #FF0000\">with</span> <span style=\"background-color: #FF0000\">and</span> <span style=\"background-color: #0000FF\">inspire</span> <span style=\"background-color: #FF0000\">young</span> <span style=\"background-color: #FF0000\">learners</span> <span style=\"background-color: #FF0000\">by</span> <span style=\"background-color: #FF0000\">using</span> <span style=\"background-color: #FF0000\">appropriate</span> <span style=\"background-color: #FF0000\">training</span> <span style=\"background-color: #FF0000\">techniques</span> <span style=\"background-color: #FF0000\">and</span> <span style=\"background-color: #FF0000\">interpersonal</span> <span style=\"background-color: #FF0000\">skills</span> <span style=\"background-color: #FF0000\">desirable</span> <span style=\"background-color: #0000FF\">experience</span> <span style=\"background-color: #0000FF\">of</span> <span style=\"background-color: #FF0000\">marking</span> <span style=\"background-color: #0000FF\">exam</span> <span style=\"background-color: #FF0000\">papers</span> <span style=\"background-color: #0000FF\">reporting</span> <span style=\"background-color: #FF1414\">to</span> <span style=\"background-color: #FFFEFE\">:</span> <span style=\"background-color: #FFFEFE\">course</span> <span style=\"background-color: #0000FF\">lead</span> <span style=\"background-color: #0000FF\">trainer</span> <span style=\"background-color: #0000FF\">responsible</span> <span style=\"background-color: #0000FF\">for</span> <span style=\"background-color: #FF0000\">:</span> <span style=\"background-color: #FF0000\">training</span> <span style=\"background-color: #FF0000\">of</span> <span style=\"background-color: #0000FF\">young</span> <span style=\"background-color: #FF0000\">people</span> <span style=\"background-color: #0000FF\">key</span> <span style=\"background-color: #0000FF\">tasks</span> <span style=\"background-color: #FF0000\">deliver</span> <span style=\"background-color: #0000FF\">the</span> <span style=\"background-color: #FF0000\">agreed</span> <span style=\"background-color: #FF0000\">programme</span> <span style=\"background-color: #0000FF\">in</span> <span style=\"background-color: #0000FF\">accordance</span> <span style=\"background-color: #FF0000\">with</span> <span style=\"background-color: #FF0000\">the</span> <span style=\"background-color: #0000FF\">lesson</span> <span style=\"background-color: #FF0000\">plan</span> <span style=\"background-color: #FF0000\">ability</span> <span style=\"background-color: #FF0000\">to</span> <span style=\"background-color: #0000FF\">mark</span> <span style=\"background-color: #0000FF\">official</span> <span style=\"background-color: #0000FF\">exam</span> <span style=\"background-color: #0000FF\">papers</span> <span style=\"background-color: #0000FF\">quickly</span> <span style=\"background-color: #0000FF\">and</span> <span style=\"background-color: #0000FF\">accurately</span> <span style=\"background-color: #0000FF\">person</span> <span style=\"background-color: #0000FF\">specification</span> <span style=\"background-color: #0000FF\">smart</span> <span style=\"background-color: #0000FF\">in</span> <span style=\"background-color: #0000FF\">appearance</span> <span style=\"background-color: #FF0000\">organised</span> <span style=\"background-color: #FF0000\">enthusiastic</span> <span style=\"background-color: #0000FF\">passionate</span> <span style=\"background-color: #FF0000\">dynamic</span> <span style=\"background-color: #FF0000\">can</span> <span style=\"background-color: #0000FF\">build</span> <span style=\"background-color: #0000FF\">positive</span> <span style=\"background-color: #0000FF\">relationships</span> <span style=\"background-color: #0000FF\">with</span> <span style=\"background-color: #0000FF\">both</span> <span style=\"background-color: #0000FF\">staff</span> <span style=\"background-color: #0000FF\">and</span> <span style=\"background-color: #0000FF\">students</span> <span style=\"background-color: #0000FF\">flexible</span> <span style=\"background-color: #0000FF\">excellent</span> <span style=\"background-color: #FFFEFE\">timekeeper</span> <span style=\"background-color: #0000FF\">email</span> <span style=\"background-color: #FF0000\">your</span> <span style=\"background-color: #FFFEFE\">cv</span> <span style=\"background-color: #0000FF\">through</span> <span style=\"background-color: #FF0000\">to</span> <span style=\"background-color: #FF0000\">aaron</span> <span style=\"background-color: #0000FF\">for</span> <span style=\"background-color: #0000FF\">an</span> <span style=\"background-color: #FF0000\">immediate</span> <span style=\"background-color: #0000FF\">response</span> <span style=\"background-color: #0000FF\">:</span> <span style=\"background-color: #FFFEFE\">UNK</span> <span style=\"background-color: #FFFEFE\">UNK</span> <span style=\"background-color: #0000FF\">.</span> <span style=\"background-color: #0000FF\">co</span> <span style=\"background-color: #0000FF\">.</span> <span style=\"background-color: #0000FF\">uk</span> <span style=\"background-color: #0000FF\">you</span> <span style=\"background-color: #0000FF\">must</span> <span style=\"background-color: #FF0000\">hold</span> <span style=\"background-color: #FF0000\">a</span> <span style=\"background-color: #FF0000\">valid</span> <span style=\"background-color: #FF0000\">crb</span> <span style=\"background-color: #FF0000\">and</span> <span style=\"background-color: #0000FF\">driving</span> <span style=\"background-color: #0000FF\">license</span> <span style=\"background-color: #FF0000\">for</span> <span style=\"background-color: #FF0000\">this</span> <span style=\"background-color: #0000FF\">position</span> <span style=\"background-color: #0000FF\">.</span> <span style=\"background-color: #0000FF\">nb</span> <span style=\"background-color: #FF0000\">:</span> <span style=\"background-color: #0000FF\">this</span> <span style=\"background-color: #0000FF\">description</span> <span style=\"background-color: #0000FF\">gives</span> <span style=\"background-color: #0000FF\">a</span> <span style=\"background-color: #FF0000\">broad</span> <span style=\"background-color: #FF0000\">explanation</span> <span style=\"background-color: #0000FF\">of</span> <span style=\"background-color: #0000FF\">the</span> <span style=\"background-color: #FF0000\">duties</span> <span style=\"background-color: #FF0000\">of</span> <span style=\"background-color: #FF0000\">this</span> <span style=\"background-color: #0000FF\">post</span> <span style=\"background-color: #0000FF\">,</span> <span style=\"background-color: #0000FF\">however</span> <span style=\"background-color: #FF0000\">these</span> <span style=\"background-color: #0000FF\">may</span> <span style=\"background-color: #FF0000\">vary</span> <span style=\"background-color: #FF0000\">over</span> <span style=\"background-color: #0000FF\">time</span> <span style=\"background-color: #FF0000\">this</span> <span style=\"background-color: #FF0000\">job</span> <span style=\"background-color: #FF0000\">was</span> <span style=\"background-color: #FF0000\">originally</span> <span style=\"background-color: #FF0000\">posted</span> <span style=\"background-color: #FF0000\">as</span> <span style=\"background-color: #FF0000\">www</span> <span style=\"background-color: #0000FF\">.</span> <span style=\"background-color: #FF0000\">totaljobs</span> <span style=\"background-color: #FF0000\">.</span> <span style=\"background-color: #FF0000\">com</span> <span style=\"background-color: #FF0000\">/</span> <span style=\"background-color: #FF0000\">jobseeking</span> <span style=\"background-color: #0000FF\">/</span> <span style=\"background-color: #0000FF\">englishteacher_job</span> <span style=\"background-color: #0000FF\">****</span></p>"
      ]
     },
     "metadata": {},
     "output_type": "display_data"
    }
   ],
   "source": [
    "i = np.random.randint(len(data))\n",
    "print(\"Index:\", i)\n",
    "print(\"Salary (gbp):\", np.expm1(model.predict(make_batch(data.iloc[i: i+1], device=device)).detach().cpu()))\n",
    "\n",
    "tokens_and_weights = explain(model, data.loc[i], \"Title\")\n",
    "draw_html([(tok, weight * 5) for tok, weight in tokens_and_weights], font_style='font-size:20px;');\n",
    "\n",
    "tokens_and_weights = explain(model, data.loc[i], \"FullDescription\")\n",
    "draw_html([(tok, weight * 10) for tok, weight in tokens_and_weights]);"
   ]
  },
  {
   "cell_type": "markdown",
   "metadata": {},
   "source": [
    "__Terrible start-up idea #1962:__ make a tool that automaticaly rephrases your job description (or CV) to meet salary expectations :)"
   ]
  }
 ],
 "metadata": {
  "kernelspec": {
   "display_name": "Python 3",
   "language": "python",
   "name": "python3"
  },
  "language_info": {
   "codemirror_mode": {
    "name": "ipython",
    "version": 3
   },
   "file_extension": ".py",
   "mimetype": "text/x-python",
   "name": "python",
   "nbconvert_exporter": "python",
   "pygments_lexer": "ipython3",
   "version": "3.11.4"
  }
 },
 "nbformat": 4,
 "nbformat_minor": 4
}
