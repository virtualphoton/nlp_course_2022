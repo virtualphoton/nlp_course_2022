{
 "cells": [
  {
   "cell_type": "code",
   "execution_count": 1,
   "metadata": {},
   "outputs": [],
   "source": [
    "%load_ext autoreload\n",
    "%autoreload 2"
   ]
  },
  {
   "cell_type": "code",
   "execution_count": 2,
   "metadata": {},
   "outputs": [],
   "source": [
    "from ds_utils.torch_utils import (\n",
    "    train_val_test_split,\n",
    "    Apply, map_idx\n",
    ")\n",
    "from ds_utils.train import EarlyStopper, State\n",
    "from ds_utils.plotter import History\n",
    "from ds_utils.utils import map"
   ]
  },
  {
   "cell_type": "code",
   "execution_count": 3,
   "metadata": {},
   "outputs": [],
   "source": [
    "import pandas as pd\n",
    "import numpy as np\n",
    "import torch\n",
    "import torch.nn as nn\n",
    "\n",
    "import numpy as np\n",
    "import pandas as pd\n",
    "from tqdm.auto import tqdm\n",
    "from sklearn.feature_extraction import DictVectorizer\n",
    "import nltk\n",
    "\n",
    "\n",
    "%matplotlib inline"
   ]
  },
  {
   "cell_type": "code",
   "execution_count": 4,
   "metadata": {},
   "outputs": [],
   "source": [
    "data = pd.read_csv(\"./Train_rev1.zip\", compression='zip', index_col=None)\n",
    "data['Log1pSalary'] = np.log1p(data['SalaryNormalized']).astype('float32')\n",
    "\n",
    "############################################################\n",
    "text_columns = [\"Title\", \"FullDescription\"]\n",
    "categorical_columns = [\"Category\", \"Company\", \"LocationNormalized\", \"ContractType\", \"ContractTime\"]\n",
    "TARGET_COLUMN = \"Log1pSalary\"\n",
    "\n",
    "data[categorical_columns] = data[categorical_columns].fillna('NaN')\n",
    "\n",
    "############################################################\n",
    "tokenizer = nltk.tokenize.WordPunctTokenizer()\n",
    "\n",
    "for col in text_columns:\n",
    "    data[col] = data[col]\\\n",
    "        .astype(str)\\\n",
    "        .str.lower()\\\n",
    "        .apply(tokenizer.tokenize)\\\n",
    "        .apply(' '.join)\n"
   ]
  },
  {
   "cell_type": "code",
   "execution_count": null,
   "metadata": {},
   "outputs": [],
   "source": [
    "torch.load"
   ]
  },
  {
   "cell_type": "code",
   "execution_count": null,
   "metadata": {},
   "outputs": [],
   "source": [
    "class SalaryPredictor(nn.Module):\n",
    "    def __init__(self, n_tokens, n_cat_features=len(categorical_vectorizer.vocabulary_),\n",
    "                 hid_size=64, encoded_len=64):\n",
    "        super().__init__()\n",
    "        \n",
    "        self.encoded_len = encoded_len\n",
    "        outp_features = hid_size*3\n",
    "        self.title_encoder = nn.Sequential(\n",
    "            nn.Embedding(n_tokens, self.encoded_len),\n",
    "            Apply(torch.permute, (0, 2, 1)),\n",
    "            nn.Conv1d(self.encoded_len, hid_size, 3),\n",
    "            nn.AdaptiveMaxPool1d(1),\n",
    "            Apply(torch.squeeze, dim=-1)\n",
    "        )\n",
    "        self.description_encoder = nn.Sequential(\n",
    "            nn.Embedding(n_tokens, self.encoded_len),\n",
    "            Apply(torch.permute, (0, 2, 1)),\n",
    "            nn.Conv1d(self.encoded_len, hid_size, 5, ),\n",
    "            nn.AdaptiveMaxPool1d(1),\n",
    "            Apply(torch.squeeze, dim=-1)\n",
    "        )\n",
    "        self.cat_encoder = nn.Sequential(\n",
    "            nn.Linear(n_cat_features, hid_size, bias=False),\n",
    "            nn.BatchNorm1d(hid_size),\n",
    "            nn.ReLU(),\n",
    "            nn.Dropout(.2),\n",
    "            nn.Linear(hid_size, hid_size, bias=False)\n",
    "        )\n",
    "        self.output = nn.Sequential(\n",
    "            nn.BatchNorm1d(outp_features),\n",
    "            nn.ReLU(),\n",
    "            nn.Linear(outp_features, outp_features, bias=False),\n",
    "            nn.BatchNorm1d(outp_features),\n",
    "            nn.ReLU(),\n",
    "            nn.Dropout(.2),\n",
    "            nn.Linear(outp_features, 1),\n",
    "            Apply(torch.squeeze)\n",
    "        )\n",
    "        \n",
    "    def forward(self, batch: dict[str, torch.TensorType]):\n",
    "        title_enc = self.title_encoder(batch[\"title\"])\n",
    "        descr_enc = self.description_encoder(batch[\"descr\"])\n",
    "        cat_enc = self.cat_encoder(batch[\"cat\"])\n",
    "        concat = torch.cat([title_enc, descr_enc, cat_enc], axis=1)\n",
    "        return self.output(concat)\n",
    "    \n",
    "    def predict(self, batch):\n",
    "        return self.forward(batch)"
   ]
  }
 ],
 "metadata": {
  "kernelspec": {
   "display_name": "NLP",
   "language": "python",
   "name": "python3"
  },
  "language_info": {
   "codemirror_mode": {
    "name": "ipython",
    "version": 3
   },
   "file_extension": ".py",
   "mimetype": "text/x-python",
   "name": "python",
   "nbconvert_exporter": "python",
   "pygments_lexer": "ipython3",
   "version": "3.11.4"
  },
  "orig_nbformat": 4
 },
 "nbformat": 4,
 "nbformat_minor": 2
}
