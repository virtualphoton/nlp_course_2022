{
 "cells": [
  {
   "cell_type": "markdown",
   "metadata": {},
   "source": [
    "### Salary prediction, episode II: make it actually work (4 points)\n",
    "\n",
    "Your main task is to use some of the tricks you've learned on the network and analyze if you can improve __validation MAE__. Try __at least 3 options__ from the list below for a passing grade. Write a short report about what you have tried. More ideas = more bonus points. \n",
    "\n",
    "__Please be serious:__ \" plot learning curves in MAE/epoch, compare models based on optimal performance, test one change at a time. You know the drill :)\n",
    "\n",
    "You can use either __pytorch__ or __tensorflow__ or any other framework (e.g. pure __keras__). Feel free to adapt the seminar code for your needs. For tensorflow version, consider `seminar_tf2.ipynb` as a starting point.\n"
   ]
  },
  {
   "cell_type": "markdown",
   "metadata": {},
   "source": [
    "## Research"
   ]
  },
  {
   "cell_type": "markdown",
   "metadata": {},
   "source": [
    "Baseline: model from seminar, extended trainig period"
   ]
  },
  {
   "cell_type": "code",
   "execution_count": 1,
   "metadata": {},
   "outputs": [],
   "source": [
    "%load_ext autoreload"
   ]
  },
  {
   "cell_type": "code",
   "execution_count": 2,
   "metadata": {},
   "outputs": [],
   "source": [
    "%autoreload 2\n",
    "from ds_utils.torch_utils import (\n",
    "    train_val_test_split, device_default,\n",
    "    Apply, map_idx\n",
    ")\n",
    "from ds_utils.train import (\n",
    "    loopa,\n",
    "    EarlyStopper,\n",
    "    mean_metric,\n",
    "    State\n",
    ")\n",
    "from ds_utils.plotter import History, Plotter\n",
    "from ds_utils.magic import reprint\n",
    "from ds_utils.utils import map, filter"
   ]
  },
  {
   "cell_type": "markdown",
   "metadata": {},
   "source": [
    "### Idea E, early stopper, plotting learning curves"
   ]
  },
  {
   "cell_type": "code",
   "execution_count": 3,
   "metadata": {},
   "outputs": [
    {
     "name": "stdout",
     "output_type": "stream",
     "text": [
      "\u001b[0;31mInit signature:\u001b[0m\n",
      "\u001b[0mEarlyStopper\u001b[0m\u001b[0;34m(\u001b[0m\u001b[0;34m\u001b[0m\n",
      "\u001b[0;34m\u001b[0m    \u001b[0mstate\u001b[0m\u001b[0;34m:\u001b[0m \u001b[0mds_utils\u001b[0m\u001b[0;34m.\u001b[0m\u001b[0mtrain\u001b[0m\u001b[0;34m.\u001b[0m\u001b[0mState\u001b[0m\u001b[0;34m,\u001b[0m\u001b[0;34m\u001b[0m\n",
      "\u001b[0;34m\u001b[0m    \u001b[0mloss\u001b[0m\u001b[0;34m:\u001b[0m \u001b[0mstr\u001b[0m \u001b[0;34m=\u001b[0m \u001b[0;34m'loss'\u001b[0m\u001b[0;34m,\u001b[0m\u001b[0;34m\u001b[0m\n",
      "\u001b[0;34m\u001b[0m    \u001b[0mpatience\u001b[0m\u001b[0;34m:\u001b[0m \u001b[0mint\u001b[0m \u001b[0;34m|\u001b[0m \u001b[0;32mNone\u001b[0m \u001b[0;34m=\u001b[0m \u001b[0;36m3\u001b[0m\u001b[0;34m,\u001b[0m\u001b[0;34m\u001b[0m\n",
      "\u001b[0;34m\u001b[0m    \u001b[0mmin_delta\u001b[0m\u001b[0;34m:\u001b[0m \u001b[0mfloat\u001b[0m \u001b[0;34m=\u001b[0m \u001b[0;36m0\u001b[0m\u001b[0;34m,\u001b[0m\u001b[0;34m\u001b[0m\n",
      "\u001b[0;34m\u001b[0m\u001b[0;34m)\u001b[0m \u001b[0;34m->\u001b[0m \u001b[0;32mNone\u001b[0m\u001b[0;34m\u001b[0m\u001b[0;34m\u001b[0m\u001b[0m\n",
      "\u001b[0;31mDocstring:\u001b[0m      EarlyStopper(state: ds_utils.train.State, loss: str = 'loss', patience: int | None = 3, min_delta: float = 0)\n",
      "\u001b[0;31mSource:\u001b[0m        \n",
      "\u001b[0;34m@\u001b[0m\u001b[0mdataclass\u001b[0m\u001b[0;34m\u001b[0m\n",
      "\u001b[0;34m\u001b[0m\u001b[0;32mclass\u001b[0m \u001b[0mEarlyStopper\u001b[0m\u001b[0;34m:\u001b[0m\u001b[0;34m\u001b[0m\n",
      "\u001b[0;34m\u001b[0m    \u001b[0mstate\u001b[0m\u001b[0;34m:\u001b[0m \u001b[0mState\u001b[0m\u001b[0;34m\u001b[0m\n",
      "\u001b[0;34m\u001b[0m    \u001b[0mloss\u001b[0m\u001b[0;34m:\u001b[0m \u001b[0mstr\u001b[0m \u001b[0;34m=\u001b[0m \u001b[0;34m\"loss\"\u001b[0m\u001b[0;34m\u001b[0m\n",
      "\u001b[0;34m\u001b[0m    \u001b[0mpatience\u001b[0m\u001b[0;34m:\u001b[0m \u001b[0mint\u001b[0m \u001b[0;34m|\u001b[0m \u001b[0;32mNone\u001b[0m \u001b[0;34m=\u001b[0m \u001b[0;36m3\u001b[0m\u001b[0;34m\u001b[0m\n",
      "\u001b[0;34m\u001b[0m    \u001b[0mmin_delta\u001b[0m\u001b[0;34m:\u001b[0m \u001b[0mfloat\u001b[0m \u001b[0;34m=\u001b[0m \u001b[0;36m0\u001b[0m\u001b[0;34m\u001b[0m\n",
      "\u001b[0;34m\u001b[0m    \u001b[0;34m\u001b[0m\n",
      "\u001b[0;34m\u001b[0m    \u001b[0;32mdef\u001b[0m \u001b[0m__post_init__\u001b[0m\u001b[0;34m(\u001b[0m\u001b[0mself\u001b[0m\u001b[0;34m)\u001b[0m\u001b[0;34m:\u001b[0m\u001b[0;34m\u001b[0m\n",
      "\u001b[0;34m\u001b[0m        \u001b[0mself\u001b[0m\u001b[0;34m.\u001b[0m\u001b[0mbest_epoch\u001b[0m\u001b[0;34m:\u001b[0m \u001b[0mint\u001b[0m \u001b[0;34m=\u001b[0m \u001b[0;34m-\u001b[0m\u001b[0;36m1\u001b[0m \u001b[0;32mif\u001b[0m \u001b[0;32mnot\u001b[0m \u001b[0mlen\u001b[0m\u001b[0;34m(\u001b[0m\u001b[0mself\u001b[0m\u001b[0;34m.\u001b[0m\u001b[0mstate\u001b[0m\u001b[0;34m.\u001b[0m\u001b[0mhistory\u001b[0m\u001b[0;34m)\u001b[0m \u001b[0;32melse\u001b[0m \u001b[0mself\u001b[0m\u001b[0;34m.\u001b[0m\u001b[0mget_losses\u001b[0m\u001b[0;34m(\u001b[0m\u001b[0;34m)\u001b[0m\u001b[0;34m.\u001b[0m\u001b[0margmin\u001b[0m\u001b[0;34m(\u001b[0m\u001b[0;34m)\u001b[0m \u001b[0;34m+\u001b[0m \u001b[0;36m1\u001b[0m\u001b[0;34m\u001b[0m\n",
      "\u001b[0;34m\u001b[0m        \u001b[0mself\u001b[0m\u001b[0;34m.\u001b[0m\u001b[0mbest_loss\u001b[0m \u001b[0;34m=\u001b[0m \u001b[0mnp\u001b[0m\u001b[0;34m.\u001b[0m\u001b[0minf\u001b[0m \u001b[0;32mif\u001b[0m \u001b[0;32mnot\u001b[0m \u001b[0mlen\u001b[0m\u001b[0;34m(\u001b[0m\u001b[0mself\u001b[0m\u001b[0;34m.\u001b[0m\u001b[0mstate\u001b[0m\u001b[0;34m.\u001b[0m\u001b[0mhistory\u001b[0m\u001b[0;34m)\u001b[0m \u001b[0;32melse\u001b[0m \u001b[0mself\u001b[0m\u001b[0;34m.\u001b[0m\u001b[0mget_losses\u001b[0m\u001b[0;34m(\u001b[0m\u001b[0;34m)\u001b[0m\u001b[0;34m.\u001b[0m\u001b[0mmin\u001b[0m\u001b[0;34m(\u001b[0m\u001b[0;34m)\u001b[0m\u001b[0;34m\u001b[0m\n",
      "\u001b[0;34m\u001b[0m        \u001b[0;34m\u001b[0m\n",
      "\u001b[0;34m\u001b[0m    \u001b[0;32mdef\u001b[0m \u001b[0m__str__\u001b[0m\u001b[0;34m(\u001b[0m\u001b[0mself\u001b[0m\u001b[0;34m)\u001b[0m\u001b[0;34m:\u001b[0m\u001b[0;34m\u001b[0m\n",
      "\u001b[0;34m\u001b[0m        \u001b[0;32mif\u001b[0m \u001b[0mself\u001b[0m\u001b[0;34m.\u001b[0m\u001b[0mloss\u001b[0m\u001b[0;34m.\u001b[0m\u001b[0mstartswith\u001b[0m\u001b[0;34m(\u001b[0m\u001b[0;34m\"-\"\u001b[0m\u001b[0;34m)\u001b[0m\u001b[0;34m:\u001b[0m\u001b[0;34m\u001b[0m\n",
      "\u001b[0;34m\u001b[0m            \u001b[0mmetric\u001b[0m \u001b[0;34m=\u001b[0m \u001b[0mself\u001b[0m\u001b[0;34m.\u001b[0m\u001b[0mloss\u001b[0m\u001b[0;34m[\u001b[0m\u001b[0;36m1\u001b[0m\u001b[0;34m:\u001b[0m\u001b[0;34m]\u001b[0m\u001b[0;34m\u001b[0m\n",
      "\u001b[0;34m\u001b[0m            \u001b[0msign\u001b[0m \u001b[0;34m=\u001b[0m \u001b[0;34m-\u001b[0m\u001b[0;36m1\u001b[0m\u001b[0;34m\u001b[0m\n",
      "\u001b[0;34m\u001b[0m        \u001b[0;32melse\u001b[0m\u001b[0;34m:\u001b[0m\u001b[0;34m\u001b[0m\n",
      "\u001b[0;34m\u001b[0m            \u001b[0mmetric\u001b[0m \u001b[0;34m=\u001b[0m \u001b[0mself\u001b[0m\u001b[0;34m.\u001b[0m\u001b[0mloss\u001b[0m\u001b[0;34m\u001b[0m\n",
      "\u001b[0;34m\u001b[0m            \u001b[0msign\u001b[0m \u001b[0;34m=\u001b[0m \u001b[0;36m1\u001b[0m\u001b[0;34m\u001b[0m\n",
      "\u001b[0;34m\u001b[0m        \u001b[0;32mreturn\u001b[0m \u001b[0;34mf\"based on metric: {metric}, best epoch: {self.best_epoch}, best value: {sign * self.best_loss}\"\u001b[0m\u001b[0;34m\u001b[0m\n",
      "\u001b[0;34m\u001b[0m    \u001b[0;34m\u001b[0m\n",
      "\u001b[0;34m\u001b[0m    \u001b[0;32mdef\u001b[0m \u001b[0mget_losses\u001b[0m\u001b[0;34m(\u001b[0m\u001b[0mself\u001b[0m\u001b[0;34m)\u001b[0m\u001b[0;34m:\u001b[0m\u001b[0;34m\u001b[0m\n",
      "\u001b[0;34m\u001b[0m        \u001b[0;32mif\u001b[0m \u001b[0mself\u001b[0m\u001b[0;34m.\u001b[0m\u001b[0mloss\u001b[0m\u001b[0;34m.\u001b[0m\u001b[0mstartswith\u001b[0m\u001b[0;34m(\u001b[0m\u001b[0;34m\"-\"\u001b[0m\u001b[0;34m)\u001b[0m\u001b[0;34m:\u001b[0m\u001b[0;34m\u001b[0m\n",
      "\u001b[0;34m\u001b[0m            \u001b[0mmetric\u001b[0m \u001b[0;34m=\u001b[0m \u001b[0mself\u001b[0m\u001b[0;34m.\u001b[0m\u001b[0mloss\u001b[0m\u001b[0;34m[\u001b[0m\u001b[0;36m1\u001b[0m\u001b[0;34m:\u001b[0m\u001b[0;34m]\u001b[0m\u001b[0;34m\u001b[0m\n",
      "\u001b[0;34m\u001b[0m            \u001b[0msign\u001b[0m \u001b[0;34m=\u001b[0m \u001b[0;34m-\u001b[0m\u001b[0;36m1\u001b[0m\u001b[0;34m\u001b[0m\n",
      "\u001b[0;34m\u001b[0m        \u001b[0;32melse\u001b[0m\u001b[0;34m:\u001b[0m\u001b[0;34m\u001b[0m\n",
      "\u001b[0;34m\u001b[0m            \u001b[0mmetric\u001b[0m \u001b[0;34m=\u001b[0m \u001b[0mself\u001b[0m\u001b[0;34m.\u001b[0m\u001b[0mloss\u001b[0m\u001b[0;34m\u001b[0m\n",
      "\u001b[0;34m\u001b[0m            \u001b[0msign\u001b[0m \u001b[0;34m=\u001b[0m \u001b[0;36m1\u001b[0m\u001b[0;34m\u001b[0m\n",
      "\u001b[0;34m\u001b[0m        \u001b[0;32mreturn\u001b[0m \u001b[0mnp\u001b[0m\u001b[0;34m.\u001b[0m\u001b[0marray\u001b[0m\u001b[0;34m(\u001b[0m\u001b[0;34m[\u001b[0m\u001b[0msign\u001b[0m \u001b[0;34m*\u001b[0m \u001b[0mres\u001b[0m\u001b[0;34m[\u001b[0m\u001b[0mmetric\u001b[0m\u001b[0;34m]\u001b[0m\u001b[0;34m\u001b[0m\n",
      "\u001b[0;34m\u001b[0m                         \u001b[0;32mfor\u001b[0m \u001b[0mres\u001b[0m \u001b[0;32min\u001b[0m \u001b[0mself\u001b[0m\u001b[0;34m.\u001b[0m\u001b[0mstate\u001b[0m\u001b[0;34m.\u001b[0m\u001b[0mhistory\u001b[0m\u001b[0;34m.\u001b[0m\u001b[0mval\u001b[0m\u001b[0;34m]\u001b[0m\u001b[0;34m)\u001b[0m\u001b[0;34m\u001b[0m\n",
      "\u001b[0;34m\u001b[0m    \u001b[0;34m\u001b[0m\n",
      "\u001b[0;34m\u001b[0m    \u001b[0;32mdef\u001b[0m \u001b[0m__call__\u001b[0m\u001b[0;34m(\u001b[0m\u001b[0mself\u001b[0m\u001b[0;34m)\u001b[0m\u001b[0;34m:\u001b[0m\u001b[0;34m\u001b[0m\n",
      "\u001b[0;34m\u001b[0m        \u001b[0;34m\"\"\"\u001b[0m\n",
      "\u001b[0;34m        saves model on improvement\u001b[0m\n",
      "\u001b[0;34m        returns True if training should stop else False\u001b[0m\n",
      "\u001b[0;34m        \"\"\"\u001b[0m \u001b[0;34m\u001b[0m\n",
      "\u001b[0;34m\u001b[0m        \u001b[0mlosses\u001b[0m \u001b[0;34m=\u001b[0m \u001b[0mself\u001b[0m\u001b[0;34m.\u001b[0m\u001b[0mget_losses\u001b[0m\u001b[0;34m(\u001b[0m\u001b[0;34m)\u001b[0m\u001b[0;34m\u001b[0m\n",
      "\u001b[0;34m\u001b[0m        \u001b[0;32mif\u001b[0m \u001b[0;32mnot\u001b[0m \u001b[0mlen\u001b[0m\u001b[0;34m(\u001b[0m\u001b[0mlosses\u001b[0m\u001b[0;34m)\u001b[0m\u001b[0;34m:\u001b[0m\u001b[0;34m\u001b[0m\n",
      "\u001b[0;34m\u001b[0m            \u001b[0;32mreturn\u001b[0m \u001b[0;32mFalse\u001b[0m\u001b[0;34m\u001b[0m\n",
      "\u001b[0;34m\u001b[0m        \u001b[0;34m\u001b[0m\n",
      "\u001b[0;34m\u001b[0m        \u001b[0;32mif\u001b[0m \u001b[0mlosses\u001b[0m\u001b[0;34m[\u001b[0m\u001b[0;34m-\u001b[0m\u001b[0;36m1\u001b[0m\u001b[0;34m]\u001b[0m \u001b[0;34m<=\u001b[0m \u001b[0mself\u001b[0m\u001b[0;34m.\u001b[0m\u001b[0mbest_loss\u001b[0m\u001b[0;34m:\u001b[0m\u001b[0;34m\u001b[0m\n",
      "\u001b[0;34m\u001b[0m            \u001b[0mself\u001b[0m\u001b[0;34m.\u001b[0m\u001b[0mbest_loss\u001b[0m \u001b[0;34m=\u001b[0m \u001b[0mlosses\u001b[0m\u001b[0;34m[\u001b[0m\u001b[0;34m-\u001b[0m\u001b[0;36m1\u001b[0m\u001b[0;34m]\u001b[0m\u001b[0;34m\u001b[0m\n",
      "\u001b[0;34m\u001b[0m            \u001b[0mself\u001b[0m\u001b[0;34m.\u001b[0m\u001b[0mbest_epoch\u001b[0m \u001b[0;34m=\u001b[0m \u001b[0mlen\u001b[0m\u001b[0;34m(\u001b[0m\u001b[0mself\u001b[0m\u001b[0;34m.\u001b[0m\u001b[0mstate\u001b[0m\u001b[0;34m.\u001b[0m\u001b[0mhistory\u001b[0m\u001b[0;34m)\u001b[0m\u001b[0;34m\u001b[0m\n",
      "\u001b[0;34m\u001b[0m            \u001b[0mself\u001b[0m\u001b[0;34m.\u001b[0m\u001b[0mstate\u001b[0m\u001b[0;34m.\u001b[0m\u001b[0msave\u001b[0m\u001b[0;34m(\u001b[0m\u001b[0;34m)\u001b[0m\u001b[0;34m\u001b[0m\n",
      "\u001b[0;34m\u001b[0m            \u001b[0;32mreturn\u001b[0m \u001b[0;32mFalse\u001b[0m\u001b[0;34m\u001b[0m\n",
      "\u001b[0;34m\u001b[0m        \u001b[0;32mreturn\u001b[0m \u001b[0mlen\u001b[0m\u001b[0;34m(\u001b[0m\u001b[0mlosses\u001b[0m\u001b[0;34m)\u001b[0m \u001b[0;34m>\u001b[0m \u001b[0mself\u001b[0m\u001b[0;34m.\u001b[0m\u001b[0mpatience\u001b[0m \u001b[0;32mand\u001b[0m \u001b[0mnp\u001b[0m\u001b[0;34m.\u001b[0m\u001b[0mall\u001b[0m\u001b[0;34m(\u001b[0m\u001b[0mlosses\u001b[0m\u001b[0;34m[\u001b[0m\u001b[0;34m-\u001b[0m\u001b[0mself\u001b[0m\u001b[0;34m.\u001b[0m\u001b[0mpatience\u001b[0m\u001b[0;34m:\u001b[0m\u001b[0;34m]\u001b[0m \u001b[0;34m>\u001b[0m \u001b[0mself\u001b[0m\u001b[0;34m.\u001b[0m\u001b[0mbest_loss\u001b[0m \u001b[0;34m+\u001b[0m \u001b[0mself\u001b[0m\u001b[0;34m.\u001b[0m\u001b[0mmin_delta\u001b[0m\u001b[0;34m)\u001b[0m\u001b[0;34m\u001b[0m\u001b[0;34m\u001b[0m\u001b[0m\n",
      "\u001b[0;31mFile:\u001b[0m           ~/PyProjects/nlp_course/week02_classification/ds_utils/train.py\n",
      "\u001b[0;31mType:\u001b[0m           type\n",
      "\u001b[0;31mSubclasses:\u001b[0m     "
     ]
    }
   ],
   "source": [
    "EarlyStopper??"
   ]
  },
  {
   "cell_type": "markdown",
   "metadata": {},
   "source": [
    "### Idea C, pre-trained embeddings"
   ]
  },
  {
   "cell_type": "markdown",
   "metadata": {},
   "source": [
    "### datasets, dataloaders"
   ]
  },
  {
   "cell_type": "code",
   "execution_count": 4,
   "metadata": {},
   "outputs": [],
   "source": [
    "from math import ceil\n",
    "from dataclasses import dataclass, field\n",
    "from pathlib import Path\n",
    "from time import sleep\n",
    "\n",
    "import pandas as pd\n",
    "import plotly.express as px\n",
    "from IPython.display import clear_output\n",
    "from plotly.subplots import make_subplots\n",
    "import numpy as np\n",
    "import torch\n",
    "import torch.nn as nn\n",
    "import torch.functional as F\n",
    "\n",
    "import numpy as np\n",
    "import pandas as pd\n",
    "import matplotlib.pyplot as plt\n",
    "from tqdm.auto import tqdm\n",
    "\n",
    "%matplotlib inline"
   ]
  },
  {
   "cell_type": "code",
   "execution_count": 5,
   "metadata": {},
   "outputs": [],
   "source": [
    "import nltk\n",
    "\n",
    "data = pd.read_csv(\"./Train_rev1.zip\", compression='zip', index_col=None)\n",
    "data['Log1pSalary'] = np.log1p(data['SalaryNormalized']).astype('float32')\n",
    "\n",
    "############################################################\n",
    "text_columns = [\"Title\", \"FullDescription\"]\n",
    "categorical_columns = [\"Category\", \"Company\", \"LocationNormalized\", \"ContractType\", \"ContractTime\"]\n",
    "TARGET_COLUMN = \"Log1pSalary\"\n",
    "\n",
    "data[categorical_columns] = data[categorical_columns].fillna('NaN')\n",
    "\n",
    "############################################################\n",
    "tokenizer = nltk.tokenize.WordPunctTokenizer()\n",
    "\n",
    "for col in text_columns:\n",
    "    data[col] = data[col]\\\n",
    "        .astype(str)\\\n",
    "        .str.lower()\\\n",
    "        .apply(tokenizer.tokenize)\\\n",
    "        .apply(' '.join)\n"
   ]
  },
  {
   "cell_type": "code",
   "execution_count": 6,
   "metadata": {},
   "outputs": [],
   "source": [
    "data_train: pd.DataFrame\n",
    "data_val: pd.DataFrame\n",
    "data_test: pd.DataFrame\n",
    "\n",
    "data_train, data_val, data_test  = train_val_test_split(data, val_size=.2, test_size=.1,\n",
    "                                                        random_state=42)\n",
    "for df in data_train, data_val, data_test:\n",
    "    df.reset_index(drop=True, inplace=True)"
   ]
  },
  {
   "cell_type": "code",
   "execution_count": 7,
   "metadata": {},
   "outputs": [],
   "source": [
    "from sklearn.feature_extraction import DictVectorizer\n",
    "\n",
    "drop_protected = [\"Category\", \"ContractType\", \"ContractTime\"]\n",
    "assert (data_train[drop_protected].nunique() == data[drop_protected].nunique()).all()\n",
    "\n",
    "threshold = 5\n",
    "contract = [\"LocationNormalized\", \"Company\"]\n",
    "\n",
    "for col in contract:\n",
    "    mask = data_train[col].value_counts() >= threshold\n",
    "    drop = mask.index[mask.values]\n",
    "    for data_piece in data_train, data_val, data_test:\n",
    "        data_piece[col] = data_piece[col].where(data_piece[col].isin(drop), \"NaN\")\n",
    "    \n",
    "categorical_vectorizer = DictVectorizer(dtype=bool, sparse=False)\n",
    "categorical_vectorizer.fit(data_train[categorical_columns].apply(dict, axis=1));"
   ]
  },
  {
   "cell_type": "code",
   "execution_count": 8,
   "metadata": {},
   "outputs": [],
   "source": [
    "from torch.utils.data.dataloader import Dataset, DataLoader\n",
    "\n",
    "class MyDataset(Dataset):\n",
    "    def __init__(self, data: pd.DataFrame, token_to_id, UNK_IX):\n",
    "        super().__init__()\n",
    "        self.token_to_id = token_to_id\n",
    "        self.UNK_IX = UNK_IX\n",
    "        \n",
    "        self.title: list[torch.Tensor]\n",
    "        self.descr: list[torch.Tensor]\n",
    "        self.cat: torch.Tensor\n",
    "        self.target: torch.Tensor\n",
    "        \n",
    "        self.precompute_data(data)\n",
    "    \n",
    "    def precompute_data(self, data: pd.DataFrame) -> None:\n",
    "        self.title = [torch.tensor([self.token_to_id.get(word, self.UNK_IX)\n",
    "                                    for word in seq])\n",
    "                      for seq in data[\"Title\"].str.split()]\n",
    "        self.descr = [torch.tensor([self.token_to_id.get(word, self.UNK_IX)\n",
    "                                    for word in seq])\n",
    "                      for seq in data[\"FullDescription\"].str.split()]\n",
    "        \n",
    "        self.cat = data[categorical_columns]\n",
    "        \n",
    "        self.target = torch.tensor(data[TARGET_COLUMN].values)\n",
    "    \n",
    "    def __len__(self):\n",
    "        return len(self.title)\n",
    "    \n",
    "    def __getitem__(self, idx: int):\n",
    "        x = {attr : getattr(self, attr)[idx] for attr in [\"title\", \"descr\"]}\n",
    "        x[\"cat\"] = torch.tensor(categorical_vectorizer.transform(\n",
    "            self.cat.iloc[idx][categorical_columns].to_dict()\n",
    "        )[0], dtype=torch.float32)\n",
    "        y = self.target[idx]\n",
    "        return x, y\n",
    "    "
   ]
  },
  {
   "cell_type": "code",
   "execution_count": 9,
   "metadata": {},
   "outputs": [],
   "source": [
    "from torch.utils.data._utils.collate import default_collate\n",
    "\n",
    "def as_matrix(sequences, max_len=None, min_len=5, *, PAD_IX):\n",
    "    \"\"\" Convert a list of tokens into a matrix with padding \"\"\"\n",
    "    max_len = np.clip(max(map(len, sequences)), min_len, max_len)\n",
    "    \n",
    "    matrix = torch.full((len(sequences), max_len), PAD_IX, dtype=torch.int32)\n",
    "    for i, seq in enumerate(sequences):\n",
    "        matrix[i, :min(len(seq), max_len)] = seq[:max_len]\n",
    "    \n",
    "    return matrix\n",
    "\n",
    "def collate_fn(entries, PAD_IX):\n",
    "    texts = {col : as_matrix([entry[0].pop(col) for entry in entries], PAD_IX=PAD_IX)\n",
    "             for col in [\"title\", \"descr\"]}\n",
    "    ret = default_collate(entries)\n",
    "    ret[0][\"cat\"] = ret[0][\"cat\"].to(torch.float32)\n",
    "    ret[0] |= texts\n",
    "    return ret"
   ]
  },
  {
   "cell_type": "code",
   "execution_count": 10,
   "metadata": {},
   "outputs": [],
   "source": [
    "device = 'cuda' if torch.cuda.is_available() else 'cpu'"
   ]
  },
  {
   "cell_type": "markdown",
   "metadata": {},
   "source": [
    "#### baseline"
   ]
  },
  {
   "cell_type": "code",
   "execution_count": null,
   "metadata": {},
   "outputs": [],
   "source": [
    "class SalaryPredictor(nn.Module):\n",
    "    def __init__(self, n_tokens, n_cat_features=len(categorical_vectorizer.vocabulary_),\n",
    "                 hid_size=64, encoded_len=64):\n",
    "        super().__init__()\n",
    "        \n",
    "        self.encoded_len = encoded_len\n",
    "        outp_features = hid_size*3\n",
    "        self.title_encoder = nn.Sequential(\n",
    "            nn.Embedding(n_tokens, self.encoded_len),\n",
    "            Apply(torch.permute, (0, 2, 1)),\n",
    "            nn.Conv1d(self.encoded_len, hid_size, 3),\n",
    "            nn.AdaptiveMaxPool1d(1),\n",
    "            Apply(torch.squeeze, dim=-1)\n",
    "        )\n",
    "        self.description_encoder = nn.Sequential(\n",
    "            nn.Embedding(n_tokens, self.encoded_len),\n",
    "            Apply(torch.permute, (0, 2, 1)),\n",
    "            nn.Conv1d(self.encoded_len, hid_size, 5, ),\n",
    "            nn.AdaptiveMaxPool1d(1),\n",
    "            Apply(torch.squeeze, dim=-1)\n",
    "        )\n",
    "        self.cat_encoder = nn.Sequential(\n",
    "            nn.Linear(n_cat_features, hid_size, bias=False),\n",
    "            nn.BatchNorm1d(hid_size),\n",
    "            nn.ReLU(),\n",
    "            nn.Dropout(.2),\n",
    "            nn.Linear(hid_size, hid_size, bias=False)\n",
    "        )\n",
    "        self.output = nn.Sequential(\n",
    "            nn.BatchNorm1d(outp_features),\n",
    "            nn.ReLU(),\n",
    "            nn.Linear(outp_features, outp_features, bias=False),\n",
    "            nn.BatchNorm1d(outp_features),\n",
    "            nn.ReLU(),\n",
    "            nn.Dropout(.2),\n",
    "            nn.Linear(outp_features, 1),\n",
    "            Apply(torch.squeeze)\n",
    "        )\n",
    "        \n",
    "    def forward(self, batch: dict[str, torch.TensorType]):\n",
    "        title_enc = self.title_encoder(batch[\"title\"])\n",
    "        descr_enc = self.description_encoder(batch[\"descr\"])\n",
    "        cat_enc = self.cat_encoder(batch[\"cat\"])\n",
    "        concat = torch.cat([title_enc, descr_enc, cat_enc], axis=1)\n",
    "        return self.output(concat)\n",
    "    \n",
    "    def predict(self, batch):\n",
    "        return self.forward(batch)"
   ]
  },
  {
   "cell_type": "code",
   "execution_count": 11,
   "metadata": {},
   "outputs": [],
   "source": [
    "from collections import Counter\n",
    "\n",
    "# Count how many times does each token occur in both \"Title\" and \"FullDescription\" in total\n",
    "\n",
    "def baseline_tokens():\n",
    "    token_counts = Counter([word\n",
    "                            for line in data[text_columns].values.flatten()\n",
    "                            for word in line.split()])\n",
    "    min_count = 10\n",
    "\n",
    "    # tokens from token_counts keys that had at least min_count occurrences throughout the dataset\n",
    "    tokens = sorted(t for t, c in token_counts.items() if c >= min_count)\n",
    "\n",
    "    # Add a special tokens for unknown and empty words\n",
    "    UNK, PAD = \"UNK\", \"PAD\"\n",
    "    tokens = [UNK, PAD] + tokens\n",
    "    token_to_id = map_idx(tokens)\n",
    "    return token_to_id, 0, 1"
   ]
  },
  {
   "cell_type": "code",
   "execution_count": null,
   "metadata": {},
   "outputs": [],
   "source": [
    "from functools import partial\n",
    "base_token_to_id, base_UNK, base_PAD = baseline_tokens()\n",
    "train_dataset = MyDataset(data_train, base_token_to_id, base_UNK)\n",
    "val_dataset = MyDataset(data_val, base_token_to_id, base_UNK)\n",
    "test_dataset = MyDataset(data_test, base_token_to_id, base_UNK)"
   ]
  },
  {
   "cell_type": "code",
   "execution_count": 23,
   "metadata": {},
   "outputs": [],
   "source": [
    "batch_size = 256\n",
    "config = dict(collate_fn=partial(collate_fn, PAD_IX=base_PAD), num_workers=12)\n",
    "train_loader = DataLoader(train_dataset, batch_size, shuffle=True, **config)\n",
    "val_loader = DataLoader(val_dataset, batch_size, shuffle=False, **config)\n",
    "test_loader = DataLoader(test_dataset, batch_size, shuffle=False, **config)"
   ]
  },
  {
   "cell_type": "code",
   "execution_count": 32,
   "metadata": {},
   "outputs": [],
   "source": [
    "model = SalaryPredictor(len(base_token_to_id), n_cat_features=len(categorical_vectorizer.vocabulary_),\n",
    "                        encoded_len=100)\n",
    "model.to(device)\n",
    "\n",
    "loss_fn = nn.MSELoss(reduction='sum')\n",
    "state = State(model=model,\n",
    "              optimizer=torch.optim.SGD(model.parameters(), lr=1e-4),\n",
    "              history=History(drop_query=\"epoch < 3\"),\n",
    "              path=\"storage/hw2_base_sem.pth\")\n",
    "\n",
    "stopper = EarlyStopper(state=state, patience=5, loss=\"mse\")"
   ]
  },
  {
   "cell_type": "code",
   "execution_count": null,
   "metadata": {},
   "outputs": [],
   "source": [
    "%%reprint\n",
    "torch.cuda.empty_cache()\n",
    "num_epochs = 100\n",
    "history, model, opt = state.history, state.model, state.optimizer\n",
    "plotter = Plotter(bound_history=history)\n",
    "\n",
    "params = dict(\n",
    "    model=model, optim=opt, device=device,\n",
    "    loss_fn=loss_fn,\n",
    "    metrics=[(\"mse\", *mean_metric(lambda y_pred, y_true: (y_pred - y_true).norm(2)**2)),\n",
    "             (\"mae\", *mean_metric(lambda y_pred, y_true: (y_pred - y_true).norm(1)))]\n",
    ")\n",
    "\n",
    "for _ in state.history.range(num_epochs, stopper, do_tqdm=True):\n",
    "    tr = loopa(**params, dataloader=train_loader, is_train=True)\n",
    "    val = loopa(**params, dataloader=val_loader, is_train=False)\n",
    "    history.push_epoch(tr, val)\n",
    "    plotter.plot()"
   ]
  },
  {
   "cell_type": "code",
   "execution_count": 34,
   "metadata": {},
   "outputs": [
    {
     "data": {
      "application/vnd.plotly.v1+json": {
       "config": {
        "plotlyServerURL": "https://plot.ly"
       },
       "data": [
        {
         "customdata": [
          [
           0.9493544101715088
          ],
          [
           0.38112980127334595
          ]
         ],
         "hovertemplate": "phase=train<br>epoch=%{x}<br>mse=%{customdata[0]:.2f}(epoch < 3)<extra></extra>",
         "legendgroup": "train",
         "marker": {
          "color": "#636efa",
          "size": 10,
          "symbol": "star"
         },
         "mode": "markers",
         "name": "train",
         "orientation": "v",
         "showlegend": true,
         "type": "scatter",
         "x": [
          1,
          2
         ],
         "xaxis": "x",
         "y": [
          0.2910557687282562,
          0.2910557687282562
         ],
         "yaxis": "y"
        },
        {
         "customdata": [
          [
           0.17363597452640533
          ],
          [
           0.13957493007183075
          ]
         ],
         "hovertemplate": "phase=val<br>epoch=%{x}<br>mse=%{customdata[0]:.2f}(epoch < 3)<extra></extra>",
         "legendgroup": "val",
         "marker": {
          "color": "#EF553B",
          "size": 10,
          "symbol": "star"
         },
         "mode": "markers",
         "name": "val",
         "orientation": "v",
         "showlegend": true,
         "type": "scatter",
         "x": [
          1,
          2
         ],
         "xaxis": "x",
         "y": [
          0.11083848029375076,
          0.11083848029375076
         ],
         "yaxis": "y"
        },
        {
         "customdata": [
          [
           0.6732233762741089
          ],
          [
           0.48905861377716064
          ]
         ],
         "hovertemplate": "phase=train<br>epoch=%{x}<br>mae=%{customdata[0]:.2f}(epoch < 3)<extra></extra>",
         "legendgroup": "train",
         "marker": {
          "color": "#636efa",
          "size": 10,
          "symbol": "star"
         },
         "mode": "markers",
         "name": "train",
         "orientation": "v",
         "showlegend": false,
         "type": "scatter",
         "x": [
          1,
          2
         ],
         "xaxis": "x2",
         "y": [
          0.42622190713882446,
          0.42622190713882446
         ],
         "yaxis": "y2"
        },
        {
         "customdata": [
          [
           0.3247888386249542
          ],
          [
           0.2885837256908417
          ]
         ],
         "hovertemplate": "phase=val<br>epoch=%{x}<br>mae=%{customdata[0]:.2f}(epoch < 3)<extra></extra>",
         "legendgroup": "val",
         "marker": {
          "color": "#EF553B",
          "size": 10,
          "symbol": "star"
         },
         "mode": "markers",
         "name": "val",
         "orientation": "v",
         "showlegend": false,
         "type": "scatter",
         "x": [
          1,
          2
         ],
         "xaxis": "x2",
         "y": [
          0.2535645067691803,
          0.2535645067691803
         ],
         "yaxis": "y2"
        },
        {
         "hovertemplate": "phase=train<br>epoch=%{x}<br>mse=%{y}<extra></extra>",
         "legendgroup": "train",
         "marker": {
          "color": "#636efa",
          "symbol": "circle"
         },
         "mode": "lines",
         "name": "train",
         "orientation": "v",
         "showlegend": false,
         "type": "scatter",
         "x": [
          3,
          4,
          5,
          6,
          7,
          8,
          9,
          10,
          11,
          12,
          13,
          14,
          15,
          16,
          17,
          18,
          19,
          20,
          21,
          22,
          23,
          24,
          25,
          26
         ],
         "xaxis": "x",
         "y": [
          0.2910557687282562,
          0.24524550139904022,
          0.20698188245296478,
          0.17845697700977325,
          0.15526022017002106,
          0.14033697545528412,
          0.13118784129619598,
          0.11700210720300674,
          0.11097979545593262,
          0.1053270548582077,
          0.09789779782295227,
          0.09534803032875061,
          0.09180609881877899,
          0.0879572182893753,
          0.0865217000246048,
          0.08413579314947128,
          0.08190899342298508,
          0.07900650054216385,
          0.07784562557935715,
          0.07681617140769958,
          0.0747261643409729,
          0.0750838965177536,
          0.07329853624105453,
          0.07331965118646622
         ],
         "yaxis": "y"
        },
        {
         "hovertemplate": "phase=val<br>epoch=%{x}<br>mse=%{y}<extra></extra>",
         "legendgroup": "val",
         "marker": {
          "color": "#EF553B",
          "symbol": "circle"
         },
         "mode": "lines",
         "name": "val",
         "orientation": "v",
         "showlegend": false,
         "type": "scatter",
         "x": [
          3,
          4,
          5,
          6,
          7,
          8,
          9,
          10,
          11,
          12,
          13,
          14,
          15,
          16,
          17,
          18,
          19,
          20,
          21,
          22,
          23,
          24,
          25,
          26
         ],
         "xaxis": "x",
         "y": [
          0.11083848029375076,
          0.11662489175796509,
          0.11193348467350006,
          0.09229490160942078,
          0.09202313423156738,
          0.08706381916999817,
          0.08496470749378204,
          0.08411514759063721,
          0.0833214744925499,
          0.08531427383422852,
          0.0796533077955246,
          0.07979313284158707,
          0.07761326432228088,
          0.07809208333492279,
          0.07686401158571243,
          0.07766060531139374,
          0.07609794288873672,
          0.07445472478866577,
          0.07436877489089966,
          0.07603023946285248,
          0.07583630830049515,
          0.07456671446561813,
          0.0748310461640358,
          0.0755305141210556
         ],
         "yaxis": "y"
        },
        {
         "hovertemplate": "phase=train<br>epoch=%{x}<br>mae=%{y}<extra></extra>",
         "legendgroup": "train",
         "marker": {
          "color": "#636efa",
          "symbol": "circle"
         },
         "mode": "lines",
         "name": "train",
         "orientation": "v",
         "showlegend": false,
         "type": "scatter",
         "x": [
          3,
          4,
          5,
          6,
          7,
          8,
          9,
          10,
          11,
          12,
          13,
          14,
          15,
          16,
          17,
          18,
          19,
          20,
          21,
          22,
          23,
          24,
          25,
          26
         ],
         "xaxis": "x2",
         "y": [
          0.42622190713882446,
          0.3911699056625366,
          0.357905775308609,
          0.3312374949455261,
          0.30801302194595337,
          0.2916986346244812,
          0.2809772491455078,
          0.2644903361797333,
          0.257071852684021,
          0.24962981045246124,
          0.23997054994106293,
          0.23618967831134796,
          0.23125343024730682,
          0.22584813833236694,
          0.22405599057674408,
          0.2205410599708557,
          0.21708786487579346,
          0.21265780925750732,
          0.2110176831483841,
          0.209483802318573,
          0.20638854801654816,
          0.20724418759346008,
          0.20438222587108612,
          0.20448069274425507
         ],
         "yaxis": "y2"
        },
        {
         "hovertemplate": "phase=val<br>epoch=%{x}<br>mae=%{y}<extra></extra>",
         "legendgroup": "val",
         "marker": {
          "color": "#EF553B",
          "symbol": "circle"
         },
         "mode": "lines",
         "name": "val",
         "orientation": "v",
         "showlegend": false,
         "type": "scatter",
         "x": [
          3,
          4,
          5,
          6,
          7,
          8,
          9,
          10,
          11,
          12,
          13,
          14,
          15,
          16,
          17,
          18,
          19,
          20,
          21,
          22,
          23,
          24,
          25,
          26
         ],
         "xaxis": "x2",
         "y": [
          0.2535645067691803,
          0.2609046399593353,
          0.2554331123828888,
          0.22840608656406403,
          0.22825618088245392,
          0.22073350846767426,
          0.21774929761886597,
          0.2170483022928238,
          0.21521657705307007,
          0.2182663530111313,
          0.20998114347457886,
          0.2110358625650406,
          0.20695513486862183,
          0.20855939388275146,
          0.20607800781726837,
          0.2067941576242447,
          0.2046840637922287,
          0.20242847502231598,
          0.20191863179206848,
          0.20545566082000732,
          0.20445112884044647,
          0.20310993492603302,
          0.20394089818000793,
          0.20512764155864716
         ],
         "yaxis": "y2"
        }
       ],
       "layout": {
        "annotations": [
         {
          "font": {
           "size": 16
          },
          "showarrow": false,
          "text": "mse",
          "x": 0.225,
          "xanchor": "center",
          "xref": "paper",
          "y": 1,
          "yanchor": "bottom",
          "yref": "paper"
         },
         {
          "font": {
           "size": 16
          },
          "showarrow": false,
          "text": "mae",
          "x": 0.775,
          "xanchor": "center",
          "xref": "paper",
          "y": 1,
          "yanchor": "bottom",
          "yref": "paper"
         }
        ],
        "height": 600,
        "showlegend": true,
        "template": {
         "data": {
          "bar": [
           {
            "error_x": {
             "color": "#2a3f5f"
            },
            "error_y": {
             "color": "#2a3f5f"
            },
            "marker": {
             "line": {
              "color": "#E5ECF6",
              "width": 0.5
             },
             "pattern": {
              "fillmode": "overlay",
              "size": 10,
              "solidity": 0.2
             }
            },
            "type": "bar"
           }
          ],
          "barpolar": [
           {
            "marker": {
             "line": {
              "color": "#E5ECF6",
              "width": 0.5
             },
             "pattern": {
              "fillmode": "overlay",
              "size": 10,
              "solidity": 0.2
             }
            },
            "type": "barpolar"
           }
          ],
          "carpet": [
           {
            "aaxis": {
             "endlinecolor": "#2a3f5f",
             "gridcolor": "white",
             "linecolor": "white",
             "minorgridcolor": "white",
             "startlinecolor": "#2a3f5f"
            },
            "baxis": {
             "endlinecolor": "#2a3f5f",
             "gridcolor": "white",
             "linecolor": "white",
             "minorgridcolor": "white",
             "startlinecolor": "#2a3f5f"
            },
            "type": "carpet"
           }
          ],
          "choropleth": [
           {
            "colorbar": {
             "outlinewidth": 0,
             "ticks": ""
            },
            "type": "choropleth"
           }
          ],
          "contour": [
           {
            "colorbar": {
             "outlinewidth": 0,
             "ticks": ""
            },
            "colorscale": [
             [
              0,
              "#0d0887"
             ],
             [
              0.1111111111111111,
              "#46039f"
             ],
             [
              0.2222222222222222,
              "#7201a8"
             ],
             [
              0.3333333333333333,
              "#9c179e"
             ],
             [
              0.4444444444444444,
              "#bd3786"
             ],
             [
              0.5555555555555556,
              "#d8576b"
             ],
             [
              0.6666666666666666,
              "#ed7953"
             ],
             [
              0.7777777777777778,
              "#fb9f3a"
             ],
             [
              0.8888888888888888,
              "#fdca26"
             ],
             [
              1,
              "#f0f921"
             ]
            ],
            "type": "contour"
           }
          ],
          "contourcarpet": [
           {
            "colorbar": {
             "outlinewidth": 0,
             "ticks": ""
            },
            "type": "contourcarpet"
           }
          ],
          "heatmap": [
           {
            "colorbar": {
             "outlinewidth": 0,
             "ticks": ""
            },
            "colorscale": [
             [
              0,
              "#0d0887"
             ],
             [
              0.1111111111111111,
              "#46039f"
             ],
             [
              0.2222222222222222,
              "#7201a8"
             ],
             [
              0.3333333333333333,
              "#9c179e"
             ],
             [
              0.4444444444444444,
              "#bd3786"
             ],
             [
              0.5555555555555556,
              "#d8576b"
             ],
             [
              0.6666666666666666,
              "#ed7953"
             ],
             [
              0.7777777777777778,
              "#fb9f3a"
             ],
             [
              0.8888888888888888,
              "#fdca26"
             ],
             [
              1,
              "#f0f921"
             ]
            ],
            "type": "heatmap"
           }
          ],
          "heatmapgl": [
           {
            "colorbar": {
             "outlinewidth": 0,
             "ticks": ""
            },
            "colorscale": [
             [
              0,
              "#0d0887"
             ],
             [
              0.1111111111111111,
              "#46039f"
             ],
             [
              0.2222222222222222,
              "#7201a8"
             ],
             [
              0.3333333333333333,
              "#9c179e"
             ],
             [
              0.4444444444444444,
              "#bd3786"
             ],
             [
              0.5555555555555556,
              "#d8576b"
             ],
             [
              0.6666666666666666,
              "#ed7953"
             ],
             [
              0.7777777777777778,
              "#fb9f3a"
             ],
             [
              0.8888888888888888,
              "#fdca26"
             ],
             [
              1,
              "#f0f921"
             ]
            ],
            "type": "heatmapgl"
           }
          ],
          "histogram": [
           {
            "marker": {
             "pattern": {
              "fillmode": "overlay",
              "size": 10,
              "solidity": 0.2
             }
            },
            "type": "histogram"
           }
          ],
          "histogram2d": [
           {
            "colorbar": {
             "outlinewidth": 0,
             "ticks": ""
            },
            "colorscale": [
             [
              0,
              "#0d0887"
             ],
             [
              0.1111111111111111,
              "#46039f"
             ],
             [
              0.2222222222222222,
              "#7201a8"
             ],
             [
              0.3333333333333333,
              "#9c179e"
             ],
             [
              0.4444444444444444,
              "#bd3786"
             ],
             [
              0.5555555555555556,
              "#d8576b"
             ],
             [
              0.6666666666666666,
              "#ed7953"
             ],
             [
              0.7777777777777778,
              "#fb9f3a"
             ],
             [
              0.8888888888888888,
              "#fdca26"
             ],
             [
              1,
              "#f0f921"
             ]
            ],
            "type": "histogram2d"
           }
          ],
          "histogram2dcontour": [
           {
            "colorbar": {
             "outlinewidth": 0,
             "ticks": ""
            },
            "colorscale": [
             [
              0,
              "#0d0887"
             ],
             [
              0.1111111111111111,
              "#46039f"
             ],
             [
              0.2222222222222222,
              "#7201a8"
             ],
             [
              0.3333333333333333,
              "#9c179e"
             ],
             [
              0.4444444444444444,
              "#bd3786"
             ],
             [
              0.5555555555555556,
              "#d8576b"
             ],
             [
              0.6666666666666666,
              "#ed7953"
             ],
             [
              0.7777777777777778,
              "#fb9f3a"
             ],
             [
              0.8888888888888888,
              "#fdca26"
             ],
             [
              1,
              "#f0f921"
             ]
            ],
            "type": "histogram2dcontour"
           }
          ],
          "mesh3d": [
           {
            "colorbar": {
             "outlinewidth": 0,
             "ticks": ""
            },
            "type": "mesh3d"
           }
          ],
          "parcoords": [
           {
            "line": {
             "colorbar": {
              "outlinewidth": 0,
              "ticks": ""
             }
            },
            "type": "parcoords"
           }
          ],
          "pie": [
           {
            "automargin": true,
            "type": "pie"
           }
          ],
          "scatter": [
           {
            "fillpattern": {
             "fillmode": "overlay",
             "size": 10,
             "solidity": 0.2
            },
            "type": "scatter"
           }
          ],
          "scatter3d": [
           {
            "line": {
             "colorbar": {
              "outlinewidth": 0,
              "ticks": ""
             }
            },
            "marker": {
             "colorbar": {
              "outlinewidth": 0,
              "ticks": ""
             }
            },
            "type": "scatter3d"
           }
          ],
          "scattercarpet": [
           {
            "marker": {
             "colorbar": {
              "outlinewidth": 0,
              "ticks": ""
             }
            },
            "type": "scattercarpet"
           }
          ],
          "scattergeo": [
           {
            "marker": {
             "colorbar": {
              "outlinewidth": 0,
              "ticks": ""
             }
            },
            "type": "scattergeo"
           }
          ],
          "scattergl": [
           {
            "marker": {
             "colorbar": {
              "outlinewidth": 0,
              "ticks": ""
             }
            },
            "type": "scattergl"
           }
          ],
          "scattermapbox": [
           {
            "marker": {
             "colorbar": {
              "outlinewidth": 0,
              "ticks": ""
             }
            },
            "type": "scattermapbox"
           }
          ],
          "scatterpolar": [
           {
            "marker": {
             "colorbar": {
              "outlinewidth": 0,
              "ticks": ""
             }
            },
            "type": "scatterpolar"
           }
          ],
          "scatterpolargl": [
           {
            "marker": {
             "colorbar": {
              "outlinewidth": 0,
              "ticks": ""
             }
            },
            "type": "scatterpolargl"
           }
          ],
          "scatterternary": [
           {
            "marker": {
             "colorbar": {
              "outlinewidth": 0,
              "ticks": ""
             }
            },
            "type": "scatterternary"
           }
          ],
          "surface": [
           {
            "colorbar": {
             "outlinewidth": 0,
             "ticks": ""
            },
            "colorscale": [
             [
              0,
              "#0d0887"
             ],
             [
              0.1111111111111111,
              "#46039f"
             ],
             [
              0.2222222222222222,
              "#7201a8"
             ],
             [
              0.3333333333333333,
              "#9c179e"
             ],
             [
              0.4444444444444444,
              "#bd3786"
             ],
             [
              0.5555555555555556,
              "#d8576b"
             ],
             [
              0.6666666666666666,
              "#ed7953"
             ],
             [
              0.7777777777777778,
              "#fb9f3a"
             ],
             [
              0.8888888888888888,
              "#fdca26"
             ],
             [
              1,
              "#f0f921"
             ]
            ],
            "type": "surface"
           }
          ],
          "table": [
           {
            "cells": {
             "fill": {
              "color": "#EBF0F8"
             },
             "line": {
              "color": "white"
             }
            },
            "header": {
             "fill": {
              "color": "#C8D4E3"
             },
             "line": {
              "color": "white"
             }
            },
            "type": "table"
           }
          ]
         },
         "layout": {
          "annotationdefaults": {
           "arrowcolor": "#2a3f5f",
           "arrowhead": 0,
           "arrowwidth": 1
          },
          "autotypenumbers": "strict",
          "coloraxis": {
           "colorbar": {
            "outlinewidth": 0,
            "ticks": ""
           }
          },
          "colorscale": {
           "diverging": [
            [
             0,
             "#8e0152"
            ],
            [
             0.1,
             "#c51b7d"
            ],
            [
             0.2,
             "#de77ae"
            ],
            [
             0.3,
             "#f1b6da"
            ],
            [
             0.4,
             "#fde0ef"
            ],
            [
             0.5,
             "#f7f7f7"
            ],
            [
             0.6,
             "#e6f5d0"
            ],
            [
             0.7,
             "#b8e186"
            ],
            [
             0.8,
             "#7fbc41"
            ],
            [
             0.9,
             "#4d9221"
            ],
            [
             1,
             "#276419"
            ]
           ],
           "sequential": [
            [
             0,
             "#0d0887"
            ],
            [
             0.1111111111111111,
             "#46039f"
            ],
            [
             0.2222222222222222,
             "#7201a8"
            ],
            [
             0.3333333333333333,
             "#9c179e"
            ],
            [
             0.4444444444444444,
             "#bd3786"
            ],
            [
             0.5555555555555556,
             "#d8576b"
            ],
            [
             0.6666666666666666,
             "#ed7953"
            ],
            [
             0.7777777777777778,
             "#fb9f3a"
            ],
            [
             0.8888888888888888,
             "#fdca26"
            ],
            [
             1,
             "#f0f921"
            ]
           ],
           "sequentialminus": [
            [
             0,
             "#0d0887"
            ],
            [
             0.1111111111111111,
             "#46039f"
            ],
            [
             0.2222222222222222,
             "#7201a8"
            ],
            [
             0.3333333333333333,
             "#9c179e"
            ],
            [
             0.4444444444444444,
             "#bd3786"
            ],
            [
             0.5555555555555556,
             "#d8576b"
            ],
            [
             0.6666666666666666,
             "#ed7953"
            ],
            [
             0.7777777777777778,
             "#fb9f3a"
            ],
            [
             0.8888888888888888,
             "#fdca26"
            ],
            [
             1,
             "#f0f921"
            ]
           ]
          },
          "colorway": [
           "#636efa",
           "#EF553B",
           "#00cc96",
           "#ab63fa",
           "#FFA15A",
           "#19d3f3",
           "#FF6692",
           "#B6E880",
           "#FF97FF",
           "#FECB52"
          ],
          "font": {
           "color": "#2a3f5f"
          },
          "geo": {
           "bgcolor": "white",
           "lakecolor": "white",
           "landcolor": "#E5ECF6",
           "showlakes": true,
           "showland": true,
           "subunitcolor": "white"
          },
          "hoverlabel": {
           "align": "left"
          },
          "hovermode": "closest",
          "mapbox": {
           "style": "light"
          },
          "paper_bgcolor": "white",
          "plot_bgcolor": "#E5ECF6",
          "polar": {
           "angularaxis": {
            "gridcolor": "white",
            "linecolor": "white",
            "ticks": ""
           },
           "bgcolor": "#E5ECF6",
           "radialaxis": {
            "gridcolor": "white",
            "linecolor": "white",
            "ticks": ""
           }
          },
          "scene": {
           "xaxis": {
            "backgroundcolor": "#E5ECF6",
            "gridcolor": "white",
            "gridwidth": 2,
            "linecolor": "white",
            "showbackground": true,
            "ticks": "",
            "zerolinecolor": "white"
           },
           "yaxis": {
            "backgroundcolor": "#E5ECF6",
            "gridcolor": "white",
            "gridwidth": 2,
            "linecolor": "white",
            "showbackground": true,
            "ticks": "",
            "zerolinecolor": "white"
           },
           "zaxis": {
            "backgroundcolor": "#E5ECF6",
            "gridcolor": "white",
            "gridwidth": 2,
            "linecolor": "white",
            "showbackground": true,
            "ticks": "",
            "zerolinecolor": "white"
           }
          },
          "shapedefaults": {
           "line": {
            "color": "#2a3f5f"
           }
          },
          "ternary": {
           "aaxis": {
            "gridcolor": "white",
            "linecolor": "white",
            "ticks": ""
           },
           "baxis": {
            "gridcolor": "white",
            "linecolor": "white",
            "ticks": ""
           },
           "bgcolor": "#E5ECF6",
           "caxis": {
            "gridcolor": "white",
            "linecolor": "white",
            "ticks": ""
           }
          },
          "title": {
           "x": 0.05
          },
          "xaxis": {
           "automargin": true,
           "gridcolor": "white",
           "linecolor": "white",
           "ticks": "",
           "title": {
            "standoff": 15
           },
           "zerolinecolor": "white",
           "zerolinewidth": 2
          },
          "yaxis": {
           "automargin": true,
           "gridcolor": "white",
           "linecolor": "white",
           "ticks": "",
           "title": {
            "standoff": 15
           },
           "zerolinecolor": "white",
           "zerolinewidth": 2
          }
         }
        },
        "width": 1000,
        "xaxis": {
         "anchor": "y",
         "domain": [
          0,
          0.45
         ]
        },
        "xaxis2": {
         "anchor": "y2",
         "domain": [
          0.55,
          1
         ]
        },
        "yaxis": {
         "anchor": "x",
         "domain": [
          0,
          1
         ]
        },
        "yaxis2": {
         "anchor": "x2",
         "domain": [
          0,
          1
         ]
        }
       }
      }
     },
     "metadata": {},
     "output_type": "display_data"
    }
   ],
   "source": [
    "plotter.draw_no_widget()"
   ]
  },
  {
   "cell_type": "markdown",
   "metadata": {},
   "source": [
    "#### with pretrained embeddings"
   ]
  },
  {
   "cell_type": "code",
   "execution_count": 81,
   "metadata": {},
   "outputs": [],
   "source": [
    "class SalaryPredictorFineTune(nn.Module):\n",
    "    def __init__(self, n_cat_features=len(categorical_vectorizer.vocabulary_),\n",
    "                 hid_size=64, *, embedding_layer):\n",
    "        super().__init__()\n",
    "        \n",
    "        outp_features = hid_size*3\n",
    "        self.embedding_dim = embedding_layer.embedding_dim\n",
    "        self.title_encoder = nn.Sequential(\n",
    "            embedding_layer,\n",
    "            Apply(torch.permute, (0, 2, 1)),\n",
    "            nn.Conv1d(self.embedding_dim, hid_size, 3),\n",
    "            nn.AdaptiveMaxPool1d(1),\n",
    "            Apply(torch.squeeze, dim=-1)\n",
    "        )\n",
    "        self.description_encoder = nn.Sequential(\n",
    "            embedding_layer,\n",
    "            Apply(torch.permute, (0, 2, 1)),\n",
    "            nn.Conv1d(self.embedding_dim, hid_size, 5, ),\n",
    "            nn.AdaptiveMaxPool1d(1),\n",
    "            Apply(torch.squeeze, dim=-1)\n",
    "        )\n",
    "        self.cat_encoder = nn.Sequential(\n",
    "            nn.Linear(n_cat_features, hid_size, bias=False),\n",
    "            nn.BatchNorm1d(hid_size),\n",
    "            nn.ReLU(),\n",
    "            nn.Linear(hid_size, hid_size, bias=False)\n",
    "        )\n",
    "        self.output = nn.Sequential(\n",
    "            nn.Linear(outp_features, outp_features, bias=False),\n",
    "            nn.BatchNorm1d(outp_features),\n",
    "            nn.ReLU(),\n",
    "            nn.Linear(outp_features, 1),\n",
    "            Apply(torch.squeeze)\n",
    "        )\n",
    "        \n",
    "    def forward(self, batch: dict[str, torch.TensorType]):\n",
    "        title_enc = self.title_encoder(batch[\"title\"])\n",
    "        descr_enc = self.description_encoder(batch[\"descr\"])\n",
    "        cat_enc = self.cat_encoder(batch[\"cat\"])\n",
    "        concat = torch.cat([title_enc, descr_enc, cat_enc], axis=1)\n",
    "        return self.output(concat)\n",
    "    \n",
    "    def predict(self, batch):\n",
    "        return self.forward(batch)"
   ]
  },
  {
   "cell_type": "code",
   "execution_count": null,
   "metadata": {},
   "outputs": [],
   "source": [
    "import gensim.downloader as api\n",
    "embedding_model = api.load('glove-twitter-100')\n",
    "\n",
    "num_of_words = embedding_model.vectors.shape[0]\n",
    "PAD_IX, UNK_IX = num_of_words, num_of_words + 1\n",
    "token_to_id = embedding_model.key_to_index"
   ]
  },
  {
   "cell_type": "code",
   "execution_count": null,
   "metadata": {},
   "outputs": [],
   "source": [
    "train_dataset = MyDataset(data_train, token_to_id, UNK_IX)\n",
    "val_dataset = MyDataset(data_val, token_to_id, UNK_IX)\n",
    "test_dataset = MyDataset(data_test, token_to_id, UNK_IX)"
   ]
  },
  {
   "cell_type": "code",
   "execution_count": null,
   "metadata": {},
   "outputs": [],
   "source": [
    "batch_size = 256\n",
    "config = dict(collate_fn=partial(collate_fn, PAD_IX=PAD_IX), num_workers=12)\n",
    "train_loader = DataLoader(train_dataset, batch_size, shuffle=True, **config)\n",
    "val_loader = DataLoader(val_dataset, batch_size, shuffle=False, **config)\n",
    "test_loader = DataLoader(test_dataset, batch_size, shuffle=False, **config)"
   ]
  },
  {
   "cell_type": "code",
   "execution_count": 25,
   "metadata": {},
   "outputs": [
    {
     "name": "stderr",
     "output_type": "stream",
     "text": [
      "/home/photon/PyProjects/nlp_course/week02_classification/ds_utils/train.py:120: UserWarning:\n",
      "\n",
      "Saver: storage/hw2_embed.pth already exists!\n",
      "\n"
     ]
    }
   ],
   "source": [
    "embedding_layer = nn.Embedding.from_pretrained(torch.vstack([\n",
    "    torch.tensor(embedding_model.vectors),\n",
    "    torch.randn((2, embedding_model.vector_size))\n",
    "]))\n",
    "\n",
    "model = SalaryPredictorFineTune(n_cat_features=len(categorical_vectorizer.vocabulary_),\n",
    "                                embedding_layer=embedding_layer)\n",
    "model.to(device)\n",
    "\n",
    "loss_fn = nn.MSELoss(reduction='sum')\n",
    "state = State(model=model,\n",
    "              optimizer=torch.optim.SGD(model.parameters(), lr=1e-4),\n",
    "              history=History(drop_query=\"epoch < 3\"),\n",
    "              path=\"storage/hw2_embed.pth\")\n",
    "\n",
    "stopper = EarlyStopper(state=state, patience=5, loss=\"mse\")"
   ]
  },
  {
   "cell_type": "code",
   "execution_count": null,
   "metadata": {},
   "outputs": [],
   "source": [
    "%%reprint\n",
    "torch.cuda.empty_cache()\n",
    "num_epochs = 100\n",
    "history, model, opt = state.history, state.model, state.optimizer\n",
    "plotter = Plotter(bound_history=history)\n",
    "\n",
    "params = dict(\n",
    "    model=model, optim=opt, device=device,\n",
    "    loss_fn=loss_fn,\n",
    "    metrics=[(\"mse\", *mean_metric(lambda y_pred, y_true: (y_pred - y_true).norm(2)**2)),\n",
    "             (\"mae\", *mean_metric(lambda y_pred, y_true: (y_pred - y_true).norm(1)))]\n",
    ")\n",
    "\n",
    "for _ in state.history.range(num_epochs, stopper, do_tqdm=True):\n",
    "    tr = loopa(**params, dataloader=train_loader, is_train=True)\n",
    "    val = loopa(**params, dataloader=val_loader, is_train=False)\n",
    "    history.push_epoch(tr, val)\n",
    "    plotter.plot()"
   ]
  },
  {
   "cell_type": "code",
   "execution_count": 27,
   "metadata": {},
   "outputs": [
    {
     "data": {
      "application/vnd.plotly.v1+json": {
       "config": {
        "plotlyServerURL": "https://plot.ly"
       },
       "data": [
        {
         "customdata": [
          [
           0.5471287369728088
          ],
          [
           0.34562355279922485
          ]
         ],
         "hovertemplate": "phase=train<br>epoch=%{x}<br>mae=%{customdata[0]:.2f}(epoch < 3)<extra></extra>",
         "legendgroup": "train",
         "marker": {
          "color": "#636efa",
          "size": 10,
          "symbol": "star"
         },
         "mode": "markers",
         "name": "train",
         "orientation": "v",
         "showlegend": true,
         "type": "scatter",
         "x": [
          1,
          2
         ],
         "xaxis": "x",
         "y": [
          0.3015231490135193,
          0.3015231490135193
         ],
         "yaxis": "y"
        },
        {
         "customdata": [
          [
           0.2848532199859619
          ],
          [
           0.34456366300582886
          ]
         ],
         "hovertemplate": "phase=val<br>epoch=%{x}<br>mae=%{customdata[0]:.2f}(epoch < 3)<extra></extra>",
         "legendgroup": "val",
         "marker": {
          "color": "#EF553B",
          "size": 10,
          "symbol": "star"
         },
         "mode": "markers",
         "name": "val",
         "orientation": "v",
         "showlegend": true,
         "type": "scatter",
         "x": [
          1,
          2
         ],
         "xaxis": "x",
         "y": [
          0.2456558793783188,
          0.2456558793783188
         ],
         "yaxis": "y"
        },
        {
         "customdata": [
          [
           0.836852490901947
          ],
          [
           0.19449399411678314
          ]
         ],
         "hovertemplate": "phase=train<br>epoch=%{x}<br>mse=%{customdata[0]:.2f}(epoch < 3)<extra></extra>",
         "legendgroup": "train",
         "marker": {
          "color": "#636efa",
          "size": 10,
          "symbol": "star"
         },
         "mode": "markers",
         "name": "train",
         "orientation": "v",
         "showlegend": false,
         "type": "scatter",
         "x": [
          1,
          2
         ],
         "xaxis": "x2",
         "y": [
          0.15039175748825073,
          0.15039175748825073
         ],
         "yaxis": "y2"
        },
        {
         "customdata": [
          [
           0.13602399826049805
          ],
          [
           0.18548142910003662
          ]
         ],
         "hovertemplate": "phase=val<br>epoch=%{x}<br>mse=%{customdata[0]:.2f}(epoch < 3)<extra></extra>",
         "legendgroup": "val",
         "marker": {
          "color": "#EF553B",
          "size": 10,
          "symbol": "star"
         },
         "mode": "markers",
         "name": "val",
         "orientation": "v",
         "showlegend": false,
         "type": "scatter",
         "x": [
          1,
          2
         ],
         "xaxis": "x2",
         "y": [
          0.10462075471878052,
          0.10462075471878052
         ],
         "yaxis": "y2"
        },
        {
         "hovertemplate": "phase=train<br>epoch=%{x}<br>mae=%{y}<extra></extra>",
         "legendgroup": "train",
         "marker": {
          "color": "#636efa",
          "symbol": "circle"
         },
         "mode": "lines",
         "name": "train",
         "orientation": "v",
         "showlegend": false,
         "type": "scatter",
         "x": [
          3,
          4,
          5,
          6,
          7,
          8,
          9,
          10,
          11,
          12,
          13,
          14,
          15,
          16,
          17,
          18,
          19,
          20,
          21,
          22,
          23,
          24,
          25,
          26,
          27,
          28,
          29,
          30,
          31,
          32,
          33,
          34,
          35
         ],
         "xaxis": "x",
         "y": [
          0.3015231490135193,
          0.27613940834999084,
          0.26272809505462646,
          0.25065991282463074,
          0.24197979271411896,
          0.23732581734657288,
          0.23050837218761444,
          0.22398002445697784,
          0.22051002085208893,
          0.21606431901454926,
          0.21213580667972565,
          0.21113428473472595,
          0.20692020654678345,
          0.2052868902683258,
          0.20200516283512115,
          0.20169688761234283,
          0.19856923818588257,
          0.1969677358865738,
          0.19568632543087006,
          0.19301706552505493,
          0.19175086915493011,
          0.1894465982913971,
          0.19037331640720367,
          0.18624870479106903,
          0.18505895137786865,
          0.18367153406143188,
          0.1854187697172165,
          0.1851378232240677,
          0.18293780088424683,
          0.18097960948944092,
          0.1796935498714447,
          0.17941401898860931,
          0.17805886268615723
         ],
         "yaxis": "y"
        },
        {
         "hovertemplate": "phase=val<br>epoch=%{x}<br>mae=%{y}<extra></extra>",
         "legendgroup": "val",
         "marker": {
          "color": "#EF553B",
          "symbol": "circle"
         },
         "mode": "lines",
         "name": "val",
         "orientation": "v",
         "showlegend": false,
         "type": "scatter",
         "x": [
          3,
          4,
          5,
          6,
          7,
          8,
          9,
          10,
          11,
          12,
          13,
          14,
          15,
          16,
          17,
          18,
          19,
          20,
          21,
          22,
          23,
          24,
          25,
          26,
          27,
          28,
          29,
          30,
          31,
          32,
          33,
          34,
          35
         ],
         "xaxis": "x",
         "y": [
          0.2456558793783188,
          0.26667359471321106,
          0.25292667746543884,
          0.23432917892932892,
          0.25526145100593567,
          0.23040838539600372,
          0.23923790454864502,
          0.214450404047966,
          0.216477632522583,
          0.21378865838050842,
          0.21194680035114288,
          0.21060161292552948,
          0.20709781348705292,
          0.20866551995277405,
          0.20656757056713104,
          0.2045225203037262,
          0.20275035500526428,
          0.20167705416679382,
          0.21220776438713074,
          0.2046714723110199,
          0.1993517428636551,
          0.2024906724691391,
          0.20360881090164185,
          0.20030783116817474,
          0.19967718422412872,
          0.20168602466583252,
          0.20115602016448975,
          0.19660283625125885,
          0.20278400182724,
          0.20969726145267487,
          0.19775138795375824,
          0.20546676218509674,
          0.19965924322605133
         ],
         "yaxis": "y"
        },
        {
         "hovertemplate": "phase=train<br>epoch=%{x}<br>mse=%{y}<extra></extra>",
         "legendgroup": "train",
         "marker": {
          "color": "#636efa",
          "symbol": "circle"
         },
         "mode": "lines",
         "name": "train",
         "orientation": "v",
         "showlegend": false,
         "type": "scatter",
         "x": [
          3,
          4,
          5,
          6,
          7,
          8,
          9,
          10,
          11,
          12,
          13,
          14,
          15,
          16,
          17,
          18,
          19,
          20,
          21,
          22,
          23,
          24,
          25,
          26,
          27,
          28,
          29,
          30,
          31,
          32,
          33,
          34,
          35
         ],
         "xaxis": "x2",
         "y": [
          0.15039175748825073,
          0.1268453150987625,
          0.11510692536830902,
          0.10565871745347977,
          0.09889283031225204,
          0.09554149955511093,
          0.09022829681634903,
          0.08556216955184937,
          0.08305657655000687,
          0.08026967942714691,
          0.07724152505397797,
          0.07656147330999374,
          0.07378210872411728,
          0.07269684970378876,
          0.0704648420214653,
          0.06994076818227768,
          0.0679326131939888,
          0.06697926670312881,
          0.06599576771259308,
          0.06431541591882706,
          0.0635305792093277,
          0.06201134994626045,
          0.06249123066663742,
          0.06004389375448227,
          0.05926577374339104,
          0.05848664417862892,
          0.059348832815885544,
          0.05902935191988945,
          0.057584453374147415,
          0.056478843092918396,
          0.055747777223587036,
          0.055617231875658035,
          0.054842259734869
         ],
         "yaxis": "y2"
        },
        {
         "hovertemplate": "phase=val<br>epoch=%{x}<br>mse=%{y}<extra></extra>",
         "legendgroup": "val",
         "marker": {
          "color": "#EF553B",
          "symbol": "circle"
         },
         "mode": "lines",
         "name": "val",
         "orientation": "v",
         "showlegend": false,
         "type": "scatter",
         "x": [
          3,
          4,
          5,
          6,
          7,
          8,
          9,
          10,
          11,
          12,
          13,
          14,
          15,
          16,
          17,
          18,
          19,
          20,
          21,
          22,
          23,
          24,
          25,
          26,
          27,
          28,
          29,
          30,
          31,
          32,
          33,
          34,
          35
         ],
         "xaxis": "x2",
         "y": [
          0.10462075471878052,
          0.11871911585330963,
          0.10885626077651978,
          0.09506575763225555,
          0.10918048024177551,
          0.09131626784801483,
          0.0967017114162445,
          0.08128216862678528,
          0.08213714510202408,
          0.08085273951292038,
          0.07883983105421066,
          0.07843665033578873,
          0.07620938122272491,
          0.07713259756565094,
          0.07573356479406357,
          0.07447152584791183,
          0.07361564040184021,
          0.07258794456720352,
          0.0782240554690361,
          0.07430743426084518,
          0.0710621178150177,
          0.07294022291898727,
          0.07368922978639603,
          0.0716286301612854,
          0.07094242423772812,
          0.07250907272100449,
          0.07194369286298752,
          0.06938415765762329,
          0.07319734245538712,
          0.07751087844371796,
          0.06984270364046097,
          0.07459985464811325,
          0.07095692306756973
         ],
         "yaxis": "y2"
        }
       ],
       "layout": {
        "annotations": [
         {
          "font": {
           "size": 16
          },
          "showarrow": false,
          "text": "mae",
          "x": 0.225,
          "xanchor": "center",
          "xref": "paper",
          "y": 1,
          "yanchor": "bottom",
          "yref": "paper"
         },
         {
          "font": {
           "size": 16
          },
          "showarrow": false,
          "text": "mse",
          "x": 0.775,
          "xanchor": "center",
          "xref": "paper",
          "y": 1,
          "yanchor": "bottom",
          "yref": "paper"
         }
        ],
        "height": 600,
        "showlegend": true,
        "template": {
         "data": {
          "bar": [
           {
            "error_x": {
             "color": "#2a3f5f"
            },
            "error_y": {
             "color": "#2a3f5f"
            },
            "marker": {
             "line": {
              "color": "#E5ECF6",
              "width": 0.5
             },
             "pattern": {
              "fillmode": "overlay",
              "size": 10,
              "solidity": 0.2
             }
            },
            "type": "bar"
           }
          ],
          "barpolar": [
           {
            "marker": {
             "line": {
              "color": "#E5ECF6",
              "width": 0.5
             },
             "pattern": {
              "fillmode": "overlay",
              "size": 10,
              "solidity": 0.2
             }
            },
            "type": "barpolar"
           }
          ],
          "carpet": [
           {
            "aaxis": {
             "endlinecolor": "#2a3f5f",
             "gridcolor": "white",
             "linecolor": "white",
             "minorgridcolor": "white",
             "startlinecolor": "#2a3f5f"
            },
            "baxis": {
             "endlinecolor": "#2a3f5f",
             "gridcolor": "white",
             "linecolor": "white",
             "minorgridcolor": "white",
             "startlinecolor": "#2a3f5f"
            },
            "type": "carpet"
           }
          ],
          "choropleth": [
           {
            "colorbar": {
             "outlinewidth": 0,
             "ticks": ""
            },
            "type": "choropleth"
           }
          ],
          "contour": [
           {
            "colorbar": {
             "outlinewidth": 0,
             "ticks": ""
            },
            "colorscale": [
             [
              0,
              "#0d0887"
             ],
             [
              0.1111111111111111,
              "#46039f"
             ],
             [
              0.2222222222222222,
              "#7201a8"
             ],
             [
              0.3333333333333333,
              "#9c179e"
             ],
             [
              0.4444444444444444,
              "#bd3786"
             ],
             [
              0.5555555555555556,
              "#d8576b"
             ],
             [
              0.6666666666666666,
              "#ed7953"
             ],
             [
              0.7777777777777778,
              "#fb9f3a"
             ],
             [
              0.8888888888888888,
              "#fdca26"
             ],
             [
              1,
              "#f0f921"
             ]
            ],
            "type": "contour"
           }
          ],
          "contourcarpet": [
           {
            "colorbar": {
             "outlinewidth": 0,
             "ticks": ""
            },
            "type": "contourcarpet"
           }
          ],
          "heatmap": [
           {
            "colorbar": {
             "outlinewidth": 0,
             "ticks": ""
            },
            "colorscale": [
             [
              0,
              "#0d0887"
             ],
             [
              0.1111111111111111,
              "#46039f"
             ],
             [
              0.2222222222222222,
              "#7201a8"
             ],
             [
              0.3333333333333333,
              "#9c179e"
             ],
             [
              0.4444444444444444,
              "#bd3786"
             ],
             [
              0.5555555555555556,
              "#d8576b"
             ],
             [
              0.6666666666666666,
              "#ed7953"
             ],
             [
              0.7777777777777778,
              "#fb9f3a"
             ],
             [
              0.8888888888888888,
              "#fdca26"
             ],
             [
              1,
              "#f0f921"
             ]
            ],
            "type": "heatmap"
           }
          ],
          "heatmapgl": [
           {
            "colorbar": {
             "outlinewidth": 0,
             "ticks": ""
            },
            "colorscale": [
             [
              0,
              "#0d0887"
             ],
             [
              0.1111111111111111,
              "#46039f"
             ],
             [
              0.2222222222222222,
              "#7201a8"
             ],
             [
              0.3333333333333333,
              "#9c179e"
             ],
             [
              0.4444444444444444,
              "#bd3786"
             ],
             [
              0.5555555555555556,
              "#d8576b"
             ],
             [
              0.6666666666666666,
              "#ed7953"
             ],
             [
              0.7777777777777778,
              "#fb9f3a"
             ],
             [
              0.8888888888888888,
              "#fdca26"
             ],
             [
              1,
              "#f0f921"
             ]
            ],
            "type": "heatmapgl"
           }
          ],
          "histogram": [
           {
            "marker": {
             "pattern": {
              "fillmode": "overlay",
              "size": 10,
              "solidity": 0.2
             }
            },
            "type": "histogram"
           }
          ],
          "histogram2d": [
           {
            "colorbar": {
             "outlinewidth": 0,
             "ticks": ""
            },
            "colorscale": [
             [
              0,
              "#0d0887"
             ],
             [
              0.1111111111111111,
              "#46039f"
             ],
             [
              0.2222222222222222,
              "#7201a8"
             ],
             [
              0.3333333333333333,
              "#9c179e"
             ],
             [
              0.4444444444444444,
              "#bd3786"
             ],
             [
              0.5555555555555556,
              "#d8576b"
             ],
             [
              0.6666666666666666,
              "#ed7953"
             ],
             [
              0.7777777777777778,
              "#fb9f3a"
             ],
             [
              0.8888888888888888,
              "#fdca26"
             ],
             [
              1,
              "#f0f921"
             ]
            ],
            "type": "histogram2d"
           }
          ],
          "histogram2dcontour": [
           {
            "colorbar": {
             "outlinewidth": 0,
             "ticks": ""
            },
            "colorscale": [
             [
              0,
              "#0d0887"
             ],
             [
              0.1111111111111111,
              "#46039f"
             ],
             [
              0.2222222222222222,
              "#7201a8"
             ],
             [
              0.3333333333333333,
              "#9c179e"
             ],
             [
              0.4444444444444444,
              "#bd3786"
             ],
             [
              0.5555555555555556,
              "#d8576b"
             ],
             [
              0.6666666666666666,
              "#ed7953"
             ],
             [
              0.7777777777777778,
              "#fb9f3a"
             ],
             [
              0.8888888888888888,
              "#fdca26"
             ],
             [
              1,
              "#f0f921"
             ]
            ],
            "type": "histogram2dcontour"
           }
          ],
          "mesh3d": [
           {
            "colorbar": {
             "outlinewidth": 0,
             "ticks": ""
            },
            "type": "mesh3d"
           }
          ],
          "parcoords": [
           {
            "line": {
             "colorbar": {
              "outlinewidth": 0,
              "ticks": ""
             }
            },
            "type": "parcoords"
           }
          ],
          "pie": [
           {
            "automargin": true,
            "type": "pie"
           }
          ],
          "scatter": [
           {
            "fillpattern": {
             "fillmode": "overlay",
             "size": 10,
             "solidity": 0.2
            },
            "type": "scatter"
           }
          ],
          "scatter3d": [
           {
            "line": {
             "colorbar": {
              "outlinewidth": 0,
              "ticks": ""
             }
            },
            "marker": {
             "colorbar": {
              "outlinewidth": 0,
              "ticks": ""
             }
            },
            "type": "scatter3d"
           }
          ],
          "scattercarpet": [
           {
            "marker": {
             "colorbar": {
              "outlinewidth": 0,
              "ticks": ""
             }
            },
            "type": "scattercarpet"
           }
          ],
          "scattergeo": [
           {
            "marker": {
             "colorbar": {
              "outlinewidth": 0,
              "ticks": ""
             }
            },
            "type": "scattergeo"
           }
          ],
          "scattergl": [
           {
            "marker": {
             "colorbar": {
              "outlinewidth": 0,
              "ticks": ""
             }
            },
            "type": "scattergl"
           }
          ],
          "scattermapbox": [
           {
            "marker": {
             "colorbar": {
              "outlinewidth": 0,
              "ticks": ""
             }
            },
            "type": "scattermapbox"
           }
          ],
          "scatterpolar": [
           {
            "marker": {
             "colorbar": {
              "outlinewidth": 0,
              "ticks": ""
             }
            },
            "type": "scatterpolar"
           }
          ],
          "scatterpolargl": [
           {
            "marker": {
             "colorbar": {
              "outlinewidth": 0,
              "ticks": ""
             }
            },
            "type": "scatterpolargl"
           }
          ],
          "scatterternary": [
           {
            "marker": {
             "colorbar": {
              "outlinewidth": 0,
              "ticks": ""
             }
            },
            "type": "scatterternary"
           }
          ],
          "surface": [
           {
            "colorbar": {
             "outlinewidth": 0,
             "ticks": ""
            },
            "colorscale": [
             [
              0,
              "#0d0887"
             ],
             [
              0.1111111111111111,
              "#46039f"
             ],
             [
              0.2222222222222222,
              "#7201a8"
             ],
             [
              0.3333333333333333,
              "#9c179e"
             ],
             [
              0.4444444444444444,
              "#bd3786"
             ],
             [
              0.5555555555555556,
              "#d8576b"
             ],
             [
              0.6666666666666666,
              "#ed7953"
             ],
             [
              0.7777777777777778,
              "#fb9f3a"
             ],
             [
              0.8888888888888888,
              "#fdca26"
             ],
             [
              1,
              "#f0f921"
             ]
            ],
            "type": "surface"
           }
          ],
          "table": [
           {
            "cells": {
             "fill": {
              "color": "#EBF0F8"
             },
             "line": {
              "color": "white"
             }
            },
            "header": {
             "fill": {
              "color": "#C8D4E3"
             },
             "line": {
              "color": "white"
             }
            },
            "type": "table"
           }
          ]
         },
         "layout": {
          "annotationdefaults": {
           "arrowcolor": "#2a3f5f",
           "arrowhead": 0,
           "arrowwidth": 1
          },
          "autotypenumbers": "strict",
          "coloraxis": {
           "colorbar": {
            "outlinewidth": 0,
            "ticks": ""
           }
          },
          "colorscale": {
           "diverging": [
            [
             0,
             "#8e0152"
            ],
            [
             0.1,
             "#c51b7d"
            ],
            [
             0.2,
             "#de77ae"
            ],
            [
             0.3,
             "#f1b6da"
            ],
            [
             0.4,
             "#fde0ef"
            ],
            [
             0.5,
             "#f7f7f7"
            ],
            [
             0.6,
             "#e6f5d0"
            ],
            [
             0.7,
             "#b8e186"
            ],
            [
             0.8,
             "#7fbc41"
            ],
            [
             0.9,
             "#4d9221"
            ],
            [
             1,
             "#276419"
            ]
           ],
           "sequential": [
            [
             0,
             "#0d0887"
            ],
            [
             0.1111111111111111,
             "#46039f"
            ],
            [
             0.2222222222222222,
             "#7201a8"
            ],
            [
             0.3333333333333333,
             "#9c179e"
            ],
            [
             0.4444444444444444,
             "#bd3786"
            ],
            [
             0.5555555555555556,
             "#d8576b"
            ],
            [
             0.6666666666666666,
             "#ed7953"
            ],
            [
             0.7777777777777778,
             "#fb9f3a"
            ],
            [
             0.8888888888888888,
             "#fdca26"
            ],
            [
             1,
             "#f0f921"
            ]
           ],
           "sequentialminus": [
            [
             0,
             "#0d0887"
            ],
            [
             0.1111111111111111,
             "#46039f"
            ],
            [
             0.2222222222222222,
             "#7201a8"
            ],
            [
             0.3333333333333333,
             "#9c179e"
            ],
            [
             0.4444444444444444,
             "#bd3786"
            ],
            [
             0.5555555555555556,
             "#d8576b"
            ],
            [
             0.6666666666666666,
             "#ed7953"
            ],
            [
             0.7777777777777778,
             "#fb9f3a"
            ],
            [
             0.8888888888888888,
             "#fdca26"
            ],
            [
             1,
             "#f0f921"
            ]
           ]
          },
          "colorway": [
           "#636efa",
           "#EF553B",
           "#00cc96",
           "#ab63fa",
           "#FFA15A",
           "#19d3f3",
           "#FF6692",
           "#B6E880",
           "#FF97FF",
           "#FECB52"
          ],
          "font": {
           "color": "#2a3f5f"
          },
          "geo": {
           "bgcolor": "white",
           "lakecolor": "white",
           "landcolor": "#E5ECF6",
           "showlakes": true,
           "showland": true,
           "subunitcolor": "white"
          },
          "hoverlabel": {
           "align": "left"
          },
          "hovermode": "closest",
          "mapbox": {
           "style": "light"
          },
          "paper_bgcolor": "white",
          "plot_bgcolor": "#E5ECF6",
          "polar": {
           "angularaxis": {
            "gridcolor": "white",
            "linecolor": "white",
            "ticks": ""
           },
           "bgcolor": "#E5ECF6",
           "radialaxis": {
            "gridcolor": "white",
            "linecolor": "white",
            "ticks": ""
           }
          },
          "scene": {
           "xaxis": {
            "backgroundcolor": "#E5ECF6",
            "gridcolor": "white",
            "gridwidth": 2,
            "linecolor": "white",
            "showbackground": true,
            "ticks": "",
            "zerolinecolor": "white"
           },
           "yaxis": {
            "backgroundcolor": "#E5ECF6",
            "gridcolor": "white",
            "gridwidth": 2,
            "linecolor": "white",
            "showbackground": true,
            "ticks": "",
            "zerolinecolor": "white"
           },
           "zaxis": {
            "backgroundcolor": "#E5ECF6",
            "gridcolor": "white",
            "gridwidth": 2,
            "linecolor": "white",
            "showbackground": true,
            "ticks": "",
            "zerolinecolor": "white"
           }
          },
          "shapedefaults": {
           "line": {
            "color": "#2a3f5f"
           }
          },
          "ternary": {
           "aaxis": {
            "gridcolor": "white",
            "linecolor": "white",
            "ticks": ""
           },
           "baxis": {
            "gridcolor": "white",
            "linecolor": "white",
            "ticks": ""
           },
           "bgcolor": "#E5ECF6",
           "caxis": {
            "gridcolor": "white",
            "linecolor": "white",
            "ticks": ""
           }
          },
          "title": {
           "x": 0.05
          },
          "xaxis": {
           "automargin": true,
           "gridcolor": "white",
           "linecolor": "white",
           "ticks": "",
           "title": {
            "standoff": 15
           },
           "zerolinecolor": "white",
           "zerolinewidth": 2
          },
          "yaxis": {
           "automargin": true,
           "gridcolor": "white",
           "linecolor": "white",
           "ticks": "",
           "title": {
            "standoff": 15
           },
           "zerolinecolor": "white",
           "zerolinewidth": 2
          }
         }
        },
        "width": 1000,
        "xaxis": {
         "anchor": "y",
         "domain": [
          0,
          0.45
         ]
        },
        "xaxis2": {
         "anchor": "y2",
         "domain": [
          0.55,
          1
         ]
        },
        "yaxis": {
         "anchor": "x",
         "domain": [
          0,
          1
         ]
        },
        "yaxis2": {
         "anchor": "x2",
         "domain": [
          0,
          1
         ]
        }
       }
      }
     },
     "metadata": {},
     "output_type": "display_data"
    }
   ],
   "source": [
    "plotter.draw_no_widget()"
   ]
  },
  {
   "cell_type": "markdown",
   "metadata": {},
   "source": [
    "#### with attention"
   ]
  },
  {
   "cell_type": "code",
   "execution_count": 11,
   "metadata": {},
   "outputs": [],
   "source": [
    "def collate_fn_with_mask(entries, PAD_IX):\n",
    "    texts = {}\n",
    "    for col in [\"title\", \"descr\"]:\n",
    "        texts[col] = as_matrix([entry[0].pop(col) for entry in entries], PAD_IX=PAD_IX)\n",
    "        texts[f\"{col}_mask\"] = texts[col] == PAD_IX\n",
    "             \n",
    "    ret = default_collate(entries)\n",
    "    ret[0][\"cat\"] = ret[0][\"cat\"].to(torch.float32)\n",
    "    ret[0] |= texts\n",
    "    return ret"
   ]
  },
  {
   "cell_type": "code",
   "execution_count": 12,
   "metadata": {},
   "outputs": [],
   "source": [
    "import gensim.downloader as api\n",
    "embedding_model = api.load('glove-twitter-100')\n",
    "\n",
    "num_of_words = embedding_model.vectors.shape[0]\n",
    "PAD_IX, UNK_IX = num_of_words, num_of_words + 1\n",
    "token_to_id = embedding_model.key_to_index"
   ]
  },
  {
   "cell_type": "code",
   "execution_count": 13,
   "metadata": {},
   "outputs": [],
   "source": [
    "train_dataset = MyDataset(data_train, token_to_id, UNK_IX)\n",
    "val_dataset = MyDataset(data_val, token_to_id, UNK_IX)\n",
    "test_dataset = MyDataset(data_test, token_to_id, UNK_IX)"
   ]
  },
  {
   "cell_type": "code",
   "execution_count": 14,
   "metadata": {},
   "outputs": [],
   "source": [
    "from functools import partial\n",
    "batch_size = 256\n",
    "config = dict(collate_fn=partial(collate_fn_with_mask, PAD_IX=PAD_IX), num_workers=12)\n",
    "train_loader = DataLoader(train_dataset, batch_size, shuffle=True, **config)\n",
    "val_loader = DataLoader(val_dataset, batch_size, shuffle=False, **config)\n",
    "test_loader = DataLoader(test_dataset, batch_size, shuffle=False, **config)"
   ]
  },
  {
   "cell_type": "code",
   "execution_count": 32,
   "metadata": {},
   "outputs": [],
   "source": [
    "class AttentivePooling(nn.Module):\n",
    "    def __init__(self, num_channels, num_heads, output_dim):\n",
    "        super().__init__()\n",
    "        assert not output_dim % num_heads\n",
    "        self.head_size = output_dim // num_heads\n",
    "        self.num_heads = num_heads\n",
    "        self.pre_attention = nn.Sequential(\n",
    "            nn.BatchNorm1d(num_channels),\n",
    "            nn.ReLU()\n",
    "        )\n",
    "        self.attention_weights = nn.Linear(num_channels, num_heads)\n",
    "        self.values = nn.Linear(num_channels, output_dim)\n",
    "        \n",
    "    def forward(self, X: torch.Tensor, mask):\n",
    "        # X: B x C x L -> B x OutputDim x 1\n",
    "        X = X.permute((0, 2, 1))\n",
    "        att_weights = self.attention_weights(X)\n",
    "        att_weights[mask] =  -torch.inf\n",
    "        att_weights = att_weights.softmax(1)\n",
    "        \n",
    "        values = self.values(X)\n",
    "        pool_results = []\n",
    "        values = values.permute((0, 2, 1))\n",
    "        for i in range(self.num_heads):\n",
    "            pool_results.append(values[:, self.head_size * i : self.head_size * (i + 1), :] @ \\\n",
    "                                att_weights[..., i:i+1])\n",
    "        pool_results = torch.hstack(pool_results).squeeze(-1)\n",
    "        pool_results[pool_results.isnan()] = 0\n",
    "        return pool_results\n",
    "\n",
    "class PredictionWithADHD(nn.Module):\n",
    "    def __init__(self, n_cat_features=len(categorical_vectorizer.vocabulary_),\n",
    "                 hid_size=64, num_heads=3, *, embedding_layer):\n",
    "        super().__init__()\n",
    "        self.embedding_dim = embedding_layer.embedding_dim\n",
    "        \n",
    "        self.title_before_pooling = nn.Sequential(\n",
    "            embedding_layer,\n",
    "            Apply(torch.permute, (0, 2, 1)),\n",
    "            nn.Conv1d(self.embedding_dim, hid_size, 3)\n",
    "        )\n",
    "        self.title_pooling = AttentivePooling(hid_size, num_heads, hid_size * num_heads)\n",
    "        \n",
    "        self.descr_before_pooling = nn.Sequential(\n",
    "            embedding_layer,\n",
    "            Apply(torch.permute, (0, 2, 1)),\n",
    "            nn.Conv1d(self.embedding_dim, hid_size, 5)\n",
    "        )\n",
    "        self.descr_pooling = AttentivePooling(hid_size, num_heads, hid_size * num_heads)\n",
    "        \n",
    "        self.cat_encoder = nn.Sequential(\n",
    "            nn.Linear(n_cat_features, hid_size, bias=False),\n",
    "            nn.BatchNorm1d(hid_size),\n",
    "            nn.ReLU(),\n",
    "            nn.Linear(hid_size, hid_size, bias=False)\n",
    "        )\n",
    "        outp_features = hid_size*num_heads*2 + hid_size\n",
    "        \n",
    "        self.output = nn.Sequential(\n",
    "            nn.BatchNorm1d(outp_features),\n",
    "            nn.ReLU(),\n",
    "            nn.Dropout(.2),\n",
    "            nn.Linear(outp_features, 1024, bias=False),\n",
    "            nn.BatchNorm1d(1024),\n",
    "            nn.ReLU(),\n",
    "            nn.Dropout(.2),\n",
    "            nn.Linear(1024, 1024, bias=False),\n",
    "            nn.BatchNorm1d(1024),\n",
    "            nn.ReLU(),\n",
    "            nn.Dropout(.2),\n",
    "            nn.Linear(1024, 1),\n",
    "            Apply(torch.squeeze)\n",
    "        )\n",
    "        \n",
    "    def forward(self, batch: dict[str, torch.TensorType]):\n",
    "        title_enc = self.title_before_pooling(batch[\"title\"])\n",
    "        title_enc = self.title_pooling(title_enc, batch[\"title_mask\"][:, 1:-1])\n",
    "        \n",
    "        descr_enc = self.descr_before_pooling(batch[\"descr\"])\n",
    "        descr_enc = self.descr_pooling(descr_enc, batch[\"descr_mask\"][:, 2:-2])\n",
    "        \n",
    "        cat_enc = self.cat_encoder(batch[\"cat\"])\n",
    "        \n",
    "        concat = torch.cat([title_enc, descr_enc, cat_enc], axis=1)\n",
    "        return self.output(concat)\n",
    "    \n",
    "    def predict(self, batch):\n",
    "        return self.forward(batch)"
   ]
  },
  {
   "cell_type": "code",
   "execution_count": 33,
   "metadata": {},
   "outputs": [],
   "source": [
    "embedding_layer = nn.Embedding.from_pretrained(torch.vstack([\n",
    "    torch.tensor(embedding_model.vectors),\n",
    "    torch.randn((2, embedding_model.vector_size))\n",
    "]))\n",
    "\n",
    "model = PredictionWithADHD(n_cat_features=len(categorical_vectorizer.vocabulary_),\n",
    "                                embedding_layer=embedding_layer)\n",
    "model.to(device)\n",
    "\n",
    "loss_fn = nn.MSELoss(reduction='sum')\n",
    "state = State(model=model,\n",
    "              optimizer=torch.optim.Adam(model.parameters(), lr=1e-4),\n",
    "              history=History(drop_query=\"epoch < 3\"),\n",
    "              path=\"storage/hw2_attention.pth\")\n",
    "\n",
    "stopper = EarlyStopper(state=state, patience=5, loss=\"mse\")"
   ]
  },
  {
   "cell_type": "code",
   "execution_count": 34,
   "metadata": {},
   "outputs": [
    {
     "data": {
      "application/vnd.jupyter.widget-view+json": {
       "model_id": "aab11d87bbca4d7ab0525161f3a13942",
       "version_major": 2,
       "version_minor": 0
      },
      "text/plain": [
       "epoch:   0%|          | 0/100 [00:00<?, ?it/s]"
      ]
     },
     "metadata": {},
     "output_type": "display_data"
    },
    {
     "data": {
      "application/vnd.jupyter.widget-view+json": {
       "model_id": "86c7b3bacc934a85bf41bea002b4278f",
       "version_major": 2,
       "version_minor": 0
      },
      "text/plain": [
       "  0%|          | 0/1 [00:00<?, ?it/s]"
      ]
     },
     "metadata": {},
     "output_type": "display_data"
    },
    {
     "data": {
      "application/vnd.jupyter.widget-view+json": {
       "model_id": "55cc4569bc054a33bb3ad152eaf11c53",
       "version_major": 2,
       "version_minor": 0
      },
      "text/plain": [
       "  0%|          | 0/1 [00:00<?, ?it/s]"
      ]
     },
     "metadata": {},
     "output_type": "display_data"
    }
   ],
   "source": [
    "%%reprint\n",
    "torch.cuda.empty_cache()\n",
    "num_epochs = 100\n",
    "history, model, opt = state.history, state.model, state.optimizer\n",
    "plotter = Plotter(bound_history=history)\n",
    "\n",
    "params = dict(\n",
    "    model=model, optim=opt, device=device,\n",
    "    loss_fn=loss_fn,\n",
    "    metrics=[(\"mse\", *mean_metric(lambda y_pred, y_true: (y_pred - y_true).norm(2)**2)),\n",
    "             (\"mae\", *mean_metric(lambda y_pred, y_true: (y_pred - y_true).norm(1)))]\n",
    ")\n",
    "\n",
    "for _ in state.history.range(num_epochs, stopper, do_tqdm=True):\n",
    "    tr = loopa(**params, dataloader=train_loader, is_train=True)\n",
    "    val = loopa(**params, dataloader=val_loader, is_train=False)\n",
    "    history.push_epoch(tr, val)\n",
    "    plotter.plot()"
   ]
  },
  {
   "cell_type": "markdown",
   "metadata": {},
   "source": [
    "### trash bin"
   ]
  },
  {
   "cell_type": "code",
   "execution_count": null,
   "metadata": {},
   "outputs": [
    {
     "data": {
      "text/html": [
       "<style>#sk-container-id-1 {color: black;}#sk-container-id-1 pre{padding: 0;}#sk-container-id-1 div.sk-toggleable {background-color: white;}#sk-container-id-1 label.sk-toggleable__label {cursor: pointer;display: block;width: 100%;margin-bottom: 0;padding: 0.3em;box-sizing: border-box;text-align: center;}#sk-container-id-1 label.sk-toggleable__label-arrow:before {content: \"▸\";float: left;margin-right: 0.25em;color: #696969;}#sk-container-id-1 label.sk-toggleable__label-arrow:hover:before {color: black;}#sk-container-id-1 div.sk-estimator:hover label.sk-toggleable__label-arrow:before {color: black;}#sk-container-id-1 div.sk-toggleable__content {max-height: 0;max-width: 0;overflow: hidden;text-align: left;background-color: #f0f8ff;}#sk-container-id-1 div.sk-toggleable__content pre {margin: 0.2em;color: black;border-radius: 0.25em;background-color: #f0f8ff;}#sk-container-id-1 input.sk-toggleable__control:checked~div.sk-toggleable__content {max-height: 200px;max-width: 100%;overflow: auto;}#sk-container-id-1 input.sk-toggleable__control:checked~label.sk-toggleable__label-arrow:before {content: \"▾\";}#sk-container-id-1 div.sk-estimator input.sk-toggleable__control:checked~label.sk-toggleable__label {background-color: #d4ebff;}#sk-container-id-1 div.sk-label input.sk-toggleable__control:checked~label.sk-toggleable__label {background-color: #d4ebff;}#sk-container-id-1 input.sk-hidden--visually {border: 0;clip: rect(1px 1px 1px 1px);clip: rect(1px, 1px, 1px, 1px);height: 1px;margin: -1px;overflow: hidden;padding: 0;position: absolute;width: 1px;}#sk-container-id-1 div.sk-estimator {font-family: monospace;background-color: #f0f8ff;border: 1px dotted black;border-radius: 0.25em;box-sizing: border-box;margin-bottom: 0.5em;}#sk-container-id-1 div.sk-estimator:hover {background-color: #d4ebff;}#sk-container-id-1 div.sk-parallel-item::after {content: \"\";width: 100%;border-bottom: 1px solid gray;flex-grow: 1;}#sk-container-id-1 div.sk-label:hover label.sk-toggleable__label {background-color: #d4ebff;}#sk-container-id-1 div.sk-serial::before {content: \"\";position: absolute;border-left: 1px solid gray;box-sizing: border-box;top: 0;bottom: 0;left: 50%;z-index: 0;}#sk-container-id-1 div.sk-serial {display: flex;flex-direction: column;align-items: center;background-color: white;padding-right: 0.2em;padding-left: 0.2em;position: relative;}#sk-container-id-1 div.sk-item {position: relative;z-index: 1;}#sk-container-id-1 div.sk-parallel {display: flex;align-items: stretch;justify-content: center;background-color: white;position: relative;}#sk-container-id-1 div.sk-item::before, #sk-container-id-1 div.sk-parallel-item::before {content: \"\";position: absolute;border-left: 1px solid gray;box-sizing: border-box;top: 0;bottom: 0;left: 50%;z-index: -1;}#sk-container-id-1 div.sk-parallel-item {display: flex;flex-direction: column;z-index: 1;position: relative;background-color: white;}#sk-container-id-1 div.sk-parallel-item:first-child::after {align-self: flex-end;width: 50%;}#sk-container-id-1 div.sk-parallel-item:last-child::after {align-self: flex-start;width: 50%;}#sk-container-id-1 div.sk-parallel-item:only-child::after {width: 0;}#sk-container-id-1 div.sk-dashed-wrapped {border: 1px dashed gray;margin: 0 0.4em 0.5em 0.4em;box-sizing: border-box;padding-bottom: 0.4em;background-color: white;}#sk-container-id-1 div.sk-label label {font-family: monospace;font-weight: bold;display: inline-block;line-height: 1.2em;}#sk-container-id-1 div.sk-label-container {text-align: center;}#sk-container-id-1 div.sk-container {/* jupyter's `normalize.less` sets `[hidden] { display: none; }` but bootstrap.min.css set `[hidden] { display: none !important; }` so we also need the `!important` here to be able to override the default hidden behavior on the sphinx rendered scikit-learn.org. See: https://github.com/scikit-learn/scikit-learn/issues/21755 */display: inline-block !important;position: relative;}#sk-container-id-1 div.sk-text-repr-fallback {display: none;}</style><div id=\"sk-container-id-1\" class=\"sk-top-container\"><div class=\"sk-text-repr-fallback\"><pre>DictVectorizer(dtype=&lt;class &#x27;bool&#x27;&gt;, sparse=False)</pre><b>In a Jupyter environment, please rerun this cell to show the HTML representation or trust the notebook. <br />On GitHub, the HTML representation is unable to render, please try loading this page with nbviewer.org.</b></div><div class=\"sk-container\" hidden><div class=\"sk-item\"><div class=\"sk-estimator sk-toggleable\"><input class=\"sk-toggleable__control sk-hidden--visually\" id=\"sk-estimator-id-1\" type=\"checkbox\" checked><label for=\"sk-estimator-id-1\" class=\"sk-toggleable__label sk-toggleable__label-arrow\">DictVectorizer</label><div class=\"sk-toggleable__content\"><pre>DictVectorizer(dtype=&lt;class &#x27;bool&#x27;&gt;, sparse=False)</pre></div></div></div></div></div>"
      ],
      "text/plain": [
       "DictVectorizer(dtype=<class 'bool'>, sparse=False)"
      ]
     },
     "metadata": {},
     "output_type": "display_data"
    }
   ],
   "source": [
    "from sklearn.feature_extraction import DictVectorizer\n",
    "\n",
    "threshold = 5\n",
    "data_train_0 = data_train.copy()\n",
    "one_hot = [\"Category\", \"ContractType\", \"ContractTime\"]\n",
    "embedding = {\"LocationNormalized\": None, \"Company\": None}\n",
    "assert (data_train[one_hot].nunique() == data[one_hot].nunique()).all()\n",
    "\n",
    "for col in embedding:\n",
    "    mask = data_train[col].value_counts() >= threshold\n",
    "    drop = mask.index[mask.values]\n",
    "    data_train[col] = data_train[col].where(data_train[col].isin(drop), \"NaN\")\n",
    "    embedding[col] = data_train[col].unique()\n",
    "    \n",
    "categorical_vectorizer = DictVectorizer(dtype=bool, sparse=False)\n",
    "categorical_vectorizer.fit(data_train[one_hot].apply(dict, axis=1))"
   ]
  },
  {
   "cell_type": "code",
   "execution_count": null,
   "metadata": {},
   "outputs": [],
   "source": [
    "from torch.utils.data.dataloader import Dataset, DataLoader\n",
    "\n",
    "cat_to_idx = {col : map_idx(names)\n",
    "              for col, names in embedding.items() }\n",
    "\n",
    "UNK_IX, PAD_IX = map(token_to_id.get, [UNK, PAD])\n",
    "\n",
    "class MyDataset(Dataset):\n",
    "    def __init__(self, data: pd.DataFrame):\n",
    "        super().__init__()\n",
    "        self.title: list[torch.Tensor]\n",
    "        self.descr: list[torch.Tensor]\n",
    "        self.cat: torch.Tensor\n",
    "        self.cat_emb: torch.Tensor\n",
    "        self.target: torch.Tensor\n",
    "        \n",
    "        self.precompute_data(data)\n",
    "    \n",
    "    def precompute_data(self, data: pd.DataFrame) -> None:\n",
    "        self.title = [torch.tensor([token_to_id.get(word, UNK_IX)\n",
    "                                    for word in seq])\n",
    "                      for seq in data[\"Title\"].str.split()]\n",
    "        self.descr = [torch.tensor([token_to_id.get(word, UNK_IX)\n",
    "                                    for word in seq])\n",
    "                      for seq in data[\"FullDescription\"].str.split()]\n",
    "        \n",
    "        self.cat = torch.tensor(categorical_vectorizer.transform(\n",
    "            data[categorical_columns].apply(dict, axis=1)\n",
    "        ))\n",
    "        \n",
    "        self.cat_emb = torch.tensor([[mapper.get(cat, UNK_IX)\n",
    "                                      for cat in data[col]]\n",
    "                                     for col, mapper in cat_to_idx.items()]).T\n",
    "        self.target = torch.tensor(data[TARGET_COLUMN].values)\n",
    "    \n",
    "    def __len__(self):\n",
    "        return len(self.title)\n",
    "    \n",
    "    def __getitem__(self, idx: int):\n",
    "        x = {attr : getattr(self, attr)[idx] for attr in [\"title\", \"descr\", \"cat\", \"cat_emb\"]}\n",
    "        y = self.target[idx]\n",
    "        return x, y\n",
    "    "
   ]
  },
  {
   "cell_type": "code",
   "execution_count": null,
   "metadata": {},
   "outputs": [],
   "source": [
    "class SalaryPredictor(nn.Module):\n",
    "    def __init__(self, n_tokens=len(tokens), n_cat_features=len(categorical_vectorizer.vocabulary_),\n",
    "                 hid_size=64, encoded_length=64):\n",
    "        super().__init__()\n",
    "        \n",
    "        self.encoded_len = 64\n",
    "        outp_features = hid_size * (3 + len(cat_to_idx))\n",
    "        self.title_encoder = nn.Sequential(\n",
    "            nn.Embedding(n_tokens, self.encoded_len),\n",
    "            Apply(torch.permute, (0, 2, 1)),\n",
    "            nn.Conv1d(self.encoded_len, hid_size, 3),\n",
    "            nn.AdaptiveMaxPool1d(1),\n",
    "            Apply(torch.squeeze, dim=-1)\n",
    "        )\n",
    "        self.description_encoder = nn.Sequential(\n",
    "            nn.Embedding(n_tokens, self.encoded_len),\n",
    "            Apply(torch.permute, (0, 2, 1)),\n",
    "            nn.Conv1d(self.encoded_len, hid_size, 5, ),\n",
    "            nn.AdaptiveMaxPool1d(1),\n",
    "            Apply(torch.squeeze, dim=-1)\n",
    "        )\n",
    "        self.cat_encoder = nn.Sequential(\n",
    "            nn.Linear(n_cat_features, hid_size, bias=False),\n",
    "            nn.BatchNorm1d(hid_size),\n",
    "            nn.ReLU(),\n",
    "            nn.Dropout(.2),\n",
    "            nn.Linear(hid_size, hid_size, bias=False)\n",
    "        )\n",
    "        \n",
    "        for cat, names in cat_to_idx.items():\n",
    "            emb_dim = int(len(names) ** .5)\n",
    "            embedder = nn.Sequential(\n",
    "                nn.Embedding(len(names), emb_dim),\n",
    "                nn.Linear(emb_dim, hid_size, bias=False),\n",
    "                nn.BatchNorm1d(hid_size),\n",
    "                nn.ReLU(),\n",
    "                nn.Dropout(.2),\n",
    "                nn.Linear(hid_size, hid_size, bias=False)\n",
    "            )\n",
    "            setattr(self, f\"cat_embedder_{cat}\", embedder)\n",
    "            \n",
    "        self.output = nn.Sequential(\n",
    "            nn.BatchNorm1d(outp_features),\n",
    "            nn.ReLU(),\n",
    "            nn.Linear(outp_features, outp_features, bias=False),\n",
    "            nn.BatchNorm1d(outp_features),\n",
    "            nn.ReLU(),\n",
    "            nn.Dropout(.2),\n",
    "            nn.Linear(outp_features, 1),\n",
    "            Apply(torch.squeeze)\n",
    "        )\n",
    "        \n",
    "    def forward(self, batch: dict[str, torch.TensorType]):\n",
    "        title_enc = self.title_encoder(batch[\"title\"])\n",
    "        descr_enc = self.description_encoder(batch[\"descr\"])\n",
    "        cat_enc = self.cat_encoder(batch[\"cat\"])\n",
    "        cat_embs = []\n",
    "        for i, cat in enumerate(cat_to_idx):\n",
    "            embedder = getattr(self, f\"cat_embedder_{cat}\")\n",
    "            target = batch[\"cat_emb\"][:, i]\n",
    "            cat_embs.append(embedder(target))\n",
    "        concat = torch.hstack([title_enc, descr_enc, cat_enc, *cat_embs])\n",
    "        return self.output(concat)\n",
    "    \n",
    "    def predict(self, batch):\n",
    "        return self.forward(batch)"
   ]
  },
  {
   "cell_type": "markdown",
   "metadata": {},
   "source": [
    "# Ideas"
   ]
  },
  {
   "cell_type": "markdown",
   "metadata": {},
   "source": [
    "### A short report\n",
    "\n",
    "(In used plots, first 2 epochs are dropped (for better plot scale) and denoted as stars. If you are able to interact with `plotly`, hovering over the stars will show the true value)\n",
    "\n",
    "#### Optimizing (D):\n",
    "\n",
    "1) first step was to create dataloader, which precomputes token indices\n",
    "\n",
    "It didn't work for baseline: time for one epoch decreased from 30 s (in seminar) to 26 s, but the size of `train` also was decreased from 80% to 70% (to allow test set)\n",
    "\n",
    "2) second step was to do early stopping. Implementation is in `EarlyStopping` class.\n",
    "\n",
    "#### Pretrained embeddings (C):\n",
    "\n",
    "`glove-twitter-100` from gensim was used. The first model was like the base model but with replaced embedding layers (both are pointing towards the same layer, initialized from glove). The metrics turned out to be worse, so I <s>started crying</s> removed some layers from the model, namely all dropouts and first batchnorm with relu from the MLP (which works with the concatenated results of 2 convolutions and categorical features).\n",
    "\n",
    "It \"converged\" to a bit better result than baseline: `0.0693` mse vs `0.0743` in baseline, which is, meh. Also, the learning curves were extremely jaggy at the start.\n",
    "\n",
    "The obvios thing to change would be aggregation from the convolution layer, because `GlobalMaxPooling` was used, which doesn't allow good embedding training/finetuning (and `GlobalAveragePooling` just )\n",
    "\n",
    "#### Different pooling(D)\n",
    "First of all, I realized that I haven't use mask for global average pooling, which could've been the reason for its bad performance.\n",
    "\n",
    "In the next model, I used somewhat of an attentive pooling with `k` heads. Convolution results were given to 2 linear layers: one used as attendion values, another as attention weights."
   ]
  },
  {
   "cell_type": "markdown",
   "metadata": {},
   "source": [
    "Static images:"
   ]
  },
  {
   "cell_type": "markdown",
   "metadata": {},
   "source": [
    "## Recommended options\n",
    "\n",
    "#### A) CNN architecture\n",
    "\n",
    "All the tricks you know about dense and convolutional neural networks apply here as well.\n",
    "* Dropout. Nuff said.\n",
    "* Batch Norm. This time it's `nn.BatchNorm*`/`L.BatchNormalization`\n",
    "* Parallel convolution layers. The idea is that you apply several nn.Conv1d to the same embeddings and concatenate output channels.\n",
    "* More layers, more neurons, ya know...\n",
    "\n",
    "\n",
    "#### B) Play with pooling\n",
    "\n",
    "There's more than one way to perform pooling:\n",
    "* Max over time (independently for each feature)\n",
    "* Average over time (excluding PAD)\n",
    "* Softmax-pooling:\n",
    "$$ out_{i, t} = \\sum_t {h_{i,t} \\cdot {{e ^ {h_{i, t}}} \\over \\sum_\\tau e ^ {h_{j, \\tau}} } }$$\n",
    "\n",
    "* Attentive pooling\n",
    "$$ out_{i, t} = \\sum_t {h_{i,t} \\cdot Attn(h_t)}$$\n",
    "\n",
    ", where $$ Attn(h_t) = {{e ^ {NN_{attn}(h_t)}} \\over \\sum_\\tau e ^ {NN_{attn}(h_\\tau)}}  $$\n",
    "and $NN_{attn}$ is a dense layer.\n",
    "\n",
    "The optimal score is usually achieved by concatenating several different poolings, including several attentive pooling with different $NN_{attn}$ (aka multi-headed attention).\n",
    "\n",
    "The catch is that keras layers do not inlude those toys. You will have to [write your own keras layer](https://keras.io/layers/writing-your-own-keras-layers/). Or use pure tensorflow, it might even be easier :)\n",
    "\n",
    "#### C) <s>Fun with words</s>\n",
    "\n",
    "It's not always a good idea to train embeddings from scratch. Here's a few tricks:\n",
    "\n",
    "* Use a pre-trained embeddings from `gensim.downloader.load`. See last lecture.\n",
    "* Start with pre-trained embeddings, then fine-tune them with gradient descent. You may or may not download pre-trained embeddings from [here](http://nlp.stanford.edu/data/glove.6B.zip) and follow this [manual](https://keras.io/examples/nlp/pretrained_word_embeddings/) to initialize your Keras embedding layer with downloaded weights.\n",
    "* Use the same embedding matrix in title and desc vectorizer\n",
    "\n",
    "\n",
    "#### D) Going recurrent\n",
    "\n",
    "We've already learned that recurrent networks can do cool stuff in sequence modelling. Turns out, they're not useless for classification as well. With some tricks of course..\n",
    "\n",
    "* Like convolutional layers, LSTM should be pooled into a fixed-size vector with some of the poolings.\n",
    "* Since you know all the text in advance, use bidirectional RNN\n",
    "  * Run one LSTM from left to right\n",
    "  * Run another in parallel from right to left \n",
    "  * Concatenate their output sequences along unit axis (dim=-1)\n",
    "\n",
    "* It might be good idea to mix convolutions and recurrent layers differently for title and description\n",
    "\n",
    "\n",
    "#### E) <s>Optimizing seriously</s>\n",
    "\n",
    "* You don't necessarily need 100 epochs. Use early stopping. If you've never done this before, take a look at [early stopping callback(keras)](https://keras.io/callbacks/#earlystopping) or in [pytorch(lightning)](https://pytorch-lightning.readthedocs.io/en/latest/common/early_stopping.html).\n",
    "  * In short, train until you notice that validation\n",
    "  * Maintain the best-on-validation snapshot via `model.save(file_name)`\n",
    "  * Plotting learning curves is usually a good idea\n",
    "  \n",
    "Good luck! And may the force be with you!"
   ]
  }
 ],
 "metadata": {
  "kernelspec": {
   "display_name": "Python 3 (ipykernel)",
   "language": "python",
   "name": "python3"
  },
  "language_info": {
   "codemirror_mode": {
    "name": "ipython",
    "version": 3
   },
   "file_extension": ".py",
   "mimetype": "text/x-python",
   "name": "python",
   "nbconvert_exporter": "python",
   "pygments_lexer": "ipython3",
   "version": "3.11.4"
  }
 },
 "nbformat": 4,
 "nbformat_minor": 2
}
